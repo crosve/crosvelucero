{
 "cells": [
  {
   "cell_type": "code",
   "execution_count": 2,
   "id": "146d01a2",
   "metadata": {},
   "outputs": [
    {
     "name": "stdout",
     "output_type": "stream",
     "text": [
      "Note: you may need to restart the kernel to use updated packages.Requirement already satisfied: llama-index-core in c:\\users\\crosve\\desktop\\python testing\\cuda\\lib\\site-packages (0.12.44)\n",
      "Requirement already satisfied: nest-asyncio<2,>=1.5.8 in c:\\users\\crosve\\desktop\\python testing\\cuda\\lib\\site-packages (from llama-index-core) (1.6.0)\n",
      "Requirement already satisfied: banks<3,>=2.0.0 in c:\\users\\crosve\\desktop\\python testing\\cuda\\lib\\site-packages (from llama-index-core) (2.1.3)\n",
      "Requirement already satisfied: networkx>=3.0 in c:\\users\\crosve\\desktop\\python testing\\cuda\\lib\\site-packages (from llama-index-core) (3.3)\n",
      "Requirement already satisfied: tqdm<5,>=4.66.1 in c:\\users\\crosve\\desktop\\python testing\\cuda\\lib\\site-packages (from llama-index-core) (4.67.1)\n",
      "Requirement already satisfied: typing-extensions>=4.5.0 in c:\\users\\crosve\\desktop\\python testing\\cuda\\lib\\site-packages (from llama-index-core) (4.14.0)\n",
      "Requirement already satisfied: tiktoken>=0.7.0 in c:\\users\\crosve\\desktop\\python testing\\cuda\\lib\\site-packages (from llama-index-core) (0.9.0)\n",
      "Requirement already satisfied: wrapt in c:\\users\\crosve\\desktop\\python testing\\cuda\\lib\\site-packages (from llama-index-core) (1.17.2)\n",
      "Requirement already satisfied: typing-inspect>=0.8.0 in c:\\users\\crosve\\desktop\\python testing\\cuda\\lib\\site-packages (from llama-index-core) (0.9.0)\n",
      "Requirement already satisfied: pyyaml>=6.0.1 in c:\\users\\crosve\\desktop\\python testing\\cuda\\lib\\site-packages (from llama-index-core) (6.0.2)\n",
      "Requirement already satisfied: tenacity!=8.4.0,<10.0.0,>=8.2.0 in c:\\users\\crosve\\desktop\\python testing\\cuda\\lib\\site-packages (from llama-index-core) (9.1.2)\n",
      "Requirement already satisfied: llama-index-workflows<2,>=1.0.1 in c:\\users\\crosve\\desktop\\python testing\\cuda\\lib\\site-packages (from llama-index-core) (1.0.1)\n",
      "Requirement already satisfied: httpx in c:\\users\\crosve\\desktop\\python testing\\cuda\\lib\\site-packages (from llama-index-core) (0.28.1)\n",
      "Requirement already satisfied: setuptools>=80.9.0 in c:\\users\\crosve\\desktop\\python testing\\cuda\\lib\\site-packages (from llama-index-core) (80.9.0)\n",
      "Requirement already satisfied: nltk>3.8.1 in c:\\users\\crosve\\desktop\\python testing\\cuda\\lib\\site-packages (from llama-index-core) (3.9.1)\n",
      "Requirement already satisfied: dataclasses-json in c:\\users\\crosve\\desktop\\python testing\\cuda\\lib\\site-packages (from llama-index-core) (0.6.7)\n",
      "Requirement already satisfied: deprecated>=1.2.9.3 in c:\\users\\crosve\\desktop\\python testing\\cuda\\lib\\site-packages (from llama-index-core) (1.2.18)\n",
      "Requirement already satisfied: requests>=2.31.0 in c:\\users\\crosve\\desktop\\python testing\\cuda\\lib\\site-packages (from llama-index-core) (2.32.4)\n",
      "Requirement already satisfied: filetype<2,>=1.2.0 in c:\\users\\crosve\\desktop\\python testing\\cuda\\lib\\site-packages (from llama-index-core) (1.2.0)\n",
      "Requirement already satisfied: dirtyjson<2,>=1.0.8 in c:\\users\\crosve\\desktop\\python testing\\cuda\\lib\\site-packages (from llama-index-core) (1.0.8)\n",
      "Requirement already satisfied: aiosqlite in c:\\users\\crosve\\desktop\\python testing\\cuda\\lib\\site-packages (from llama-index-core) (0.21.0)\n",
      "Requirement already satisfied: fsspec>=2023.5.0 in c:\\users\\crosve\\desktop\\python testing\\cuda\\lib\\site-packages (from llama-index-core) (2024.6.1)\n",
      "Requirement already satisfied: numpy in c:\\users\\crosve\\desktop\\python testing\\cuda\\lib\\site-packages (from llama-index-core) (2.1.2)\n",
      "Requirement already satisfied: pydantic>=2.8.0 in c:\\users\\crosve\\desktop\\python testing\\cuda\\lib\\site-packages (from llama-index-core) (2.11.7)\n",
      "Requirement already satisfied: aiohttp<4,>=3.8.6 in c:\\users\\crosve\\desktop\\python testing\\cuda\\lib\\site-packages (from llama-index-core) (3.12.13)\n",
      "Requirement already satisfied: pillow>=9.0.0 in c:\\users\\crosve\\desktop\\python testing\\cuda\\lib\\site-packages (from llama-index-core) (11.0.0)\n",
      "Requirement already satisfied: sqlalchemy[asyncio]>=1.4.49 in c:\\users\\crosve\\desktop\\python testing\\cuda\\lib\\site-packages (from llama-index-core) (2.0.41)\n",
      "Requirement already satisfied: async-timeout<6.0,>=4.0 in c:\\users\\crosve\\desktop\\python testing\\cuda\\lib\\site-packages (from aiohttp<4,>=3.8.6->llama-index-core) (5.0.1)\n",
      "Requirement already satisfied: aiohappyeyeballs>=2.5.0 in c:\\users\\crosve\\desktop\\python testing\\cuda\\lib\\site-packages (from aiohttp<4,>=3.8.6->llama-index-core) (2.6.1)\n",
      "Requirement already satisfied: yarl<2.0,>=1.17.0 in c:\\users\\crosve\\desktop\\python testing\\cuda\\lib\\site-packages (from aiohttp<4,>=3.8.6->llama-index-core) (1.20.1)\n",
      "Requirement already satisfied: attrs>=17.3.0 in c:\\users\\crosve\\desktop\\python testing\\cuda\\lib\\site-packages (from aiohttp<4,>=3.8.6->llama-index-core) (25.3.0)\n",
      "Requirement already satisfied: multidict<7.0,>=4.5 in c:\\users\\crosve\\desktop\\python testing\\cuda\\lib\\site-packages (from aiohttp<4,>=3.8.6->llama-index-core) (6.6.2)\n",
      "Requirement already satisfied: aiosignal>=1.1.2 in c:\\users\\crosve\\desktop\\python testing\\cuda\\lib\\site-packages (from aiohttp<4,>=3.8.6->llama-index-core) (1.3.2)\n",
      "Requirement already satisfied: propcache>=0.2.0 in c:\\users\\crosve\\desktop\\python testing\\cuda\\lib\\site-packages (from aiohttp<4,>=3.8.6->llama-index-core) (0.3.2)\n",
      "Requirement already satisfied: frozenlist>=1.1.1 in c:\\users\\crosve\\desktop\\python testing\\cuda\\lib\\site-packages (from aiohttp<4,>=3.8.6->llama-index-core) (1.7.0)\n",
      "Requirement already satisfied: jinja2 in c:\\users\\crosve\\desktop\\python testing\\cuda\\lib\\site-packages (from banks<3,>=2.0.0->llama-index-core) (3.1.6)\n",
      "Requirement already satisfied: griffe in c:\\users\\crosve\\desktop\\python testing\\cuda\\lib\\site-packages (from banks<3,>=2.0.0->llama-index-core) (1.7.3)\n",
      "Requirement already satisfied: platformdirs in c:\\users\\crosve\\desktop\\python testing\\cuda\\lib\\site-packages (from banks<3,>=2.0.0->llama-index-core) (4.3.8)\n",
      "Requirement already satisfied: llama-index-instrumentation>=0.1.0 in c:\\users\\crosve\\desktop\\python testing\\cuda\\lib\\site-packages (from llama-index-workflows<2,>=1.0.1->llama-index-core) (0.2.0)\n",
      "Requirement already satisfied: regex>=2021.8.3 in c:\\users\\crosve\\desktop\\python testing\\cuda\\lib\\site-packages (from nltk>3.8.1->llama-index-core) (2024.11.6)\n",
      "Requirement already satisfied: joblib in c:\\users\\crosve\\desktop\\python testing\\cuda\\lib\\site-packages (from nltk>3.8.1->llama-index-core) (1.5.1)\n",
      "Requirement already satisfied: click in c:\\users\\crosve\\desktop\\python testing\\cuda\\lib\\site-packages (from nltk>3.8.1->llama-index-core) (8.2.1)\n",
      "Requirement already satisfied: annotated-types>=0.6.0 in c:\\users\\crosve\\desktop\\python testing\\cuda\\lib\\site-packages (from pydantic>=2.8.0->llama-index-core) (0.7.0)\n",
      "Requirement already satisfied: typing-inspection>=0.4.0 in c:\\users\\crosve\\desktop\\python testing\\cuda\\lib\\site-packages (from pydantic>=2.8.0->llama-index-core) (0.4.1)\n",
      "Requirement already satisfied: pydantic-core==2.33.2 in c:\\users\\crosve\\desktop\\python testing\\cuda\\lib\\site-packages (from pydantic>=2.8.0->llama-index-core) (2.33.2)\n",
      "Requirement already satisfied: idna<4,>=2.5 in c:\\users\\crosve\\desktop\\python testing\\cuda\\lib\\site-packages (from requests>=2.31.0->llama-index-core) (3.10)\n",
      "Requirement already satisfied: certifi>=2017.4.17 in c:\\users\\crosve\\desktop\\python testing\\cuda\\lib\\site-packages (from requests>=2.31.0->llama-index-core) (2025.6.15)\n",
      "Requirement already satisfied: urllib3<3,>=1.21.1 in c:\\users\\crosve\\desktop\\python testing\\cuda\\lib\\site-packages (from requests>=2.31.0->llama-index-core) (2.5.0)\n",
      "Requirement already satisfied: charset_normalizer<4,>=2 in c:\\users\\crosve\\desktop\\python testing\\cuda\\lib\\site-packages (from requests>=2.31.0->llama-index-core) (3.4.2)\n",
      "Requirement already satisfied: greenlet>=1 in c:\\users\\crosve\\desktop\\python testing\\cuda\\lib\\site-packages (from sqlalchemy[asyncio]>=1.4.49->llama-index-core) (3.2.3)\n",
      "Requirement already satisfied: colorama in c:\\users\\crosve\\desktop\\python testing\\cuda\\lib\\site-packages (from tqdm<5,>=4.66.1->llama-index-core) (0.4.6)\n",
      "Requirement already satisfied: mypy-extensions>=0.3.0 in c:\\users\\crosve\\desktop\\python testing\\cuda\\lib\\site-packages (from typing-inspect>=0.8.0->llama-index-core) (1.1.0)\n",
      "Requirement already satisfied: marshmallow<4.0.0,>=3.18.0 in c:\\users\\crosve\\desktop\\python testing\\cuda\\lib\\site-packages (from dataclasses-json->llama-index-core) (3.26.1)\n",
      "Requirement already satisfied: packaging>=17.0 in c:\\users\\crosve\\desktop\\python testing\\cuda\\lib\\site-packages (from marshmallow<4.0.0,>=3.18.0->dataclasses-json->llama-index-core) (25.0)\n",
      "Requirement already satisfied: httpcore==1.* in c:\\users\\crosve\\desktop\\python testing\\cuda\\lib\\site-packages (from httpx->llama-index-core) (1.0.9)\n",
      "Requirement already satisfied: anyio in c:\\users\\crosve\\desktop\\python testing\\cuda\\lib\\site-packages (from httpx->llama-index-core) (4.9.0)\n",
      "Requirement already satisfied: h11>=0.16 in c:\\users\\crosve\\desktop\\python testing\\cuda\\lib\\site-packages (from httpcore==1.*->httpx->llama-index-core) (0.16.0)\n",
      "Requirement already satisfied: exceptiongroup>=1.0.2 in c:\\users\\crosve\\desktop\\python testing\\cuda\\lib\\site-packages (from anyio->httpx->llama-index-core) (1.3.0)\n",
      "Requirement already satisfied: sniffio>=1.1 in c:\\users\\crosve\\desktop\\python testing\\cuda\\lib\\site-packages (from anyio->httpx->llama-index-core) (1.3.1)\n",
      "Requirement already satisfied: MarkupSafe>=2.0 in c:\\users\\crosve\\desktop\\python testing\\cuda\\lib\\site-packages (from jinja2->banks<3,>=2.0.0->llama-index-core) (3.0.2)\n",
      "\n"
     ]
    },
    {
     "name": "stderr",
     "output_type": "stream",
     "text": [
      "WARNING: Ignoring invalid distribution -rotobuf (c:\\users\\crosve\\desktop\\python testing\\cuda\\lib\\site-packages)\n",
      "WARNING: Ignoring invalid distribution -rotobuf (c:\\users\\crosve\\desktop\\python testing\\cuda\\lib\\site-packages)\n",
      "WARNING: Ignoring invalid distribution -rotobuf (c:\\users\\crosve\\desktop\\python testing\\cuda\\lib\\site-packages)\n",
      "WARNING: Ignoring invalid distribution -rotobuf (c:\\users\\crosve\\desktop\\python testing\\cuda\\lib\\site-packages)\n",
      "WARNING: Ignoring invalid distribution -rotobuf (c:\\users\\crosve\\desktop\\python testing\\cuda\\lib\\site-packages)\n",
      "WARNING: Ignoring invalid distribution -rotobuf (c:\\users\\crosve\\desktop\\python testing\\cuda\\lib\\site-packages)\n",
      "WARNING: You are using pip version 21.2.3; however, version 25.1.1 is available.\n",
      "You should consider upgrading via the 'c:\\Users\\crosve\\Desktop\\python testing\\cuda\\Scripts\\python.exe -m pip install --upgrade pip' command.\n"
     ]
    }
   ],
   "source": [
    "!pip install llama-index-core\n"
   ]
  },
  {
   "cell_type": "code",
   "execution_count": 3,
   "id": "aed87808",
   "metadata": {},
   "outputs": [
    {
     "name": "stdout",
     "output_type": "stream",
     "text": [
      "Requirement already satisfied: numpy in c:\\users\\crosve\\desktop\\python testing\\cuda\\lib\\site-packages (2.1.2)\n",
      "Requirement already satisfied: llama-index in c:\\users\\crosve\\desktop\\python testing\\cuda\\lib\\site-packages (0.12.44)\n",
      "Requirement already satisfied: google-generativeai in c:\\users\\crosve\\desktop\\python testing\\cuda\\lib\\site-packages (0.8.5)\n",
      "Requirement already satisfied: transformers in c:\\users\\crosve\\desktop\\python testing\\cuda\\lib\\site-packages (4.53.0)\n",
      "Requirement already satisfied: nltk>3.8.1 in c:\\users\\crosve\\desktop\\python testing\\cuda\\lib\\site-packages (from llama-index) (3.9.1)\n",
      "Requirement already satisfied: llama-index-cli<0.5,>=0.4.2 in c:\\users\\crosve\\desktop\\python testing\\cuda\\lib\\site-packages (from llama-index) (0.4.3)\n",
      "Requirement already satisfied: llama-index-multi-modal-llms-openai<0.6,>=0.5.0 in c:\\users\\crosve\\desktop\\python testing\\cuda\\lib\\site-packages (from llama-index) (0.5.1)\n",
      "Requirement already satisfied: llama-index-readers-llama-parse>=0.4.0 in c:\\users\\crosve\\desktop\\python testing\\cuda\\lib\\site-packages (from llama-index) (0.4.0)\n",
      "Requirement already satisfied: llama-index-program-openai<0.4,>=0.3.0 in c:\\users\\crosve\\desktop\\python testing\\cuda\\lib\\site-packages (from llama-index) (0.3.2)\n",
      "Requirement already satisfied: llama-index-llms-openai<0.5,>=0.4.0 in c:\\users\\crosve\\desktop\\python testing\\cuda\\lib\\site-packages (from llama-index) (0.4.7)\n",
      "Requirement already satisfied: llama-index-indices-managed-llama-cloud>=0.4.0 in c:\\users\\crosve\\desktop\\python testing\\cuda\\lib\\site-packages (from llama-index) (0.7.7)\n",
      "Requirement already satisfied: llama-index-embeddings-openai<0.4,>=0.3.0 in c:\\users\\crosve\\desktop\\python testing\\cuda\\lib\\site-packages (from llama-index) (0.3.1)\n",
      "Requirement already satisfied: llama-index-core<0.13,>=0.12.44 in c:\\users\\crosve\\desktop\\python testing\\cuda\\lib\\site-packages (from llama-index) (0.12.44)\n",
      "Requirement already satisfied: llama-index-agent-openai<0.5,>=0.4.0 in c:\\users\\crosve\\desktop\\python testing\\cuda\\lib\\site-packages (from llama-index) (0.4.11)\n",
      "Requirement already satisfied: llama-index-question-gen-openai<0.4,>=0.3.0 in c:\\users\\crosve\\desktop\\python testing\\cuda\\lib\\site-packages (from llama-index) (0.3.1)\n",
      "Requirement already satisfied: llama-index-readers-file<0.5,>=0.4.0 in c:\\users\\crosve\\desktop\\python testing\\cuda\\lib\\site-packages (from llama-index) (0.4.9)\n",
      "Requirement already satisfied: typing-extensions in c:\\users\\crosve\\desktop\\python testing\\cuda\\lib\\site-packages (from google-generativeai) (4.14.0)\n",
      "Requirement already satisfied: google-api-python-client in c:\\users\\crosve\\desktop\\python testing\\cuda\\lib\\site-packages (from google-generativeai) (2.174.0)\n",
      "Requirement already satisfied: tqdm in c:\\users\\crosve\\desktop\\python testing\\cuda\\lib\\site-packages (from google-generativeai) (4.67.1)\n",
      "Requirement already satisfied: google-ai-generativelanguage==0.6.15 in c:\\users\\crosve\\desktop\\python testing\\cuda\\lib\\site-packages (from google-generativeai) (0.6.15)\n",
      "Requirement already satisfied: google-auth>=2.15.0 in c:\\users\\crosve\\desktop\\python testing\\cuda\\lib\\site-packages (from google-generativeai) (2.40.3)\n",
      "Requirement already satisfied: pydantic in c:\\users\\crosve\\desktop\\python testing\\cuda\\lib\\site-packages (from google-generativeai) (2.11.7)\n",
      "Requirement already satisfied: google-api-core in c:\\users\\crosve\\desktop\\python testing\\cuda\\lib\\site-packages (from google-generativeai) (2.25.1)\n",
      "Requirement already satisfied: protobuf in c:\\users\\crosve\\desktop\\python testing\\cuda\\lib\\site-packages (from google-generativeai) (4.25.8)\n",
      "Requirement already satisfied: proto-plus<2.0.0dev,>=1.22.3 in c:\\users\\crosve\\desktop\\python testing\\cuda\\lib\\site-packages (from google-ai-generativelanguage==0.6.15->google-generativeai) (1.26.1)\n",
      "Requirement already satisfied: packaging>=20.0 in c:\\users\\crosve\\desktop\\python testing\\cuda\\lib\\site-packages (from transformers) (25.0)\n",
      "Requirement already satisfied: pyyaml>=5.1 in c:\\users\\crosve\\desktop\\python testing\\cuda\\lib\\site-packages (from transformers) (6.0.2)\n",
      "Requirement already satisfied: tokenizers<0.22,>=0.21 in c:\\users\\crosve\\desktop\\python testing\\cuda\\lib\\site-packages (from transformers) (0.21.2)\n",
      "Requirement already satisfied: safetensors>=0.4.3 in c:\\users\\crosve\\desktop\\python testing\\cuda\\lib\\site-packages (from transformers) (0.5.3)\n",
      "Requirement already satisfied: requests in c:\\users\\crosve\\desktop\\python testing\\cuda\\lib\\site-packages (from transformers) (2.32.4)\n",
      "Requirement already satisfied: huggingface-hub<1.0,>=0.30.0 in c:\\users\\crosve\\desktop\\python testing\\cuda\\lib\\site-packages (from transformers) (0.33.1)\n",
      "Requirement already satisfied: regex!=2019.12.17 in c:\\users\\crosve\\desktop\\python testing\\cuda\\lib\\site-packages (from transformers) (2024.11.6)\n",
      "Requirement already satisfied: filelock in c:\\users\\crosve\\desktop\\python testing\\cuda\\lib\\site-packages (from transformers) (3.13.1)\n",
      "Requirement already satisfied: googleapis-common-protos<2.0.0,>=1.56.2 in c:\\users\\crosve\\desktop\\python testing\\cuda\\lib\\site-packages (from google-api-core->google-generativeai) (1.70.0)\n",
      "Requirement already satisfied: grpcio<2.0.0,>=1.33.2 in c:\\users\\crosve\\desktop\\python testing\\cuda\\lib\\site-packages (from google-api-core->google-generativeai) (1.73.1)\n",
      "Requirement already satisfied: grpcio-status<2.0.0,>=1.33.2 in c:\\users\\crosve\\desktop\\python testing\\cuda\\lib\\site-packages (from google-api-core->google-generativeai) (1.71.2)\n",
      "Requirement already satisfied: pyasn1-modules>=0.2.1 in c:\\users\\crosve\\desktop\\python testing\\cuda\\lib\\site-packages (from google-auth>=2.15.0->google-generativeai) (0.4.2)\n",
      "Requirement already satisfied: rsa<5,>=3.1.4 in c:\\users\\crosve\\desktop\\python testing\\cuda\\lib\\site-packages (from google-auth>=2.15.0->google-generativeai) (4.9.1)\n",
      "Requirement already satisfied: cachetools<6.0,>=2.0.0 in c:\\users\\crosve\\desktop\\python testing\\cuda\\lib\\site-packages (from google-auth>=2.15.0->google-generativeai) (5.5.2)\n",
      "Collecting protobuf\n",
      "  Using cached protobuf-5.29.5-cp310-abi3-win_amd64.whl (434 kB)\n",
      "Requirement already satisfied: fsspec>=2023.5.0 in c:\\users\\crosve\\desktop\\python testing\\cuda\\lib\\site-packages (from huggingface-hub<1.0,>=0.30.0->transformers) (2024.6.1)\n",
      "Requirement already satisfied: openai>=1.14.0 in c:\\users\\crosve\\desktop\\python testing\\cuda\\lib\\site-packages (from llama-index-agent-openai<0.5,>=0.4.0->llama-index) (1.93.0)\n",
      "Requirement already satisfied: filetype<2,>=1.2.0 in c:\\users\\crosve\\desktop\\python testing\\cuda\\lib\\site-packages (from llama-index-core<0.13,>=0.12.44->llama-index) (1.2.0)\n",
      "Requirement already satisfied: llama-index-workflows<2,>=1.0.1 in c:\\users\\crosve\\desktop\\python testing\\cuda\\lib\\site-packages (from llama-index-core<0.13,>=0.12.44->llama-index) (1.0.1)\n",
      "Requirement already satisfied: nest-asyncio<2,>=1.5.8 in c:\\users\\crosve\\desktop\\python testing\\cuda\\lib\\site-packages (from llama-index-core<0.13,>=0.12.44->llama-index) (1.6.0)\n",
      "Requirement already satisfied: deprecated>=1.2.9.3 in c:\\users\\crosve\\desktop\\python testing\\cuda\\lib\\site-packages (from llama-index-core<0.13,>=0.12.44->llama-index) (1.2.18)\n",
      "Requirement already satisfied: wrapt in c:\\users\\crosve\\desktop\\python testing\\cuda\\lib\\site-packages (from llama-index-core<0.13,>=0.12.44->llama-index) (1.17.2)\n",
      "Requirement already satisfied: httpx in c:\\users\\crosve\\desktop\\python testing\\cuda\\lib\\site-packages (from llama-index-core<0.13,>=0.12.44->llama-index) (0.28.1)\n",
      "Requirement already satisfied: banks<3,>=2.0.0 in c:\\users\\crosve\\desktop\\python testing\\cuda\\lib\\site-packages (from llama-index-core<0.13,>=0.12.44->llama-index) (2.1.3)\n",
      "Requirement already satisfied: tiktoken>=0.7.0 in c:\\users\\crosve\\desktop\\python testing\\cuda\\lib\\site-packages (from llama-index-core<0.13,>=0.12.44->llama-index) (0.9.0)\n",
      "Requirement already satisfied: dataclasses-json in c:\\users\\crosve\\desktop\\python testing\\cuda\\lib\\site-packages (from llama-index-core<0.13,>=0.12.44->llama-index) (0.6.7)\n",
      "Requirement already satisfied: dirtyjson<2,>=1.0.8 in c:\\users\\crosve\\desktop\\python testing\\cuda\\lib\\site-packages (from llama-index-core<0.13,>=0.12.44->llama-index) (1.0.8)\n",
      "Requirement already satisfied: pillow>=9.0.0 in c:\\users\\crosve\\desktop\\python testing\\cuda\\lib\\site-packages (from llama-index-core<0.13,>=0.12.44->llama-index) (11.0.0)\n",
      "Requirement already satisfied: aiohttp<4,>=3.8.6 in c:\\users\\crosve\\desktop\\python testing\\cuda\\lib\\site-packages (from llama-index-core<0.13,>=0.12.44->llama-index) (3.12.13)\n",
      "Requirement already satisfied: sqlalchemy[asyncio]>=1.4.49 in c:\\users\\crosve\\desktop\\python testing\\cuda\\lib\\site-packages (from llama-index-core<0.13,>=0.12.44->llama-index) (2.0.41)\n",
      "Requirement already satisfied: networkx>=3.0 in c:\\users\\crosve\\desktop\\python testing\\cuda\\lib\\site-packages (from llama-index-core<0.13,>=0.12.44->llama-index) (3.3)\n",
      "Requirement already satisfied: aiosqlite in c:\\users\\crosve\\desktop\\python testing\\cuda\\lib\\site-packages (from llama-index-core<0.13,>=0.12.44->llama-index) (0.21.0)\n",
      "Requirement already satisfied: tenacity!=8.4.0,<10.0.0,>=8.2.0 in c:\\users\\crosve\\desktop\\python testing\\cuda\\lib\\site-packages (from llama-index-core<0.13,>=0.12.44->llama-index) (9.1.2)\n",
      "Requirement already satisfied: setuptools>=80.9.0 in c:\\users\\crosve\\desktop\\python testing\\cuda\\lib\\site-packages (from llama-index-core<0.13,>=0.12.44->llama-index) (80.9.0)\n",
      "Requirement already satisfied: typing-inspect>=0.8.0 in c:\\users\\crosve\\desktop\\python testing\\cuda\\lib\\site-packages (from llama-index-core<0.13,>=0.12.44->llama-index) (0.9.0)\n",
      "Requirement already satisfied: async-timeout<6.0,>=4.0 in c:\\users\\crosve\\desktop\\python testing\\cuda\\lib\\site-packages (from aiohttp<4,>=3.8.6->llama-index-core<0.13,>=0.12.44->llama-index) (5.0.1)\n",
      "Requirement already satisfied: aiohappyeyeballs>=2.5.0 in c:\\users\\crosve\\desktop\\python testing\\cuda\\lib\\site-packages (from aiohttp<4,>=3.8.6->llama-index-core<0.13,>=0.12.44->llama-index) (2.6.1)\n",
      "Requirement already satisfied: propcache>=0.2.0 in c:\\users\\crosve\\desktop\\python testing\\cuda\\lib\\site-packages (from aiohttp<4,>=3.8.6->llama-index-core<0.13,>=0.12.44->llama-index) (0.3.2)\n",
      "Requirement already satisfied: multidict<7.0,>=4.5 in c:\\users\\crosve\\desktop\\python testing\\cuda\\lib\\site-packages (from aiohttp<4,>=3.8.6->llama-index-core<0.13,>=0.12.44->llama-index) (6.6.2)\n",
      "Requirement already satisfied: frozenlist>=1.1.1 in c:\\users\\crosve\\desktop\\python testing\\cuda\\lib\\site-packages (from aiohttp<4,>=3.8.6->llama-index-core<0.13,>=0.12.44->llama-index) (1.7.0)\n",
      "Requirement already satisfied: attrs>=17.3.0 in c:\\users\\crosve\\desktop\\python testing\\cuda\\lib\\site-packages (from aiohttp<4,>=3.8.6->llama-index-core<0.13,>=0.12.44->llama-index) (25.3.0)\n",
      "Requirement already satisfied: yarl<2.0,>=1.17.0 in c:\\users\\crosve\\desktop\\python testing\\cuda\\lib\\site-packages (from aiohttp<4,>=3.8.6->llama-index-core<0.13,>=0.12.44->llama-index) (1.20.1)\n",
      "Requirement already satisfied: aiosignal>=1.1.2 in c:\\users\\crosve\\desktop\\python testing\\cuda\\lib\\site-packages (from aiohttp<4,>=3.8.6->llama-index-core<0.13,>=0.12.44->llama-index) (1.3.2)\n",
      "Requirement already satisfied: platformdirs in c:\\users\\crosve\\desktop\\python testing\\cuda\\lib\\site-packages (from banks<3,>=2.0.0->llama-index-core<0.13,>=0.12.44->llama-index) (4.3.8)\n",
      "Requirement already satisfied: griffe in c:\\users\\crosve\\desktop\\python testing\\cuda\\lib\\site-packages (from banks<3,>=2.0.0->llama-index-core<0.13,>=0.12.44->llama-index) (1.7.3)\n",
      "Requirement already satisfied: jinja2 in c:\\users\\crosve\\desktop\\python testing\\cuda\\lib\\site-packages (from banks<3,>=2.0.0->llama-index-core<0.13,>=0.12.44->llama-index) (3.1.6)\n",
      "Requirement already satisfied: llama-cloud==0.1.26 in c:\\users\\crosve\\desktop\\python testing\\cuda\\lib\\site-packages (from llama-index-indices-managed-llama-cloud>=0.4.0->llama-index) (0.1.26)\n",
      "Requirement already satisfied: certifi>=2024.7.4 in c:\\users\\crosve\\desktop\\python testing\\cuda\\lib\\site-packages (from llama-cloud==0.1.26->llama-index-indices-managed-llama-cloud>=0.4.0->llama-index) (2025.6.15)\n",
      "Requirement already satisfied: httpcore==1.* in c:\\users\\crosve\\desktop\\python testing\\cuda\\lib\\site-packages (from httpx->llama-index-core<0.13,>=0.12.44->llama-index) (1.0.9)\n",
      "Requirement already satisfied: idna in c:\\users\\crosve\\desktop\\python testing\\cuda\\lib\\site-packages (from httpx->llama-index-core<0.13,>=0.12.44->llama-index) (3.10)\n",
      "Requirement already satisfied: anyio in c:\\users\\crosve\\desktop\\python testing\\cuda\\lib\\site-packages (from httpx->llama-index-core<0.13,>=0.12.44->llama-index) (4.9.0)\n",
      "Requirement already satisfied: h11>=0.16 in c:\\users\\crosve\\desktop\\python testing\\cuda\\lib\\site-packages (from httpcore==1.*->httpx->llama-index-core<0.13,>=0.12.44->llama-index) (0.16.0)\n",
      "Requirement already satisfied: striprtf<0.0.27,>=0.0.26 in c:\\users\\crosve\\desktop\\python testing\\cuda\\lib\\site-packages (from llama-index-readers-file<0.5,>=0.4.0->llama-index) (0.0.26)\n",
      "Requirement already satisfied: pypdf<6,>=5.1.0 in c:\\users\\crosve\\desktop\\python testing\\cuda\\lib\\site-packages (from llama-index-readers-file<0.5,>=0.4.0->llama-index) (5.6.1)\n",
      "Requirement already satisfied: pandas<2.3.0 in c:\\users\\crosve\\desktop\\python testing\\cuda\\lib\\site-packages (from llama-index-readers-file<0.5,>=0.4.0->llama-index) (2.2.3)\n",
      "Requirement already satisfied: beautifulsoup4<5,>=4.12.3 in c:\\users\\crosve\\desktop\\python testing\\cuda\\lib\\site-packages (from llama-index-readers-file<0.5,>=0.4.0->llama-index) (4.13.4)\n",
      "Requirement already satisfied: soupsieve>1.2 in c:\\users\\crosve\\desktop\\python testing\\cuda\\lib\\site-packages (from beautifulsoup4<5,>=4.12.3->llama-index-readers-file<0.5,>=0.4.0->llama-index) (2.7)\n",
      "Requirement already satisfied: llama-parse>=0.5.0 in c:\\users\\crosve\\desktop\\python testing\\cuda\\lib\\site-packages (from llama-index-readers-llama-parse>=0.4.0->llama-index) (0.6.34)\n",
      "Requirement already satisfied: llama-index-instrumentation>=0.1.0 in c:\\users\\crosve\\desktop\\python testing\\cuda\\lib\\site-packages (from llama-index-workflows<2,>=1.0.1->llama-index-core<0.13,>=0.12.44->llama-index) (0.2.0)\n",
      "Requirement already satisfied: llama-cloud-services>=0.6.32 in c:\\users\\crosve\\desktop\\python testing\\cuda\\lib\\site-packages (from llama-parse>=0.5.0->llama-index-readers-llama-parse>=0.4.0->llama-index) (0.6.34)\n",
      "Requirement already satisfied: click<9.0.0,>=8.1.7 in c:\\users\\crosve\\desktop\\python testing\\cuda\\lib\\site-packages (from llama-cloud-services>=0.6.32->llama-parse>=0.5.0->llama-index-readers-llama-parse>=0.4.0->llama-index) (8.2.1)\n",
      "Requirement already satisfied: python-dotenv<2.0.0,>=1.0.1 in c:\\users\\crosve\\desktop\\python testing\\cuda\\lib\\site-packages (from llama-cloud-services>=0.6.32->llama-parse>=0.5.0->llama-index-readers-llama-parse>=0.4.0->llama-index) (1.1.1)\n",
      "Requirement already satisfied: colorama in c:\\users\\crosve\\desktop\\python testing\\cuda\\lib\\site-packages (from click<9.0.0,>=8.1.7->llama-cloud-services>=0.6.32->llama-parse>=0.5.0->llama-index-readers-llama-parse>=0.4.0->llama-index) (0.4.6)\n",
      "Requirement already satisfied: joblib in c:\\users\\crosve\\desktop\\python testing\\cuda\\lib\\site-packages (from nltk>3.8.1->llama-index) (1.5.1)\n",
      "Requirement already satisfied: jiter<1,>=0.4.0 in c:\\users\\crosve\\desktop\\python testing\\cuda\\lib\\site-packages (from openai>=1.14.0->llama-index-agent-openai<0.5,>=0.4.0->llama-index) (0.10.0)\n",
      "Requirement already satisfied: sniffio in c:\\users\\crosve\\desktop\\python testing\\cuda\\lib\\site-packages (from openai>=1.14.0->llama-index-agent-openai<0.5,>=0.4.0->llama-index) (1.3.1)\n",
      "Requirement already satisfied: distro<2,>=1.7.0 in c:\\users\\crosve\\desktop\\python testing\\cuda\\lib\\site-packages (from openai>=1.14.0->llama-index-agent-openai<0.5,>=0.4.0->llama-index) (1.9.0)\n",
      "Requirement already satisfied: exceptiongroup>=1.0.2 in c:\\users\\crosve\\desktop\\python testing\\cuda\\lib\\site-packages (from anyio->httpx->llama-index-core<0.13,>=0.12.44->llama-index) (1.3.0)\n",
      "Requirement already satisfied: python-dateutil>=2.8.2 in c:\\users\\crosve\\desktop\\python testing\\cuda\\lib\\site-packages (from pandas<2.3.0->llama-index-readers-file<0.5,>=0.4.0->llama-index) (2.9.0.post0)\n",
      "Requirement already satisfied: pytz>=2020.1 in c:\\users\\crosve\\desktop\\python testing\\cuda\\lib\\site-packages (from pandas<2.3.0->llama-index-readers-file<0.5,>=0.4.0->llama-index) (2025.2)\n",
      "Requirement already satisfied: tzdata>=2022.7 in c:\\users\\crosve\\desktop\\python testing\\cuda\\lib\\site-packages (from pandas<2.3.0->llama-index-readers-file<0.5,>=0.4.0->llama-index) (2025.2)\n",
      "Requirement already satisfied: pyasn1<0.7.0,>=0.6.1 in c:\\users\\crosve\\desktop\\python testing\\cuda\\lib\\site-packages (from pyasn1-modules>=0.2.1->google-auth>=2.15.0->google-generativeai) (0.6.1)\n",
      "Requirement already satisfied: typing-inspection>=0.4.0 in c:\\users\\crosve\\desktop\\python testing\\cuda\\lib\\site-packages (from pydantic->google-generativeai) (0.4.1)\n",
      "Requirement already satisfied: annotated-types>=0.6.0 in c:\\users\\crosve\\desktop\\python testing\\cuda\\lib\\site-packages (from pydantic->google-generativeai) (0.7.0)\n",
      "Requirement already satisfied: pydantic-core==2.33.2 in c:\\users\\crosve\\desktop\\python testing\\cuda\\lib\\site-packages (from pydantic->google-generativeai) (2.33.2)\n",
      "Requirement already satisfied: six>=1.5 in c:\\users\\crosve\\desktop\\python testing\\cuda\\lib\\site-packages (from python-dateutil>=2.8.2->pandas<2.3.0->llama-index-readers-file<0.5,>=0.4.0->llama-index) (1.17.0)\n",
      "Requirement already satisfied: charset_normalizer<4,>=2 in c:\\users\\crosve\\desktop\\python testing\\cuda\\lib\\site-packages (from requests->transformers) (3.4.2)\n",
      "Requirement already satisfied: urllib3<3,>=1.21.1 in c:\\users\\crosve\\desktop\\python testing\\cuda\\lib\\site-packages (from requests->transformers) (2.5.0)\n",
      "Requirement already satisfied: greenlet>=1 in c:\\users\\crosve\\desktop\\python testing\\cuda\\lib\\site-packages (from sqlalchemy[asyncio]>=1.4.49->llama-index-core<0.13,>=0.12.44->llama-index) (3.2.3)\n",
      "Requirement already satisfied: mypy-extensions>=0.3.0 in c:\\users\\crosve\\desktop\\python testing\\cuda\\lib\\site-packages (from typing-inspect>=0.8.0->llama-index-core<0.13,>=0.12.44->llama-index) (1.1.0)\n",
      "Requirement already satisfied: marshmallow<4.0.0,>=3.18.0 in c:\\users\\crosve\\desktop\\python testing\\cuda\\lib\\site-packages (from dataclasses-json->llama-index-core<0.13,>=0.12.44->llama-index) (3.26.1)\n",
      "Requirement already satisfied: google-auth-httplib2<1.0.0,>=0.2.0 in c:\\users\\crosve\\desktop\\python testing\\cuda\\lib\\site-packages (from google-api-python-client->google-generativeai) (0.2.0)\n",
      "Requirement already satisfied: httplib2<1.0.0,>=0.19.0 in c:\\users\\crosve\\desktop\\python testing\\cuda\\lib\\site-packages (from google-api-python-client->google-generativeai) (0.22.0)\n",
      "Requirement already satisfied: uritemplate<5,>=3.0.1 in c:\\users\\crosve\\desktop\\python testing\\cuda\\lib\\site-packages (from google-api-python-client->google-generativeai) (4.2.0)\n",
      "Requirement already satisfied: pyparsing!=3.0.0,!=3.0.1,!=3.0.2,!=3.0.3,<4,>=2.4.2 in c:\\users\\crosve\\desktop\\python testing\\cuda\\lib\\site-packages (from httplib2<1.0.0,>=0.19.0->google-api-python-client->google-generativeai) (3.2.3)\n",
      "Requirement already satisfied: MarkupSafe>=2.0 in c:\\users\\crosve\\desktop\\python testing\\cuda\\lib\\site-packages (from jinja2->banks<3,>=2.0.0->llama-index-core<0.13,>=0.12.44->llama-index) (3.0.2)\n",
      "Installing collected packages: protobuf\n",
      "  Attempting uninstall: protobuf\n",
      "    Found existing installation: protobuf 4.25.8\n",
      "    Uninstalling protobuf-4.25.8:\n",
      "      Successfully uninstalled protobuf-4.25.8\n",
      "Successfully installed protobuf-5.29.5\n",
      "Note: you may need to restart the kernel to use updated packages.\n"
     ]
    },
    {
     "name": "stderr",
     "output_type": "stream",
     "text": [
      "WARNING: Ignoring invalid distribution -rotobuf (c:\\users\\crosve\\desktop\\python testing\\cuda\\lib\\site-packages)\n",
      "WARNING: Ignoring invalid distribution -rotobuf (c:\\users\\crosve\\desktop\\python testing\\cuda\\lib\\site-packages)\n",
      "WARNING: Ignoring invalid distribution -rotobuf (c:\\users\\crosve\\desktop\\python testing\\cuda\\lib\\site-packages)\n",
      "    WARNING: Ignoring invalid distribution -rotobuf (c:\\users\\crosve\\desktop\\python testing\\cuda\\lib\\site-packages)\n",
      "WARNING: Ignoring invalid distribution -rotobuf (c:\\users\\crosve\\desktop\\python testing\\cuda\\lib\\site-packages)\n",
      "WARNING: Ignoring invalid distribution -rotobuf (c:\\users\\crosve\\desktop\\python testing\\cuda\\lib\\site-packages)\n",
      "WARNING: Ignoring invalid distribution -rotobuf (c:\\users\\crosve\\desktop\\python testing\\cuda\\lib\\site-packages)\n",
      "WARNING: Ignoring invalid distribution -rotobuf (c:\\users\\crosve\\desktop\\python testing\\cuda\\lib\\site-packages)\n",
      "WARNING: You are using pip version 21.2.3; however, version 25.1.1 is available.\n",
      "You should consider upgrading via the 'c:\\Users\\crosve\\Desktop\\python testing\\cuda\\Scripts\\python.exe -m pip install --upgrade pip' command.\n"
     ]
    }
   ],
   "source": [
    "!pip install numpy llama-index google-generativeai transformers\n"
   ]
  },
  {
   "cell_type": "code",
   "execution_count": 4,
   "id": "cfd9d257",
   "metadata": {},
   "outputs": [
    {
     "name": "stdout",
     "output_type": "stream",
     "text": [
      "Requirement already satisfied: llama-index-embeddings-huggingface in c:\\users\\crosve\\desktop\\python testing\\cuda\\lib\\site-packages (0.5.5)\n",
      "Requirement already satisfied: llama-index-core<0.13,>=0.12.0 in c:\\users\\crosve\\desktop\\python testing\\cuda\\lib\\site-packages (from llama-index-embeddings-huggingface) (0.12.44)\n",
      "Requirement already satisfied: sentence-transformers>=2.6.1 in c:\\users\\crosve\\desktop\\python testing\\cuda\\lib\\site-packages (from llama-index-embeddings-huggingface) (4.1.0)\n",
      "Requirement already satisfied: huggingface-hub[inference]>=0.19.0 in c:\\users\\crosve\\desktop\\python testing\\cuda\\lib\\site-packages (from llama-index-embeddings-huggingface) (0.33.1)\n",
      "Requirement already satisfied: pyyaml>=5.1 in c:\\users\\crosve\\desktop\\python testing\\cuda\\lib\\site-packages (from huggingface-hub[inference]>=0.19.0->llama-index-embeddings-huggingface) (6.0.2)\n",
      "Requirement already satisfied: requests in c:\\users\\crosve\\desktop\\python testing\\cuda\\lib\\site-packages (from huggingface-hub[inference]>=0.19.0->llama-index-embeddings-huggingface) (2.32.4)\n",
      "Requirement already satisfied: tqdm>=4.42.1 in c:\\users\\crosve\\desktop\\python testing\\cuda\\lib\\site-packages (from huggingface-hub[inference]>=0.19.0->llama-index-embeddings-huggingface) (4.67.1)\n",
      "Requirement already satisfied: typing-extensions>=3.7.4.3 in c:\\users\\crosve\\desktop\\python testing\\cuda\\lib\\site-packages (from huggingface-hub[inference]>=0.19.0->llama-index-embeddings-huggingface) (4.14.0)\n",
      "Requirement already satisfied: packaging>=20.9 in c:\\users\\crosve\\desktop\\python testing\\cuda\\lib\\site-packages (from huggingface-hub[inference]>=0.19.0->llama-index-embeddings-huggingface) (25.0)\n",
      "Requirement already satisfied: fsspec>=2023.5.0 in c:\\users\\crosve\\desktop\\python testing\\cuda\\lib\\site-packages (from huggingface-hub[inference]>=0.19.0->llama-index-embeddings-huggingface) (2024.6.1)\n",
      "Requirement already satisfied: filelock in c:\\users\\crosve\\desktop\\python testing\\cuda\\lib\\site-packages (from huggingface-hub[inference]>=0.19.0->llama-index-embeddings-huggingface) (3.13.1)\n",
      "Requirement already satisfied: aiohttp in c:\\users\\crosve\\desktop\\python testing\\cuda\\lib\\site-packages (from huggingface-hub[inference]>=0.19.0->llama-index-embeddings-huggingface) (3.12.13)\n",
      "Requirement already satisfied: tenacity!=8.4.0,<10.0.0,>=8.2.0 in c:\\users\\crosve\\desktop\\python testing\\cuda\\lib\\site-packages (from llama-index-core<0.13,>=0.12.0->llama-index-embeddings-huggingface) (9.1.2)\n",
      "Requirement already satisfied: dirtyjson<2,>=1.0.8 in c:\\users\\crosve\\desktop\\python testing\\cuda\\lib\\site-packages (from llama-index-core<0.13,>=0.12.0->llama-index-embeddings-huggingface) (1.0.8)\n",
      "Requirement already satisfied: httpx in c:\\users\\crosve\\desktop\\python testing\\cuda\\lib\\site-packages (from llama-index-core<0.13,>=0.12.0->llama-index-embeddings-huggingface) (0.28.1)\n",
      "Requirement already satisfied: tiktoken>=0.7.0 in c:\\users\\crosve\\desktop\\python testing\\cuda\\lib\\site-packages (from llama-index-core<0.13,>=0.12.0->llama-index-embeddings-huggingface) (0.9.0)\n",
      "Requirement already satisfied: sqlalchemy[asyncio]>=1.4.49 in c:\\users\\crosve\\desktop\\python testing\\cuda\\lib\\site-packages (from llama-index-core<0.13,>=0.12.0->llama-index-embeddings-huggingface) (2.0.41)\n",
      "Requirement already satisfied: typing-inspect>=0.8.0 in c:\\users\\crosve\\desktop\\python testing\\cuda\\lib\\site-packages (from llama-index-core<0.13,>=0.12.0->llama-index-embeddings-huggingface) (0.9.0)\n",
      "Requirement already satisfied: dataclasses-json in c:\\users\\crosve\\desktop\\python testing\\cuda\\lib\\site-packages (from llama-index-core<0.13,>=0.12.0->llama-index-embeddings-huggingface) (0.6.7)\n",
      "Requirement already satisfied: pydantic>=2.8.0 in c:\\users\\crosve\\desktop\\python testing\\cuda\\lib\\site-packages (from llama-index-core<0.13,>=0.12.0->llama-index-embeddings-huggingface) (2.11.7)\n",
      "Requirement already satisfied: networkx>=3.0 in c:\\users\\crosve\\desktop\\python testing\\cuda\\lib\\site-packages (from llama-index-core<0.13,>=0.12.0->llama-index-embeddings-huggingface) (3.3)\n",
      "Requirement already satisfied: banks<3,>=2.0.0 in c:\\users\\crosve\\desktop\\python testing\\cuda\\lib\\site-packages (from llama-index-core<0.13,>=0.12.0->llama-index-embeddings-huggingface) (2.1.3)\n",
      "Requirement already satisfied: llama-index-workflows<2,>=1.0.1 in c:\\users\\crosve\\desktop\\python testing\\cuda\\lib\\site-packages (from llama-index-core<0.13,>=0.12.0->llama-index-embeddings-huggingface) (1.0.1)\n",
      "Requirement already satisfied: filetype<2,>=1.2.0 in c:\\users\\crosve\\desktop\\python testing\\cuda\\lib\\site-packages (from llama-index-core<0.13,>=0.12.0->llama-index-embeddings-huggingface) (1.2.0)\n",
      "Requirement already satisfied: nest-asyncio<2,>=1.5.8 in c:\\users\\crosve\\desktop\\python testing\\cuda\\lib\\site-packages (from llama-index-core<0.13,>=0.12.0->llama-index-embeddings-huggingface) (1.6.0)\n",
      "Requirement already satisfied: deprecated>=1.2.9.3 in c:\\users\\crosve\\desktop\\python testing\\cuda\\lib\\site-packages (from llama-index-core<0.13,>=0.12.0->llama-index-embeddings-huggingface) (1.2.18)\n",
      "Requirement already satisfied: setuptools>=80.9.0 in c:\\users\\crosve\\desktop\\python testing\\cuda\\lib\\site-packages (from llama-index-core<0.13,>=0.12.0->llama-index-embeddings-huggingface) (80.9.0)\n",
      "Requirement already satisfied: nltk>3.8.1 in c:\\users\\crosve\\desktop\\python testing\\cuda\\lib\\site-packages (from llama-index-core<0.13,>=0.12.0->llama-index-embeddings-huggingface) (3.9.1)\n",
      "Requirement already satisfied: wrapt in c:\\users\\crosve\\desktop\\python testing\\cuda\\lib\\site-packages (from llama-index-core<0.13,>=0.12.0->llama-index-embeddings-huggingface) (1.17.2)\n",
      "Requirement already satisfied: pillow>=9.0.0 in c:\\users\\crosve\\desktop\\python testing\\cuda\\lib\\site-packages (from llama-index-core<0.13,>=0.12.0->llama-index-embeddings-huggingface) (11.0.0)\n",
      "Requirement already satisfied: aiosqlite in c:\\users\\crosve\\desktop\\python testing\\cuda\\lib\\site-packages (from llama-index-core<0.13,>=0.12.0->llama-index-embeddings-huggingface) (0.21.0)\n",
      "Requirement already satisfied: numpy in c:\\users\\crosve\\desktop\\python testing\\cuda\\lib\\site-packages (from llama-index-core<0.13,>=0.12.0->llama-index-embeddings-huggingface) (2.1.2)\n",
      "Requirement already satisfied: frozenlist>=1.1.1 in c:\\users\\crosve\\desktop\\python testing\\cuda\\lib\\site-packages (from aiohttp->huggingface-hub[inference]>=0.19.0->llama-index-embeddings-huggingface) (1.7.0)\n",
      "Requirement already satisfied: propcache>=0.2.0 in c:\\users\\crosve\\desktop\\python testing\\cuda\\lib\\site-packages (from aiohttp->huggingface-hub[inference]>=0.19.0->llama-index-embeddings-huggingface) (0.3.2)\n",
      "Requirement already satisfied: aiohappyeyeballs>=2.5.0 in c:\\users\\crosve\\desktop\\python testing\\cuda\\lib\\site-packages (from aiohttp->huggingface-hub[inference]>=0.19.0->llama-index-embeddings-huggingface) (2.6.1)\n",
      "Requirement already satisfied: multidict<7.0,>=4.5 in c:\\users\\crosve\\desktop\\python testing\\cuda\\lib\\site-packages (from aiohttp->huggingface-hub[inference]>=0.19.0->llama-index-embeddings-huggingface) (6.6.2)\n",
      "Requirement already satisfied: async-timeout<6.0,>=4.0 in c:\\users\\crosve\\desktop\\python testing\\cuda\\lib\\site-packages (from aiohttp->huggingface-hub[inference]>=0.19.0->llama-index-embeddings-huggingface) (5.0.1)\n",
      "Requirement already satisfied: attrs>=17.3.0 in c:\\users\\crosve\\desktop\\python testing\\cuda\\lib\\site-packages (from aiohttp->huggingface-hub[inference]>=0.19.0->llama-index-embeddings-huggingface) (25.3.0)\n",
      "Requirement already satisfied: yarl<2.0,>=1.17.0 in c:\\users\\crosve\\desktop\\python testing\\cuda\\lib\\site-packages (from aiohttp->huggingface-hub[inference]>=0.19.0->llama-index-embeddings-huggingface) (1.20.1)\n",
      "Requirement already satisfied: aiosignal>=1.1.2 in c:\\users\\crosve\\desktop\\python testing\\cuda\\lib\\site-packages (from aiohttp->huggingface-hub[inference]>=0.19.0->llama-index-embeddings-huggingface) (1.3.2)\n",
      "Requirement already satisfied: platformdirs in c:\\users\\crosve\\desktop\\python testing\\cuda\\lib\\site-packages (from banks<3,>=2.0.0->llama-index-core<0.13,>=0.12.0->llama-index-embeddings-huggingface) (4.3.8)\n",
      "Requirement already satisfied: griffe in c:\\users\\crosve\\desktop\\python testing\\cuda\\lib\\site-packages (from banks<3,>=2.0.0->llama-index-core<0.13,>=0.12.0->llama-index-embeddings-huggingface) (1.7.3)\n",
      "Requirement already satisfied: jinja2 in c:\\users\\crosve\\desktop\\python testing\\cuda\\lib\\site-packages (from banks<3,>=2.0.0->llama-index-core<0.13,>=0.12.0->llama-index-embeddings-huggingface) (3.1.6)\n",
      "Requirement already satisfied: llama-index-instrumentation>=0.1.0 in c:\\users\\crosve\\desktop\\python testing\\cuda\\lib\\site-packages (from llama-index-workflows<2,>=1.0.1->llama-index-core<0.13,>=0.12.0->llama-index-embeddings-huggingface) (0.2.0)\n",
      "Requirement already satisfied: joblib in c:\\users\\crosve\\desktop\\python testing\\cuda\\lib\\site-packages (from nltk>3.8.1->llama-index-core<0.13,>=0.12.0->llama-index-embeddings-huggingface) (1.5.1)\n",
      "Requirement already satisfied: click in c:\\users\\crosve\\desktop\\python testing\\cuda\\lib\\site-packages (from nltk>3.8.1->llama-index-core<0.13,>=0.12.0->llama-index-embeddings-huggingface) (8.2.1)\n",
      "Requirement already satisfied: regex>=2021.8.3 in c:\\users\\crosve\\desktop\\python testing\\cuda\\lib\\site-packages (from nltk>3.8.1->llama-index-core<0.13,>=0.12.0->llama-index-embeddings-huggingface) (2024.11.6)\n",
      "Requirement already satisfied: annotated-types>=0.6.0 in c:\\users\\crosve\\desktop\\python testing\\cuda\\lib\\site-packages (from pydantic>=2.8.0->llama-index-core<0.13,>=0.12.0->llama-index-embeddings-huggingface) (0.7.0)\n",
      "Requirement already satisfied: typing-inspection>=0.4.0 in c:\\users\\crosve\\desktop\\python testing\\cuda\\lib\\site-packages (from pydantic>=2.8.0->llama-index-core<0.13,>=0.12.0->llama-index-embeddings-huggingface) (0.4.1)\n",
      "Requirement already satisfied: pydantic-core==2.33.2 in c:\\users\\crosve\\desktop\\python testing\\cuda\\lib\\site-packages (from pydantic>=2.8.0->llama-index-core<0.13,>=0.12.0->llama-index-embeddings-huggingface) (2.33.2)\n",
      "Requirement already satisfied: charset_normalizer<4,>=2 in c:\\users\\crosve\\desktop\\python testing\\cuda\\lib\\site-packages (from requests->huggingface-hub[inference]>=0.19.0->llama-index-embeddings-huggingface) (3.4.2)\n",
      "Requirement already satisfied: idna<4,>=2.5 in c:\\users\\crosve\\desktop\\python testing\\cuda\\lib\\site-packages (from requests->huggingface-hub[inference]>=0.19.0->llama-index-embeddings-huggingface) (3.10)\n",
      "Requirement already satisfied: urllib3<3,>=1.21.1 in c:\\users\\crosve\\desktop\\python testing\\cuda\\lib\\site-packages (from requests->huggingface-hub[inference]>=0.19.0->llama-index-embeddings-huggingface) (2.5.0)\n",
      "Requirement already satisfied: certifi>=2017.4.17 in c:\\users\\crosve\\desktop\\python testing\\cuda\\lib\\site-packages (from requests->huggingface-hub[inference]>=0.19.0->llama-index-embeddings-huggingface) (2025.6.15)\n",
      "Requirement already satisfied: scipy in c:\\users\\crosve\\desktop\\python testing\\cuda\\lib\\site-packages (from sentence-transformers>=2.6.1->llama-index-embeddings-huggingface) (1.15.3)\n",
      "Requirement already satisfied: transformers<5.0.0,>=4.41.0 in c:\\users\\crosve\\desktop\\python testing\\cuda\\lib\\site-packages (from sentence-transformers>=2.6.1->llama-index-embeddings-huggingface) (4.53.0)\n",
      "Requirement already satisfied: torch>=1.11.0 in c:\\users\\crosve\\desktop\\python testing\\cuda\\lib\\site-packages (from sentence-transformers>=2.6.1->llama-index-embeddings-huggingface) (2.7.1+cu118)\n",
      "Requirement already satisfied: scikit-learn in c:\\users\\crosve\\desktop\\python testing\\cuda\\lib\\site-packages (from sentence-transformers>=2.6.1->llama-index-embeddings-huggingface) (1.7.0)\n",
      "Requirement already satisfied: greenlet>=1 in c:\\users\\crosve\\desktop\\python testing\\cuda\\lib\\site-packages (from sqlalchemy[asyncio]>=1.4.49->llama-index-core<0.13,>=0.12.0->llama-index-embeddings-huggingface) (3.2.3)\n",
      "Requirement already satisfied: sympy>=1.13.3 in c:\\users\\crosve\\desktop\\python testing\\cuda\\lib\\site-packages (from torch>=1.11.0->sentence-transformers>=2.6.1->llama-index-embeddings-huggingface) (1.13.3)\n",
      "Requirement already satisfied: mpmath<1.4,>=1.1.0 in c:\\users\\crosve\\desktop\\python testing\\cuda\\lib\\site-packages (from sympy>=1.13.3->torch>=1.11.0->sentence-transformers>=2.6.1->llama-index-embeddings-huggingface) (1.3.0)\n",
      "Requirement already satisfied: colorama in c:\\users\\crosve\\desktop\\python testing\\cuda\\lib\\site-packages (from tqdm>=4.42.1->huggingface-hub[inference]>=0.19.0->llama-index-embeddings-huggingface) (0.4.6)\n",
      "Requirement already satisfied: safetensors>=0.4.3 in c:\\users\\crosve\\desktop\\python testing\\cuda\\lib\\site-packages (from transformers<5.0.0,>=4.41.0->sentence-transformers>=2.6.1->llama-index-embeddings-huggingface) (0.5.3)\n",
      "Requirement already satisfied: tokenizers<0.22,>=0.21 in c:\\users\\crosve\\desktop\\python testing\\cuda\\lib\\site-packages (from transformers<5.0.0,>=4.41.0->sentence-transformers>=2.6.1->llama-index-embeddings-huggingface) (0.21.2)\n",
      "Requirement already satisfied: mypy-extensions>=0.3.0 in c:\\users\\crosve\\desktop\\python testing\\cuda\\lib\\site-packages (from typing-inspect>=0.8.0->llama-index-core<0.13,>=0.12.0->llama-index-embeddings-huggingface) (1.1.0)\n",
      "Requirement already satisfied: marshmallow<4.0.0,>=3.18.0 in c:\\users\\crosve\\desktop\\python testing\\cuda\\lib\\site-packages (from dataclasses-json->llama-index-core<0.13,>=0.12.0->llama-index-embeddings-huggingface) (3.26.1)\n",
      "Requirement already satisfied: anyio in c:\\users\\crosve\\desktop\\python testing\\cuda\\lib\\site-packages (from httpx->llama-index-core<0.13,>=0.12.0->llama-index-embeddings-huggingface) (4.9.0)\n",
      "Requirement already satisfied: httpcore==1.* in c:\\users\\crosve\\desktop\\python testing\\cuda\\lib\\site-packages (from httpx->llama-index-core<0.13,>=0.12.0->llama-index-embeddings-huggingface) (1.0.9)\n",
      "Requirement already satisfied: h11>=0.16 in c:\\users\\crosve\\desktop\\python testing\\cuda\\lib\\site-packages (from httpcore==1.*->httpx->llama-index-core<0.13,>=0.12.0->llama-index-embeddings-huggingface) (0.16.0)\n",
      "Requirement already satisfied: sniffio>=1.1 in c:\\users\\crosve\\desktop\\python testing\\cuda\\lib\\site-packages (from anyio->httpx->llama-index-core<0.13,>=0.12.0->llama-index-embeddings-huggingface) (1.3.1)\n",
      "Requirement already satisfied: exceptiongroup>=1.0.2 in c:\\users\\crosve\\desktop\\python testing\\cuda\\lib\\site-packages (from anyio->httpx->llama-index-core<0.13,>=0.12.0->llama-index-embeddings-huggingface) (1.3.0)\n",
      "Requirement already satisfied: MarkupSafe>=2.0 in c:\\users\\crosve\\desktop\\python testing\\cuda\\lib\\site-packages (from jinja2->banks<3,>=2.0.0->llama-index-core<0.13,>=0.12.0->llama-index-embeddings-huggingface) (3.0.2)\n",
      "Requirement already satisfied: threadpoolctl>=3.1.0 in c:\\users\\crosve\\desktop\\python testing\\cuda\\lib\\site-packages (from scikit-learn->sentence-transformers>=2.6.1->llama-index-embeddings-huggingface) (3.6.0)\n",
      "Note: you may need to restart the kernel to use updated packages.\n"
     ]
    },
    {
     "name": "stderr",
     "output_type": "stream",
     "text": [
      "WARNING: Ignoring invalid distribution -rotobuf (c:\\users\\crosve\\desktop\\python testing\\cuda\\lib\\site-packages)\n",
      "WARNING: Ignoring invalid distribution -rotobuf (c:\\users\\crosve\\desktop\\python testing\\cuda\\lib\\site-packages)\n",
      "WARNING: Ignoring invalid distribution -rotobuf (c:\\users\\crosve\\desktop\\python testing\\cuda\\lib\\site-packages)\n",
      "WARNING: Ignoring invalid distribution -rotobuf (c:\\users\\crosve\\desktop\\python testing\\cuda\\lib\\site-packages)\n",
      "WARNING: Ignoring invalid distribution -rotobuf (c:\\users\\crosve\\desktop\\python testing\\cuda\\lib\\site-packages)\n",
      "WARNING: Ignoring invalid distribution -rotobuf (c:\\users\\crosve\\desktop\\python testing\\cuda\\lib\\site-packages)\n",
      "WARNING: You are using pip version 21.2.3; however, version 25.1.1 is available.\n",
      "You should consider upgrading via the 'c:\\Users\\crosve\\Desktop\\python testing\\cuda\\Scripts\\python.exe -m pip install --upgrade pip' command.\n"
     ]
    }
   ],
   "source": [
    "\n",
    "%pip install llama-index-embeddings-huggingface"
   ]
  },
  {
   "cell_type": "code",
   "execution_count": 5,
   "id": "a2c8f4b6",
   "metadata": {},
   "outputs": [
    {
     "name": "stdout",
     "output_type": "stream",
     "text": [
      "Requirement already satisfied: llama-index[palm] in c:\\users\\crosve\\desktop\\python testing\\cuda\\lib\\site-packages (0.12.44)\n",
      "Requirement already satisfied: llama-index-indices-managed-llama-cloud>=0.4.0 in c:\\users\\crosve\\desktop\\python testing\\cuda\\lib\\site-packages (from llama-index[palm]) (0.7.7)\n",
      "Requirement already satisfied: llama-index-llms-openai<0.5,>=0.4.0 in c:\\users\\crosve\\desktop\\python testing\\cuda\\lib\\site-packages (from llama-index[palm]) (0.4.7)\n",
      "Requirement already satisfied: llama-index-agent-openai<0.5,>=0.4.0 in c:\\users\\crosve\\desktop\\python testing\\cuda\\lib\\site-packages (from llama-index[palm]) (0.4.11)\n",
      "Requirement already satisfied: llama-index-embeddings-openai<0.4,>=0.3.0 in c:\\users\\crosve\\desktop\\python testing\\cuda\\lib\\site-packages (from llama-index[palm]) (0.3.1)\n",
      "Requirement already satisfied: llama-index-readers-file<0.5,>=0.4.0 in c:\\users\\crosve\\desktop\\python testing\\cuda\\lib\\site-packages (from llama-index[palm]) (0.4.9)\n",
      "Requirement already satisfied: nltk>3.8.1 in c:\\users\\crosve\\desktop\\python testing\\cuda\\lib\\site-packages (from llama-index[palm]) (3.9.1)\n",
      "Requirement already satisfied: llama-index-multi-modal-llms-openai<0.6,>=0.5.0 in c:\\users\\crosve\\desktop\\python testing\\cuda\\lib\\site-packages (from llama-index[palm]) (0.5.1)\n",
      "Requirement already satisfied: llama-index-core<0.13,>=0.12.44 in c:\\users\\crosve\\desktop\\python testing\\cuda\\lib\\site-packages (from llama-index[palm]) (0.12.44)\n",
      "Requirement already satisfied: llama-index-program-openai<0.4,>=0.3.0 in c:\\users\\crosve\\desktop\\python testing\\cuda\\lib\\site-packages (from llama-index[palm]) (0.3.2)\n",
      "Requirement already satisfied: llama-index-question-gen-openai<0.4,>=0.3.0 in c:\\users\\crosve\\desktop\\python testing\\cuda\\lib\\site-packages (from llama-index[palm]) (0.3.1)\n",
      "Requirement already satisfied: llama-index-cli<0.5,>=0.4.2 in c:\\users\\crosve\\desktop\\python testing\\cuda\\lib\\site-packages (from llama-index[palm]) (0.4.3)\n",
      "Requirement already satisfied: llama-index-readers-llama-parse>=0.4.0 in c:\\users\\crosve\\desktop\\python testing\\cuda\\lib\\site-packages (from llama-index[palm]) (0.4.0)\n",
      "Requirement already satisfied: openai>=1.14.0 in c:\\users\\crosve\\desktop\\python testing\\cuda\\lib\\site-packages (from llama-index-agent-openai<0.5,>=0.4.0->llama-index[palm]) (1.93.0)\n",
      "Requirement already satisfied: fsspec>=2023.5.0 in c:\\users\\crosve\\desktop\\python testing\\cuda\\lib\\site-packages (from llama-index-core<0.13,>=0.12.44->llama-index[palm]) (2024.6.1)\n",
      "Requirement already satisfied: typing-extensions>=4.5.0 in c:\\users\\crosve\\desktop\\python testing\\cuda\\lib\\site-packages (from llama-index-core<0.13,>=0.12.44->llama-index[palm]) (4.14.0)\n",
      "Requirement already satisfied: dirtyjson<2,>=1.0.8 in c:\\users\\crosve\\desktop\\python testing\\cuda\\lib\\site-packages (from llama-index-core<0.13,>=0.12.44->llama-index[palm]) (1.0.8)\n",
      "Requirement already satisfied: setuptools>=80.9.0 in c:\\users\\crosve\\desktop\\python testing\\cuda\\lib\\site-packages (from llama-index-core<0.13,>=0.12.44->llama-index[palm]) (80.9.0)\n",
      "Requirement already satisfied: deprecated>=1.2.9.3 in c:\\users\\crosve\\desktop\\python testing\\cuda\\lib\\site-packages (from llama-index-core<0.13,>=0.12.44->llama-index[palm]) (1.2.18)\n",
      "Requirement already satisfied: tiktoken>=0.7.0 in c:\\users\\crosve\\desktop\\python testing\\cuda\\lib\\site-packages (from llama-index-core<0.13,>=0.12.44->llama-index[palm]) (0.9.0)\n",
      "Requirement already satisfied: tenacity!=8.4.0,<10.0.0,>=8.2.0 in c:\\users\\crosve\\desktop\\python testing\\cuda\\lib\\site-packages (from llama-index-core<0.13,>=0.12.44->llama-index[palm]) (9.1.2)\n",
      "Requirement already satisfied: pillow>=9.0.0 in c:\\users\\crosve\\desktop\\python testing\\cuda\\lib\\site-packages (from llama-index-core<0.13,>=0.12.44->llama-index[palm]) (11.0.0)\n",
      "Requirement already satisfied: tqdm<5,>=4.66.1 in c:\\users\\crosve\\desktop\\python testing\\cuda\\lib\\site-packages (from llama-index-core<0.13,>=0.12.44->llama-index[palm]) (4.67.1)\n",
      "Requirement already satisfied: pyyaml>=6.0.1 in c:\\users\\crosve\\desktop\\python testing\\cuda\\lib\\site-packages (from llama-index-core<0.13,>=0.12.44->llama-index[palm]) (6.0.2)\n",
      "Requirement already satisfied: banks<3,>=2.0.0 in c:\\users\\crosve\\desktop\\python testing\\cuda\\lib\\site-packages (from llama-index-core<0.13,>=0.12.44->llama-index[palm]) (2.1.3)\n",
      "Requirement already satisfied: networkx>=3.0 in c:\\users\\crosve\\desktop\\python testing\\cuda\\lib\\site-packages (from llama-index-core<0.13,>=0.12.44->llama-index[palm]) (3.3)\n",
      "Requirement already satisfied: sqlalchemy[asyncio]>=1.4.49 in c:\\users\\crosve\\desktop\\python testing\\cuda\\lib\\site-packages (from llama-index-core<0.13,>=0.12.44->llama-index[palm]) (2.0.41)\n",
      "Requirement already satisfied: wrapt in c:\\users\\crosve\\desktop\\python testing\\cuda\\lib\\site-packages (from llama-index-core<0.13,>=0.12.44->llama-index[palm]) (1.17.2)\n",
      "Requirement already satisfied: nest-asyncio<2,>=1.5.8 in c:\\users\\crosve\\desktop\\python testing\\cuda\\lib\\site-packages (from llama-index-core<0.13,>=0.12.44->llama-index[palm]) (1.6.0)\n",
      "Requirement already satisfied: dataclasses-json in c:\\users\\crosve\\desktop\\python testing\\cuda\\lib\\site-packages (from llama-index-core<0.13,>=0.12.44->llama-index[palm]) (0.6.7)\n",
      "Requirement already satisfied: httpx in c:\\users\\crosve\\desktop\\python testing\\cuda\\lib\\site-packages (from llama-index-core<0.13,>=0.12.44->llama-index[palm]) (0.28.1)\n",
      "Requirement already satisfied: typing-inspect>=0.8.0 in c:\\users\\crosve\\desktop\\python testing\\cuda\\lib\\site-packages (from llama-index-core<0.13,>=0.12.44->llama-index[palm]) (0.9.0)\n",
      "Requirement already satisfied: aiohttp<4,>=3.8.6 in c:\\users\\crosve\\desktop\\python testing\\cuda\\lib\\site-packages (from llama-index-core<0.13,>=0.12.44->llama-index[palm]) (3.12.13)\n",
      "Requirement already satisfied: pydantic>=2.8.0 in c:\\users\\crosve\\desktop\\python testing\\cuda\\lib\\site-packages (from llama-index-core<0.13,>=0.12.44->llama-index[palm]) (2.11.7)\n",
      "Requirement already satisfied: requests>=2.31.0 in c:\\users\\crosve\\desktop\\python testing\\cuda\\lib\\site-packages (from llama-index-core<0.13,>=0.12.44->llama-index[palm]) (2.32.4)\n",
      "Requirement already satisfied: numpy in c:\\users\\crosve\\desktop\\python testing\\cuda\\lib\\site-packages (from llama-index-core<0.13,>=0.12.44->llama-index[palm]) (2.1.2)\n",
      "Requirement already satisfied: filetype<2,>=1.2.0 in c:\\users\\crosve\\desktop\\python testing\\cuda\\lib\\site-packages (from llama-index-core<0.13,>=0.12.44->llama-index[palm]) (1.2.0)\n",
      "Requirement already satisfied: llama-index-workflows<2,>=1.0.1 in c:\\users\\crosve\\desktop\\python testing\\cuda\\lib\\site-packages (from llama-index-core<0.13,>=0.12.44->llama-index[palm]) (1.0.1)\n",
      "Requirement already satisfied: aiosqlite in c:\\users\\crosve\\desktop\\python testing\\cuda\\lib\\site-packages (from llama-index-core<0.13,>=0.12.44->llama-index[palm]) (0.21.0)\n",
      "Requirement already satisfied: yarl<2.0,>=1.17.0 in c:\\users\\crosve\\desktop\\python testing\\cuda\\lib\\site-packages (from aiohttp<4,>=3.8.6->llama-index-core<0.13,>=0.12.44->llama-index[palm]) (1.20.1)\n",
      "Requirement already satisfied: multidict<7.0,>=4.5 in c:\\users\\crosve\\desktop\\python testing\\cuda\\lib\\site-packages (from aiohttp<4,>=3.8.6->llama-index-core<0.13,>=0.12.44->llama-index[palm]) (6.6.2)\n",
      "Requirement already satisfied: async-timeout<6.0,>=4.0 in c:\\users\\crosve\\desktop\\python testing\\cuda\\lib\\site-packages (from aiohttp<4,>=3.8.6->llama-index-core<0.13,>=0.12.44->llama-index[palm]) (5.0.1)\n",
      "Requirement already satisfied: propcache>=0.2.0 in c:\\users\\crosve\\desktop\\python testing\\cuda\\lib\\site-packages (from aiohttp<4,>=3.8.6->llama-index-core<0.13,>=0.12.44->llama-index[palm]) (0.3.2)\n",
      "Requirement already satisfied: attrs>=17.3.0 in c:\\users\\crosve\\desktop\\python testing\\cuda\\lib\\site-packages (from aiohttp<4,>=3.8.6->llama-index-core<0.13,>=0.12.44->llama-index[palm]) (25.3.0)\n",
      "Requirement already satisfied: aiosignal>=1.1.2 in c:\\users\\crosve\\desktop\\python testing\\cuda\\lib\\site-packages (from aiohttp<4,>=3.8.6->llama-index-core<0.13,>=0.12.44->llama-index[palm]) (1.3.2)\n",
      "Requirement already satisfied: aiohappyeyeballs>=2.5.0 in c:\\users\\crosve\\desktop\\python testing\\cuda\\lib\\site-packages (from aiohttp<4,>=3.8.6->llama-index-core<0.13,>=0.12.44->llama-index[palm]) (2.6.1)\n",
      "Requirement already satisfied: frozenlist>=1.1.1 in c:\\users\\crosve\\desktop\\python testing\\cuda\\lib\\site-packages (from aiohttp<4,>=3.8.6->llama-index-core<0.13,>=0.12.44->llama-index[palm]) (1.7.0)\n",
      "Requirement already satisfied: jinja2 in c:\\users\\crosve\\desktop\\python testing\\cuda\\lib\\site-packages (from banks<3,>=2.0.0->llama-index-core<0.13,>=0.12.44->llama-index[palm]) (3.1.6)\n",
      "Requirement already satisfied: platformdirs in c:\\users\\crosve\\desktop\\python testing\\cuda\\lib\\site-packages (from banks<3,>=2.0.0->llama-index-core<0.13,>=0.12.44->llama-index[palm]) (4.3.8)\n",
      "Requirement already satisfied: griffe in c:\\users\\crosve\\desktop\\python testing\\cuda\\lib\\site-packages (from banks<3,>=2.0.0->llama-index-core<0.13,>=0.12.44->llama-index[palm]) (1.7.3)\n",
      "Requirement already satisfied: llama-cloud==0.1.26 in c:\\users\\crosve\\desktop\\python testing\\cuda\\lib\\site-packages (from llama-index-indices-managed-llama-cloud>=0.4.0->llama-index[palm]) (0.1.26)\n",
      "Requirement already satisfied: certifi>=2024.7.4 in c:\\users\\crosve\\desktop\\python testing\\cuda\\lib\\site-packages (from llama-cloud==0.1.26->llama-index-indices-managed-llama-cloud>=0.4.0->llama-index[palm]) (2025.6.15)\n",
      "Requirement already satisfied: httpcore==1.* in c:\\users\\crosve\\desktop\\python testing\\cuda\\lib\\site-packages (from httpx->llama-index-core<0.13,>=0.12.44->llama-index[palm]) (1.0.9)\n",
      "Requirement already satisfied: anyio in c:\\users\\crosve\\desktop\\python testing\\cuda\\lib\\site-packages (from httpx->llama-index-core<0.13,>=0.12.44->llama-index[palm]) (4.9.0)\n",
      "Requirement already satisfied: idna in c:\\users\\crosve\\desktop\\python testing\\cuda\\lib\\site-packages (from httpx->llama-index-core<0.13,>=0.12.44->llama-index[palm]) (3.10)\n",
      "Requirement already satisfied: h11>=0.16 in c:\\users\\crosve\\desktop\\python testing\\cuda\\lib\\site-packages (from httpcore==1.*->httpx->llama-index-core<0.13,>=0.12.44->llama-index[palm]) (0.16.0)\n",
      "Requirement already satisfied: striprtf<0.0.27,>=0.0.26 in c:\\users\\crosve\\desktop\\python testing\\cuda\\lib\\site-packages (from llama-index-readers-file<0.5,>=0.4.0->llama-index[palm]) (0.0.26)\n",
      "Requirement already satisfied: beautifulsoup4<5,>=4.12.3 in c:\\users\\crosve\\desktop\\python testing\\cuda\\lib\\site-packages (from llama-index-readers-file<0.5,>=0.4.0->llama-index[palm]) (4.13.4)\n",
      "Requirement already satisfied: pandas<2.3.0 in c:\\users\\crosve\\desktop\\python testing\\cuda\\lib\\site-packages (from llama-index-readers-file<0.5,>=0.4.0->llama-index[palm]) (2.2.3)\n",
      "Requirement already satisfied: pypdf<6,>=5.1.0 in c:\\users\\crosve\\desktop\\python testing\\cuda\\lib\\site-packages (from llama-index-readers-file<0.5,>=0.4.0->llama-index[palm]) (5.6.1)\n",
      "Requirement already satisfied: soupsieve>1.2 in c:\\users\\crosve\\desktop\\python testing\\cuda\\lib\\site-packages (from beautifulsoup4<5,>=4.12.3->llama-index-readers-file<0.5,>=0.4.0->llama-index[palm]) (2.7)\n",
      "Requirement already satisfied: llama-parse>=0.5.0 in c:\\users\\crosve\\desktop\\python testing\\cuda\\lib\\site-packages (from llama-index-readers-llama-parse>=0.4.0->llama-index[palm]) (0.6.34)\n",
      "Requirement already satisfied: llama-index-instrumentation>=0.1.0 in c:\\users\\crosve\\desktop\\python testing\\cuda\\lib\\site-packages (from llama-index-workflows<2,>=1.0.1->llama-index-core<0.13,>=0.12.44->llama-index[palm]) (0.2.0)\n",
      "Requirement already satisfied: llama-cloud-services>=0.6.32 in c:\\users\\crosve\\desktop\\python testing\\cuda\\lib\\site-packages (from llama-parse>=0.5.0->llama-index-readers-llama-parse>=0.4.0->llama-index[palm]) (0.6.34)\n",
      "Requirement already satisfied: click<9.0.0,>=8.1.7 in c:\\users\\crosve\\desktop\\python testing\\cuda\\lib\\site-packages (from llama-cloud-services>=0.6.32->llama-parse>=0.5.0->llama-index-readers-llama-parse>=0.4.0->llama-index[palm]) (8.2.1)\n",
      "Requirement already satisfied: python-dotenv<2.0.0,>=1.0.1 in c:\\users\\crosve\\desktop\\python testing\\cuda\\lib\\site-packages (from llama-cloud-services>=0.6.32->llama-parse>=0.5.0->llama-index-readers-llama-parse>=0.4.0->llama-index[palm]) (1.1.1)\n",
      "Requirement already satisfied: colorama in c:\\users\\crosve\\desktop\\python testing\\cuda\\lib\\site-packages (from click<9.0.0,>=8.1.7->llama-cloud-services>=0.6.32->llama-parse>=0.5.0->llama-index-readers-llama-parse>=0.4.0->llama-index[palm]) (0.4.6)\n",
      "Requirement already satisfied: regex>=2021.8.3 in c:\\users\\crosve\\desktop\\python testing\\cuda\\lib\\site-packages (from nltk>3.8.1->llama-index[palm]) (2024.11.6)\n",
      "Requirement already satisfied: joblib in c:\\users\\crosve\\desktop\\python testing\\cuda\\lib\\site-packages (from nltk>3.8.1->llama-index[palm]) (1.5.1)\n",
      "Requirement already satisfied: jiter<1,>=0.4.0 in c:\\users\\crosve\\desktop\\python testing\\cuda\\lib\\site-packages (from openai>=1.14.0->llama-index-agent-openai<0.5,>=0.4.0->llama-index[palm]) (0.10.0)\n",
      "Requirement already satisfied: sniffio in c:\\users\\crosve\\desktop\\python testing\\cuda\\lib\\site-packages (from openai>=1.14.0->llama-index-agent-openai<0.5,>=0.4.0->llama-index[palm]) (1.3.1)\n",
      "Requirement already satisfied: distro<2,>=1.7.0 in c:\\users\\crosve\\desktop\\python testing\\cuda\\lib\\site-packages (from openai>=1.14.0->llama-index-agent-openai<0.5,>=0.4.0->llama-index[palm]) (1.9.0)\n",
      "Requirement already satisfied: exceptiongroup>=1.0.2 in c:\\users\\crosve\\desktop\\python testing\\cuda\\lib\\site-packages (from anyio->httpx->llama-index-core<0.13,>=0.12.44->llama-index[palm]) (1.3.0)\n",
      "Requirement already satisfied: pytz>=2020.1 in c:\\users\\crosve\\desktop\\python testing\\cuda\\lib\\site-packages (from pandas<2.3.0->llama-index-readers-file<0.5,>=0.4.0->llama-index[palm]) (2025.2)\n",
      "Requirement already satisfied: tzdata>=2022.7 in c:\\users\\crosve\\desktop\\python testing\\cuda\\lib\\site-packages (from pandas<2.3.0->llama-index-readers-file<0.5,>=0.4.0->llama-index[palm]) (2025.2)\n",
      "Requirement already satisfied: python-dateutil>=2.8.2 in c:\\users\\crosve\\desktop\\python testing\\cuda\\lib\\site-packages (from pandas<2.3.0->llama-index-readers-file<0.5,>=0.4.0->llama-index[palm]) (2.9.0.post0)\n",
      "Requirement already satisfied: typing-inspection>=0.4.0 in c:\\users\\crosve\\desktop\\python testing\\cuda\\lib\\site-packages (from pydantic>=2.8.0->llama-index-core<0.13,>=0.12.44->llama-index[palm]) (0.4.1)\n",
      "Requirement already satisfied: pydantic-core==2.33.2 in c:\\users\\crosve\\desktop\\python testing\\cuda\\lib\\site-packages (from pydantic>=2.8.0->llama-index-core<0.13,>=0.12.44->llama-index[palm]) (2.33.2)\n",
      "Requirement already satisfied: annotated-types>=0.6.0 in c:\\users\\crosve\\desktop\\python testing\\cuda\\lib\\site-packages (from pydantic>=2.8.0->llama-index-core<0.13,>=0.12.44->llama-index[palm]) (0.7.0)\n",
      "Requirement already satisfied: six>=1.5 in c:\\users\\crosve\\desktop\\python testing\\cuda\\lib\\site-packages (from python-dateutil>=2.8.2->pandas<2.3.0->llama-index-readers-file<0.5,>=0.4.0->llama-index[palm]) (1.17.0)\n",
      "Requirement already satisfied: charset_normalizer<4,>=2 in c:\\users\\crosve\\desktop\\python testing\\cuda\\lib\\site-packages (from requests>=2.31.0->llama-index-core<0.13,>=0.12.44->llama-index[palm]) (3.4.2)\n",
      "Requirement already satisfied: urllib3<3,>=1.21.1 in c:\\users\\crosve\\desktop\\python testing\\cuda\\lib\\site-packages (from requests>=2.31.0->llama-index-core<0.13,>=0.12.44->llama-index[palm]) (2.5.0)\n",
      "Requirement already satisfied: greenlet>=1 in c:\\users\\crosve\\desktop\\python testing\\cuda\\lib\\site-packages (from sqlalchemy[asyncio]>=1.4.49->llama-index-core<0.13,>=0.12.44->llama-index[palm]) (3.2.3)\n",
      "Requirement already satisfied: mypy-extensions>=0.3.0 in c:\\users\\crosve\\desktop\\python testing\\cuda\\lib\\site-packages (from typing-inspect>=0.8.0->llama-index-core<0.13,>=0.12.44->llama-index[palm]) (1.1.0)\n",
      "Requirement already satisfied: marshmallow<4.0.0,>=3.18.0 in c:\\users\\crosve\\desktop\\python testing\\cuda\\lib\\site-packages (from dataclasses-json->llama-index-core<0.13,>=0.12.44->llama-index[palm]) (3.26.1)\n",
      "Requirement already satisfied: packaging>=17.0 in c:\\users\\crosve\\desktop\\python testing\\cuda\\lib\\site-packages (from marshmallow<4.0.0,>=3.18.0->dataclasses-json->llama-index-core<0.13,>=0.12.44->llama-index[palm]) (25.0)\n",
      "Requirement already satisfied: MarkupSafe>=2.0 in c:\\users\\crosve\\desktop\\python testing\\cuda\\lib\\site-packages (from jinja2->banks<3,>=2.0.0->llama-index-core<0.13,>=0.12.44->llama-index[palm]) (3.0.2)\n"
     ]
    },
    {
     "name": "stderr",
     "output_type": "stream",
     "text": [
      "WARNING: Ignoring invalid distribution -rotobuf (c:\\users\\crosve\\desktop\\python testing\\cuda\\lib\\site-packages)\n",
      "WARNING: Ignoring invalid distribution -rotobuf (c:\\users\\crosve\\desktop\\python testing\\cuda\\lib\\site-packages)\n",
      "WARNING: llama-index 0.12.44 does not provide the extra 'palm'\n",
      "WARNING: Ignoring invalid distribution -rotobuf (c:\\users\\crosve\\desktop\\python testing\\cuda\\lib\\site-packages)\n",
      "WARNING: Ignoring invalid distribution -rotobuf (c:\\users\\crosve\\desktop\\python testing\\cuda\\lib\\site-packages)\n",
      "WARNING: Ignoring invalid distribution -rotobuf (c:\\users\\crosve\\desktop\\python testing\\cuda\\lib\\site-packages)\n"
     ]
    }
   ],
   "source": [
    "!pip install llama-index[palm]\n"
   ]
  },
  {
   "cell_type": "code",
   "execution_count": 6,
   "id": "670b2468",
   "metadata": {},
   "outputs": [
    {
     "name": "stdout",
     "output_type": "stream",
     "text": [
      "Requirement already satisfied: llama-index-llms-llama-cpp in c:\\users\\crosve\\desktop\\python testing\\cuda\\lib\\site-packages (0.4.0)\n",
      "Requirement already satisfied: llama-cpp-python<0.4.0,>=0.3.0 in c:\\users\\crosve\\desktop\\python testing\\cuda\\lib\\site-packages (from llama-index-llms-llama-cpp) (0.3.9)\n",
      "Requirement already satisfied: llama-index-core<0.13.0,>=0.12.0 in c:\\users\\crosve\\desktop\\python testing\\cuda\\lib\\site-packages (from llama-index-llms-llama-cpp) (0.12.44)\n",
      "Requirement already satisfied: numpy>=1.20.0 in c:\\users\\crosve\\desktop\\python testing\\cuda\\lib\\site-packages (from llama-cpp-python<0.4.0,>=0.3.0->llama-index-llms-llama-cpp) (2.1.2)\n",
      "Requirement already satisfied: jinja2>=2.11.3 in c:\\users\\crosve\\desktop\\python testing\\cuda\\lib\\site-packages (from llama-cpp-python<0.4.0,>=0.3.0->llama-index-llms-llama-cpp) (3.1.6)\n",
      "Requirement already satisfied: typing-extensions>=4.5.0 in c:\\users\\crosve\\desktop\\python testing\\cuda\\lib\\site-packages (from llama-cpp-python<0.4.0,>=0.3.0->llama-index-llms-llama-cpp) (4.14.0)\n",
      "Requirement already satisfied: diskcache>=5.6.1 in c:\\users\\crosve\\desktop\\python testing\\cuda\\lib\\site-packages (from llama-cpp-python<0.4.0,>=0.3.0->llama-index-llms-llama-cpp) (5.6.3)\n",
      "Requirement already satisfied: MarkupSafe>=2.0 in c:\\users\\crosve\\desktop\\python testing\\cuda\\lib\\site-packages (from jinja2>=2.11.3->llama-cpp-python<0.4.0,>=0.3.0->llama-index-llms-llama-cpp) (3.0.2)\n",
      "Requirement already satisfied: sqlalchemy[asyncio]>=1.4.49 in c:\\users\\crosve\\desktop\\python testing\\cuda\\lib\\site-packages (from llama-index-core<0.13.0,>=0.12.0->llama-index-llms-llama-cpp) (2.0.41)\n",
      "Requirement already satisfied: aiohttp<4,>=3.8.6 in c:\\users\\crosve\\desktop\\python testing\\cuda\\lib\\site-packages (from llama-index-core<0.13.0,>=0.12.0->llama-index-llms-llama-cpp) (3.12.13)\n",
      "Requirement already satisfied: tqdm<5,>=4.66.1 in c:\\users\\crosve\\desktop\\python testing\\cuda\\lib\\site-packages (from llama-index-core<0.13.0,>=0.12.0->llama-index-llms-llama-cpp) (4.67.1)\n",
      "Requirement already satisfied: setuptools>=80.9.0 in c:\\users\\crosve\\desktop\\python testing\\cuda\\lib\\site-packages (from llama-index-core<0.13.0,>=0.12.0->llama-index-llms-llama-cpp) (80.9.0)\n",
      "Requirement already satisfied: pyyaml>=6.0.1 in c:\\users\\crosve\\desktop\\python testing\\cuda\\lib\\site-packages (from llama-index-core<0.13.0,>=0.12.0->llama-index-llms-llama-cpp) (6.0.2)\n",
      "Requirement already satisfied: dirtyjson<2,>=1.0.8 in c:\\users\\crosve\\desktop\\python testing\\cuda\\lib\\site-packages (from llama-index-core<0.13.0,>=0.12.0->llama-index-llms-llama-cpp) (1.0.8)\n",
      "Requirement already satisfied: deprecated>=1.2.9.3 in c:\\users\\crosve\\desktop\\python testing\\cuda\\lib\\site-packages (from llama-index-core<0.13.0,>=0.12.0->llama-index-llms-llama-cpp) (1.2.18)\n",
      "Requirement already satisfied: requests>=2.31.0 in c:\\users\\crosve\\desktop\\python testing\\cuda\\lib\\site-packages (from llama-index-core<0.13.0,>=0.12.0->llama-index-llms-llama-cpp) (2.32.4)\n",
      "Requirement already satisfied: dataclasses-json in c:\\users\\crosve\\desktop\\python testing\\cuda\\lib\\site-packages (from llama-index-core<0.13.0,>=0.12.0->llama-index-llms-llama-cpp) (0.6.7)\n",
      "Requirement already satisfied: tiktoken>=0.7.0 in c:\\users\\crosve\\desktop\\python testing\\cuda\\lib\\site-packages (from llama-index-core<0.13.0,>=0.12.0->llama-index-llms-llama-cpp) (0.9.0)\n",
      "Requirement already satisfied: wrapt in c:\\users\\crosve\\desktop\\python testing\\cuda\\lib\\site-packages (from llama-index-core<0.13.0,>=0.12.0->llama-index-llms-llama-cpp) (1.17.2)\n",
      "Requirement already satisfied: pydantic>=2.8.0 in c:\\users\\crosve\\desktop\\python testing\\cuda\\lib\\site-packages (from llama-index-core<0.13.0,>=0.12.0->llama-index-llms-llama-cpp) (2.11.7)\n",
      "Requirement already satisfied: pillow>=9.0.0 in c:\\users\\crosve\\desktop\\python testing\\cuda\\lib\\site-packages (from llama-index-core<0.13.0,>=0.12.0->llama-index-llms-llama-cpp) (11.0.0)\n",
      "Requirement already satisfied: banks<3,>=2.0.0 in c:\\users\\crosve\\desktop\\python testing\\cuda\\lib\\site-packages (from llama-index-core<0.13.0,>=0.12.0->llama-index-llms-llama-cpp) (2.1.3)\n",
      "Requirement already satisfied: nest-asyncio<2,>=1.5.8 in c:\\users\\crosve\\desktop\\python testing\\cuda\\lib\\site-packages (from llama-index-core<0.13.0,>=0.12.0->llama-index-llms-llama-cpp) (1.6.0)\n",
      "Requirement already satisfied: fsspec>=2023.5.0 in c:\\users\\crosve\\desktop\\python testing\\cuda\\lib\\site-packages (from llama-index-core<0.13.0,>=0.12.0->llama-index-llms-llama-cpp) (2024.6.1)\n",
      "Requirement already satisfied: httpx in c:\\users\\crosve\\desktop\\python testing\\cuda\\lib\\site-packages (from llama-index-core<0.13.0,>=0.12.0->llama-index-llms-llama-cpp) (0.28.1)\n",
      "Requirement already satisfied: nltk>3.8.1 in c:\\users\\crosve\\desktop\\python testing\\cuda\\lib\\site-packages (from llama-index-core<0.13.0,>=0.12.0->llama-index-llms-llama-cpp) (3.9.1)\n",
      "Requirement already satisfied: typing-inspect>=0.8.0 in c:\\users\\crosve\\desktop\\python testing\\cuda\\lib\\site-packages (from llama-index-core<0.13.0,>=0.12.0->llama-index-llms-llama-cpp) (0.9.0)\n",
      "Requirement already satisfied: aiosqlite in c:\\users\\crosve\\desktop\\python testing\\cuda\\lib\\site-packages (from llama-index-core<0.13.0,>=0.12.0->llama-index-llms-llama-cpp) (0.21.0)\n",
      "Requirement already satisfied: llama-index-workflows<2,>=1.0.1 in c:\\users\\crosve\\desktop\\python testing\\cuda\\lib\\site-packages (from llama-index-core<0.13.0,>=0.12.0->llama-index-llms-llama-cpp) (1.0.1)\n",
      "Requirement already satisfied: networkx>=3.0 in c:\\users\\crosve\\desktop\\python testing\\cuda\\lib\\site-packages (from llama-index-core<0.13.0,>=0.12.0->llama-index-llms-llama-cpp) (3.3)\n",
      "Requirement already satisfied: tenacity!=8.4.0,<10.0.0,>=8.2.0 in c:\\users\\crosve\\desktop\\python testing\\cuda\\lib\\site-packages (from llama-index-core<0.13.0,>=0.12.0->llama-index-llms-llama-cpp) (9.1.2)\n",
      "Requirement already satisfied: filetype<2,>=1.2.0 in c:\\users\\crosve\\desktop\\python testing\\cuda\\lib\\site-packages (from llama-index-core<0.13.0,>=0.12.0->llama-index-llms-llama-cpp) (1.2.0)\n",
      "Requirement already satisfied: attrs>=17.3.0 in c:\\users\\crosve\\desktop\\python testing\\cuda\\lib\\site-packages (from aiohttp<4,>=3.8.6->llama-index-core<0.13.0,>=0.12.0->llama-index-llms-llama-cpp) (25.3.0)\n",
      "Requirement already satisfied: aiosignal>=1.1.2 in c:\\users\\crosve\\desktop\\python testing\\cuda\\lib\\site-packages (from aiohttp<4,>=3.8.6->llama-index-core<0.13.0,>=0.12.0->llama-index-llms-llama-cpp) (1.3.2)\n",
      "Requirement already satisfied: propcache>=0.2.0 in c:\\users\\crosve\\desktop\\python testing\\cuda\\lib\\site-packages (from aiohttp<4,>=3.8.6->llama-index-core<0.13.0,>=0.12.0->llama-index-llms-llama-cpp) (0.3.2)\n",
      "Requirement already satisfied: async-timeout<6.0,>=4.0 in c:\\users\\crosve\\desktop\\python testing\\cuda\\lib\\site-packages (from aiohttp<4,>=3.8.6->llama-index-core<0.13.0,>=0.12.0->llama-index-llms-llama-cpp) (5.0.1)\n",
      "Requirement already satisfied: frozenlist>=1.1.1 in c:\\users\\crosve\\desktop\\python testing\\cuda\\lib\\site-packages (from aiohttp<4,>=3.8.6->llama-index-core<0.13.0,>=0.12.0->llama-index-llms-llama-cpp) (1.7.0)\n",
      "Requirement already satisfied: aiohappyeyeballs>=2.5.0 in c:\\users\\crosve\\desktop\\python testing\\cuda\\lib\\site-packages (from aiohttp<4,>=3.8.6->llama-index-core<0.13.0,>=0.12.0->llama-index-llms-llama-cpp) (2.6.1)\n",
      "Requirement already satisfied: multidict<7.0,>=4.5 in c:\\users\\crosve\\desktop\\python testing\\cuda\\lib\\site-packages (from aiohttp<4,>=3.8.6->llama-index-core<0.13.0,>=0.12.0->llama-index-llms-llama-cpp) (6.6.2)\n",
      "Requirement already satisfied: yarl<2.0,>=1.17.0 in c:\\users\\crosve\\desktop\\python testing\\cuda\\lib\\site-packages (from aiohttp<4,>=3.8.6->llama-index-core<0.13.0,>=0.12.0->llama-index-llms-llama-cpp) (1.20.1)\n",
      "Requirement already satisfied: platformdirs in c:\\users\\crosve\\desktop\\python testing\\cuda\\lib\\site-packages (from banks<3,>=2.0.0->llama-index-core<0.13.0,>=0.12.0->llama-index-llms-llama-cpp) (4.3.8)\n",
      "Requirement already satisfied: griffe in c:\\users\\crosve\\desktop\\python testing\\cuda\\lib\\site-packages (from banks<3,>=2.0.0->llama-index-core<0.13.0,>=0.12.0->llama-index-llms-llama-cpp) (1.7.3)\n",
      "Requirement already satisfied: llama-index-instrumentation>=0.1.0 in c:\\users\\crosve\\desktop\\python testing\\cuda\\lib\\site-packages (from llama-index-workflows<2,>=1.0.1->llama-index-core<0.13.0,>=0.12.0->llama-index-llms-llama-cpp) (0.2.0)\n",
      "Requirement already satisfied: click in c:\\users\\crosve\\desktop\\python testing\\cuda\\lib\\site-packages (from nltk>3.8.1->llama-index-core<0.13.0,>=0.12.0->llama-index-llms-llama-cpp) (8.2.1)\n",
      "Requirement already satisfied: joblib in c:\\users\\crosve\\desktop\\python testing\\cuda\\lib\\site-packages (from nltk>3.8.1->llama-index-core<0.13.0,>=0.12.0->llama-index-llms-llama-cpp) (1.5.1)\n",
      "Requirement already satisfied: regex>=2021.8.3 in c:\\users\\crosve\\desktop\\python testing\\cuda\\lib\\site-packages (from nltk>3.8.1->llama-index-core<0.13.0,>=0.12.0->llama-index-llms-llama-cpp) (2024.11.6)\n",
      "Requirement already satisfied: annotated-types>=0.6.0 in c:\\users\\crosve\\desktop\\python testing\\cuda\\lib\\site-packages (from pydantic>=2.8.0->llama-index-core<0.13.0,>=0.12.0->llama-index-llms-llama-cpp) (0.7.0)\n",
      "Requirement already satisfied: typing-inspection>=0.4.0 in c:\\users\\crosve\\desktop\\python testing\\cuda\\lib\\site-packages (from pydantic>=2.8.0->llama-index-core<0.13.0,>=0.12.0->llama-index-llms-llama-cpp) (0.4.1)\n",
      "Requirement already satisfied: pydantic-core==2.33.2 in c:\\users\\crosve\\desktop\\python testing\\cuda\\lib\\site-packages (from pydantic>=2.8.0->llama-index-core<0.13.0,>=0.12.0->llama-index-llms-llama-cpp) (2.33.2)\n",
      "Requirement already satisfied: charset_normalizer<4,>=2 in c:\\users\\crosve\\desktop\\python testing\\cuda\\lib\\site-packages (from requests>=2.31.0->llama-index-core<0.13.0,>=0.12.0->llama-index-llms-llama-cpp) (3.4.2)\n",
      "Requirement already satisfied: certifi>=2017.4.17 in c:\\users\\crosve\\desktop\\python testing\\cuda\\lib\\site-packages (from requests>=2.31.0->llama-index-core<0.13.0,>=0.12.0->llama-index-llms-llama-cpp) (2025.6.15)\n",
      "Requirement already satisfied: urllib3<3,>=1.21.1 in c:\\users\\crosve\\desktop\\python testing\\cuda\\lib\\site-packages (from requests>=2.31.0->llama-index-core<0.13.0,>=0.12.0->llama-index-llms-llama-cpp) (2.5.0)\n",
      "Requirement already satisfied: idna<4,>=2.5 in c:\\users\\crosve\\desktop\\python testing\\cuda\\lib\\site-packages (from requests>=2.31.0->llama-index-core<0.13.0,>=0.12.0->llama-index-llms-llama-cpp) (3.10)\n",
      "Requirement already satisfied: greenlet>=1 in c:\\users\\crosve\\desktop\\python testing\\cuda\\lib\\site-packages (from sqlalchemy[asyncio]>=1.4.49->llama-index-core<0.13.0,>=0.12.0->llama-index-llms-llama-cpp) (3.2.3)\n",
      "Requirement already satisfied: colorama in c:\\users\\crosve\\desktop\\python testing\\cuda\\lib\\site-packages (from tqdm<5,>=4.66.1->llama-index-core<0.13.0,>=0.12.0->llama-index-llms-llama-cpp) (0.4.6)\n",
      "Requirement already satisfied: mypy-extensions>=0.3.0 in c:\\users\\crosve\\desktop\\python testing\\cuda\\lib\\site-packages (from typing-inspect>=0.8.0->llama-index-core<0.13.0,>=0.12.0->llama-index-llms-llama-cpp) (1.1.0)\n",
      "Requirement already satisfied: marshmallow<4.0.0,>=3.18.0 in c:\\users\\crosve\\desktop\\python testing\\cuda\\lib\\site-packages (from dataclasses-json->llama-index-core<0.13.0,>=0.12.0->llama-index-llms-llama-cpp) (3.26.1)\n",
      "Requirement already satisfied: packaging>=17.0 in c:\\users\\crosve\\desktop\\python testing\\cuda\\lib\\site-packages (from marshmallow<4.0.0,>=3.18.0->dataclasses-json->llama-index-core<0.13.0,>=0.12.0->llama-index-llms-llama-cpp) (25.0)\n",
      "Requirement already satisfied: anyio in c:\\users\\crosve\\desktop\\python testing\\cuda\\lib\\site-packages (from httpx->llama-index-core<0.13.0,>=0.12.0->llama-index-llms-llama-cpp) (4.9.0)\n",
      "Requirement already satisfied: httpcore==1.* in c:\\users\\crosve\\desktop\\python testing\\cuda\\lib\\site-packages (from httpx->llama-index-core<0.13.0,>=0.12.0->llama-index-llms-llama-cpp) (1.0.9)\n",
      "Requirement already satisfied: h11>=0.16 in c:\\users\\crosve\\desktop\\python testing\\cuda\\lib\\site-packages (from httpcore==1.*->httpx->llama-index-core<0.13.0,>=0.12.0->llama-index-llms-llama-cpp) (0.16.0)\n",
      "Requirement already satisfied: sniffio>=1.1 in c:\\users\\crosve\\desktop\\python testing\\cuda\\lib\\site-packages (from anyio->httpx->llama-index-core<0.13.0,>=0.12.0->llama-index-llms-llama-cpp) (1.3.1)\n",
      "Requirement already satisfied: exceptiongroup>=1.0.2 in c:\\users\\crosve\\desktop\\python testing\\cuda\\lib\\site-packages (from anyio->httpx->llama-index-core<0.13.0,>=0.12.0->llama-index-llms-llama-cpp) (1.3.0)\n",
      "Note: you may need to restart the kernel to use updated packages.\n"
     ]
    },
    {
     "name": "stderr",
     "output_type": "stream",
     "text": [
      "WARNING: Ignoring invalid distribution -rotobuf (c:\\users\\crosve\\desktop\\python testing\\cuda\\lib\\site-packages)\n",
      "WARNING: Ignoring invalid distribution -rotobuf (c:\\users\\crosve\\desktop\\python testing\\cuda\\lib\\site-packages)\n",
      "WARNING: Ignoring invalid distribution -rotobuf (c:\\users\\crosve\\desktop\\python testing\\cuda\\lib\\site-packages)\n",
      "WARNING: Ignoring invalid distribution -rotobuf (c:\\users\\crosve\\desktop\\python testing\\cuda\\lib\\site-packages)\n",
      "WARNING: Ignoring invalid distribution -rotobuf (c:\\users\\crosve\\desktop\\python testing\\cuda\\lib\\site-packages)\n",
      "WARNING: Ignoring invalid distribution -rotobuf (c:\\users\\crosve\\desktop\\python testing\\cuda\\lib\\site-packages)\n",
      "WARNING: You are using pip version 21.2.3; however, version 25.1.1 is available.\n",
      "You should consider upgrading via the 'c:\\Users\\crosve\\Desktop\\python testing\\cuda\\Scripts\\python.exe -m pip install --upgrade pip' command.\n"
     ]
    }
   ],
   "source": [
    "pip install llama-index-llms-llama-cpp"
   ]
  },
  {
   "cell_type": "code",
   "execution_count": 7,
   "id": "0b7b3306",
   "metadata": {},
   "outputs": [
    {
     "name": "stdout",
     "output_type": "stream",
     "text": [
      "Collecting llama-index-llms-palm\n",
      "  Using cached llama_index_llms_palm-0.3.0-py3-none-any.whl (3.9 kB)\n",
      "Collecting google-generativeai<0.6.0,>=0.5.2\n",
      "  Using cached google_generativeai-0.5.4-py3-none-any.whl (150 kB)\n",
      "Requirement already satisfied: llama-index-core<0.13.0,>=0.12.0 in c:\\users\\crosve\\desktop\\python testing\\cuda\\lib\\site-packages (from llama-index-llms-palm) (0.12.44)\n",
      "Collecting google-ai-generativelanguage==0.6.4\n",
      "  Using cached google_ai_generativelanguage-0.6.4-py3-none-any.whl (679 kB)\n",
      "Requirement already satisfied: pydantic in c:\\users\\crosve\\desktop\\python testing\\cuda\\lib\\site-packages (from google-generativeai<0.6.0,>=0.5.2->llama-index-llms-palm) (2.11.7)\n",
      "Requirement already satisfied: google-auth>=2.15.0 in c:\\users\\crosve\\desktop\\python testing\\cuda\\lib\\site-packages (from google-generativeai<0.6.0,>=0.5.2->llama-index-llms-palm) (2.40.3)\n",
      "Requirement already satisfied: tqdm in c:\\users\\crosve\\desktop\\python testing\\cuda\\lib\\site-packages (from google-generativeai<0.6.0,>=0.5.2->llama-index-llms-palm) (4.67.1)\n",
      "Requirement already satisfied: google-api-core in c:\\users\\crosve\\desktop\\python testing\\cuda\\lib\\site-packages (from google-generativeai<0.6.0,>=0.5.2->llama-index-llms-palm) (2.25.1)\n",
      "Requirement already satisfied: protobuf in c:\\users\\crosve\\desktop\\python testing\\cuda\\lib\\site-packages (from google-generativeai<0.6.0,>=0.5.2->llama-index-llms-palm) (5.29.5)\n",
      "Requirement already satisfied: typing-extensions in c:\\users\\crosve\\desktop\\python testing\\cuda\\lib\\site-packages (from google-generativeai<0.6.0,>=0.5.2->llama-index-llms-palm) (4.14.0)\n",
      "Requirement already satisfied: google-api-python-client in c:\\users\\crosve\\desktop\\python testing\\cuda\\lib\\site-packages (from google-generativeai<0.6.0,>=0.5.2->llama-index-llms-palm) (2.174.0)\n",
      "Requirement already satisfied: proto-plus<2.0.0dev,>=1.22.3 in c:\\users\\crosve\\desktop\\python testing\\cuda\\lib\\site-packages (from google-ai-generativelanguage==0.6.4->google-generativeai<0.6.0,>=0.5.2->llama-index-llms-palm) (1.26.1)\n",
      "Collecting protobuf\n",
      "  Using cached protobuf-4.25.8-cp310-abi3-win_amd64.whl (413 kB)\n",
      "Requirement already satisfied: requests<3.0.0,>=2.18.0 in c:\\users\\crosve\\desktop\\python testing\\cuda\\lib\\site-packages (from google-api-core->google-generativeai<0.6.0,>=0.5.2->llama-index-llms-palm) (2.32.4)\n",
      "Requirement already satisfied: googleapis-common-protos<2.0.0,>=1.56.2 in c:\\users\\crosve\\desktop\\python testing\\cuda\\lib\\site-packages (from google-api-core->google-generativeai<0.6.0,>=0.5.2->llama-index-llms-palm) (1.70.0)\n",
      "Requirement already satisfied: grpcio<2.0.0,>=1.33.2 in c:\\users\\crosve\\desktop\\python testing\\cuda\\lib\\site-packages (from google-api-core->google-generativeai<0.6.0,>=0.5.2->llama-index-llms-palm) (1.73.1)\n",
      "Requirement already satisfied: grpcio-status<2.0.0,>=1.33.2 in c:\\users\\crosve\\desktop\\python testing\\cuda\\lib\\site-packages (from google-api-core->google-generativeai<0.6.0,>=0.5.2->llama-index-llms-palm) (1.71.2)\n",
      "Requirement already satisfied: pyasn1-modules>=0.2.1 in c:\\users\\crosve\\desktop\\python testing\\cuda\\lib\\site-packages (from google-auth>=2.15.0->google-generativeai<0.6.0,>=0.5.2->llama-index-llms-palm) (0.4.2)\n",
      "Requirement already satisfied: rsa<5,>=3.1.4 in c:\\users\\crosve\\desktop\\python testing\\cuda\\lib\\site-packages (from google-auth>=2.15.0->google-generativeai<0.6.0,>=0.5.2->llama-index-llms-palm) (4.9.1)\n",
      "Requirement already satisfied: cachetools<6.0,>=2.0.0 in c:\\users\\crosve\\desktop\\python testing\\cuda\\lib\\site-packages (from google-auth>=2.15.0->google-generativeai<0.6.0,>=0.5.2->llama-index-llms-palm) (5.5.2)\n",
      "Collecting grpcio-status<2.0.0,>=1.33.2\n",
      "  Using cached grpcio_status-1.73.1-py3-none-any.whl (14 kB)\n",
      "  Using cached grpcio_status-1.73.0-py3-none-any.whl (14 kB)\n",
      "  Using cached grpcio_status-1.72.2-py3-none-any.whl (14 kB)\n",
      "  Using cached grpcio_status-1.72.1-py3-none-any.whl (14 kB)\n",
      "  Using cached grpcio_status-1.71.0-py3-none-any.whl (14 kB)\n",
      "  Using cached grpcio_status-1.70.0-py3-none-any.whl (14 kB)\n",
      "  Using cached grpcio_status-1.69.0-py3-none-any.whl (14 kB)\n",
      "  Using cached grpcio_status-1.68.1-py3-none-any.whl (14 kB)\n",
      "  Using cached grpcio_status-1.68.0-py3-none-any.whl (14 kB)\n",
      "  Using cached grpcio_status-1.67.1-py3-none-any.whl (14 kB)\n",
      "  Using cached grpcio_status-1.67.0-py3-none-any.whl (14 kB)\n",
      "  Using cached grpcio_status-1.66.2-py3-none-any.whl (14 kB)\n",
      "  Using cached grpcio_status-1.66.1-py3-none-any.whl (14 kB)\n",
      "  Using cached grpcio_status-1.66.0-py3-none-any.whl (14 kB)\n",
      "  Using cached grpcio_status-1.65.5-py3-none-any.whl (14 kB)\n",
      "  Using cached grpcio_status-1.65.4-py3-none-any.whl (14 kB)\n",
      "  Using cached grpcio_status-1.65.2-py3-none-any.whl (14 kB)\n",
      "  Using cached grpcio_status-1.65.1-py3-none-any.whl (14 kB)\n",
      "  Using cached grpcio_status-1.64.3-py3-none-any.whl (14 kB)\n",
      "  Using cached grpcio_status-1.64.1-py3-none-any.whl (14 kB)\n",
      "  Using cached grpcio_status-1.64.0-py3-none-any.whl (14 kB)\n",
      "  Using cached grpcio_status-1.63.2-py3-none-any.whl (14 kB)\n",
      "  Using cached grpcio_status-1.63.0-py3-none-any.whl (14 kB)\n",
      "  Using cached grpcio_status-1.62.3-py3-none-any.whl (14 kB)\n",
      "Requirement already satisfied: tiktoken>=0.7.0 in c:\\users\\crosve\\desktop\\python testing\\cuda\\lib\\site-packages (from llama-index-core<0.13.0,>=0.12.0->llama-index-llms-palm) (0.9.0)\n",
      "Requirement already satisfied: banks<3,>=2.0.0 in c:\\users\\crosve\\desktop\\python testing\\cuda\\lib\\site-packages (from llama-index-core<0.13.0,>=0.12.0->llama-index-llms-palm) (2.1.3)\n",
      "Requirement already satisfied: dataclasses-json in c:\\users\\crosve\\desktop\\python testing\\cuda\\lib\\site-packages (from llama-index-core<0.13.0,>=0.12.0->llama-index-llms-palm) (0.6.7)\n",
      "Requirement already satisfied: fsspec>=2023.5.0 in c:\\users\\crosve\\desktop\\python testing\\cuda\\lib\\site-packages (from llama-index-core<0.13.0,>=0.12.0->llama-index-llms-palm) (2024.6.1)\n",
      "Requirement already satisfied: typing-inspect>=0.8.0 in c:\\users\\crosve\\desktop\\python testing\\cuda\\lib\\site-packages (from llama-index-core<0.13.0,>=0.12.0->llama-index-llms-palm) (0.9.0)\n",
      "Requirement already satisfied: aiosqlite in c:\\users\\crosve\\desktop\\python testing\\cuda\\lib\\site-packages (from llama-index-core<0.13.0,>=0.12.0->llama-index-llms-palm) (0.21.0)\n",
      "Requirement already satisfied: pillow>=9.0.0 in c:\\users\\crosve\\desktop\\python testing\\cuda\\lib\\site-packages (from llama-index-core<0.13.0,>=0.12.0->llama-index-llms-palm) (11.0.0)\n",
      "Requirement already satisfied: numpy in c:\\users\\crosve\\desktop\\python testing\\cuda\\lib\\site-packages (from llama-index-core<0.13.0,>=0.12.0->llama-index-llms-palm) (2.1.2)\n",
      "Requirement already satisfied: sqlalchemy[asyncio]>=1.4.49 in c:\\users\\crosve\\desktop\\python testing\\cuda\\lib\\site-packages (from llama-index-core<0.13.0,>=0.12.0->llama-index-llms-palm) (2.0.41)\n",
      "Requirement already satisfied: httpx in c:\\users\\crosve\\desktop\\python testing\\cuda\\lib\\site-packages (from llama-index-core<0.13.0,>=0.12.0->llama-index-llms-palm) (0.28.1)\n",
      "Requirement already satisfied: setuptools>=80.9.0 in c:\\users\\crosve\\desktop\\python testing\\cuda\\lib\\site-packages (from llama-index-core<0.13.0,>=0.12.0->llama-index-llms-palm) (80.9.0)\n",
      "Requirement already satisfied: deprecated>=1.2.9.3 in c:\\users\\crosve\\desktop\\python testing\\cuda\\lib\\site-packages (from llama-index-core<0.13.0,>=0.12.0->llama-index-llms-palm) (1.2.18)\n",
      "Requirement already satisfied: nest-asyncio<2,>=1.5.8 in c:\\users\\crosve\\desktop\\python testing\\cuda\\lib\\site-packages (from llama-index-core<0.13.0,>=0.12.0->llama-index-llms-palm) (1.6.0)\n",
      "Requirement already satisfied: nltk>3.8.1 in c:\\users\\crosve\\desktop\\python testing\\cuda\\lib\\site-packages (from llama-index-core<0.13.0,>=0.12.0->llama-index-llms-palm) (3.9.1)\n",
      "Requirement already satisfied: dirtyjson<2,>=1.0.8 in c:\\users\\crosve\\desktop\\python testing\\cuda\\lib\\site-packages (from llama-index-core<0.13.0,>=0.12.0->llama-index-llms-palm) (1.0.8)\n",
      "Requirement already satisfied: aiohttp<4,>=3.8.6 in c:\\users\\crosve\\desktop\\python testing\\cuda\\lib\\site-packages (from llama-index-core<0.13.0,>=0.12.0->llama-index-llms-palm) (3.12.13)\n",
      "Requirement already satisfied: pyyaml>=6.0.1 in c:\\users\\crosve\\desktop\\python testing\\cuda\\lib\\site-packages (from llama-index-core<0.13.0,>=0.12.0->llama-index-llms-palm) (6.0.2)\n",
      "Requirement already satisfied: wrapt in c:\\users\\crosve\\desktop\\python testing\\cuda\\lib\\site-packages (from llama-index-core<0.13.0,>=0.12.0->llama-index-llms-palm) (1.17.2)\n",
      "Requirement already satisfied: llama-index-workflows<2,>=1.0.1 in c:\\users\\crosve\\desktop\\python testing\\cuda\\lib\\site-packages (from llama-index-core<0.13.0,>=0.12.0->llama-index-llms-palm) (1.0.1)\n",
      "Requirement already satisfied: tenacity!=8.4.0,<10.0.0,>=8.2.0 in c:\\users\\crosve\\desktop\\python testing\\cuda\\lib\\site-packages (from llama-index-core<0.13.0,>=0.12.0->llama-index-llms-palm) (9.1.2)\n",
      "Requirement already satisfied: networkx>=3.0 in c:\\users\\crosve\\desktop\\python testing\\cuda\\lib\\site-packages (from llama-index-core<0.13.0,>=0.12.0->llama-index-llms-palm) (3.3)\n",
      "Requirement already satisfied: filetype<2,>=1.2.0 in c:\\users\\crosve\\desktop\\python testing\\cuda\\lib\\site-packages (from llama-index-core<0.13.0,>=0.12.0->llama-index-llms-palm) (1.2.0)\n",
      "Requirement already satisfied: frozenlist>=1.1.1 in c:\\users\\crosve\\desktop\\python testing\\cuda\\lib\\site-packages (from aiohttp<4,>=3.8.6->llama-index-core<0.13.0,>=0.12.0->llama-index-llms-palm) (1.7.0)\n",
      "Requirement already satisfied: aiohappyeyeballs>=2.5.0 in c:\\users\\crosve\\desktop\\python testing\\cuda\\lib\\site-packages (from aiohttp<4,>=3.8.6->llama-index-core<0.13.0,>=0.12.0->llama-index-llms-palm) (2.6.1)\n",
      "Requirement already satisfied: async-timeout<6.0,>=4.0 in c:\\users\\crosve\\desktop\\python testing\\cuda\\lib\\site-packages (from aiohttp<4,>=3.8.6->llama-index-core<0.13.0,>=0.12.0->llama-index-llms-palm) (5.0.1)\n",
      "Requirement already satisfied: attrs>=17.3.0 in c:\\users\\crosve\\desktop\\python testing\\cuda\\lib\\site-packages (from aiohttp<4,>=3.8.6->llama-index-core<0.13.0,>=0.12.0->llama-index-llms-palm) (25.3.0)\n",
      "Requirement already satisfied: aiosignal>=1.1.2 in c:\\users\\crosve\\desktop\\python testing\\cuda\\lib\\site-packages (from aiohttp<4,>=3.8.6->llama-index-core<0.13.0,>=0.12.0->llama-index-llms-palm) (1.3.2)\n",
      "Requirement already satisfied: multidict<7.0,>=4.5 in c:\\users\\crosve\\desktop\\python testing\\cuda\\lib\\site-packages (from aiohttp<4,>=3.8.6->llama-index-core<0.13.0,>=0.12.0->llama-index-llms-palm) (6.6.2)\n",
      "Requirement already satisfied: yarl<2.0,>=1.17.0 in c:\\users\\crosve\\desktop\\python testing\\cuda\\lib\\site-packages (from aiohttp<4,>=3.8.6->llama-index-core<0.13.0,>=0.12.0->llama-index-llms-palm) (1.20.1)\n",
      "Requirement already satisfied: propcache>=0.2.0 in c:\\users\\crosve\\desktop\\python testing\\cuda\\lib\\site-packages (from aiohttp<4,>=3.8.6->llama-index-core<0.13.0,>=0.12.0->llama-index-llms-palm) (0.3.2)\n",
      "Requirement already satisfied: platformdirs in c:\\users\\crosve\\desktop\\python testing\\cuda\\lib\\site-packages (from banks<3,>=2.0.0->llama-index-core<0.13.0,>=0.12.0->llama-index-llms-palm) (4.3.8)\n",
      "Requirement already satisfied: jinja2 in c:\\users\\crosve\\desktop\\python testing\\cuda\\lib\\site-packages (from banks<3,>=2.0.0->llama-index-core<0.13.0,>=0.12.0->llama-index-llms-palm) (3.1.6)\n",
      "Requirement already satisfied: griffe in c:\\users\\crosve\\desktop\\python testing\\cuda\\lib\\site-packages (from banks<3,>=2.0.0->llama-index-core<0.13.0,>=0.12.0->llama-index-llms-palm) (1.7.3)\n",
      "Requirement already satisfied: llama-index-instrumentation>=0.1.0 in c:\\users\\crosve\\desktop\\python testing\\cuda\\lib\\site-packages (from llama-index-workflows<2,>=1.0.1->llama-index-core<0.13.0,>=0.12.0->llama-index-llms-palm) (0.2.0)\n",
      "Requirement already satisfied: click in c:\\users\\crosve\\desktop\\python testing\\cuda\\lib\\site-packages (from nltk>3.8.1->llama-index-core<0.13.0,>=0.12.0->llama-index-llms-palm) (8.2.1)\n",
      "Requirement already satisfied: joblib in c:\\users\\crosve\\desktop\\python testing\\cuda\\lib\\site-packages (from nltk>3.8.1->llama-index-core<0.13.0,>=0.12.0->llama-index-llms-palm) (1.5.1)\n",
      "Requirement already satisfied: regex>=2021.8.3 in c:\\users\\crosve\\desktop\\python testing\\cuda\\lib\\site-packages (from nltk>3.8.1->llama-index-core<0.13.0,>=0.12.0->llama-index-llms-palm) (2024.11.6)\n",
      "Requirement already satisfied: pyasn1<0.7.0,>=0.6.1 in c:\\users\\crosve\\desktop\\python testing\\cuda\\lib\\site-packages (from pyasn1-modules>=0.2.1->google-auth>=2.15.0->google-generativeai<0.6.0,>=0.5.2->llama-index-llms-palm) (0.6.1)\n",
      "Requirement already satisfied: typing-inspection>=0.4.0 in c:\\users\\crosve\\desktop\\python testing\\cuda\\lib\\site-packages (from pydantic->google-generativeai<0.6.0,>=0.5.2->llama-index-llms-palm) (0.4.1)\n",
      "Requirement already satisfied: pydantic-core==2.33.2 in c:\\users\\crosve\\desktop\\python testing\\cuda\\lib\\site-packages (from pydantic->google-generativeai<0.6.0,>=0.5.2->llama-index-llms-palm) (2.33.2)\n",
      "Requirement already satisfied: annotated-types>=0.6.0 in c:\\users\\crosve\\desktop\\python testing\\cuda\\lib\\site-packages (from pydantic->google-generativeai<0.6.0,>=0.5.2->llama-index-llms-palm) (0.7.0)\n",
      "Requirement already satisfied: charset_normalizer<4,>=2 in c:\\users\\crosve\\desktop\\python testing\\cuda\\lib\\site-packages (from requests<3.0.0,>=2.18.0->google-api-core->google-generativeai<0.6.0,>=0.5.2->llama-index-llms-palm) (3.4.2)\n",
      "Requirement already satisfied: idna<4,>=2.5 in c:\\users\\crosve\\desktop\\python testing\\cuda\\lib\\site-packages (from requests<3.0.0,>=2.18.0->google-api-core->google-generativeai<0.6.0,>=0.5.2->llama-index-llms-palm) (3.10)\n",
      "Requirement already satisfied: certifi>=2017.4.17 in c:\\users\\crosve\\desktop\\python testing\\cuda\\lib\\site-packages (from requests<3.0.0,>=2.18.0->google-api-core->google-generativeai<0.6.0,>=0.5.2->llama-index-llms-palm) (2025.6.15)\n",
      "Requirement already satisfied: urllib3<3,>=1.21.1 in c:\\users\\crosve\\desktop\\python testing\\cuda\\lib\\site-packages (from requests<3.0.0,>=2.18.0->google-api-core->google-generativeai<0.6.0,>=0.5.2->llama-index-llms-palm) (2.5.0)\n",
      "Requirement already satisfied: greenlet>=1 in c:\\users\\crosve\\desktop\\python testing\\cuda\\lib\\site-packages (from sqlalchemy[asyncio]>=1.4.49->llama-index-core<0.13.0,>=0.12.0->llama-index-llms-palm) (3.2.3)\n",
      "Requirement already satisfied: colorama in c:\\users\\crosve\\desktop\\python testing\\cuda\\lib\\site-packages (from tqdm->google-generativeai<0.6.0,>=0.5.2->llama-index-llms-palm) (0.4.6)\n",
      "Requirement already satisfied: mypy-extensions>=0.3.0 in c:\\users\\crosve\\desktop\\python testing\\cuda\\lib\\site-packages (from typing-inspect>=0.8.0->llama-index-core<0.13.0,>=0.12.0->llama-index-llms-palm) (1.1.0)\n",
      "Requirement already satisfied: marshmallow<4.0.0,>=3.18.0 in c:\\users\\crosve\\desktop\\python testing\\cuda\\lib\\site-packages (from dataclasses-json->llama-index-core<0.13.0,>=0.12.0->llama-index-llms-palm) (3.26.1)\n",
      "Requirement already satisfied: packaging>=17.0 in c:\\users\\crosve\\desktop\\python testing\\cuda\\lib\\site-packages (from marshmallow<4.0.0,>=3.18.0->dataclasses-json->llama-index-core<0.13.0,>=0.12.0->llama-index-llms-palm) (25.0)\n",
      "Requirement already satisfied: uritemplate<5,>=3.0.1 in c:\\users\\crosve\\desktop\\python testing\\cuda\\lib\\site-packages (from google-api-python-client->google-generativeai<0.6.0,>=0.5.2->llama-index-llms-palm) (4.2.0)\n",
      "Requirement already satisfied: google-auth-httplib2<1.0.0,>=0.2.0 in c:\\users\\crosve\\desktop\\python testing\\cuda\\lib\\site-packages (from google-api-python-client->google-generativeai<0.6.0,>=0.5.2->llama-index-llms-palm) (0.2.0)\n",
      "Requirement already satisfied: httplib2<1.0.0,>=0.19.0 in c:\\users\\crosve\\desktop\\python testing\\cuda\\lib\\site-packages (from google-api-python-client->google-generativeai<0.6.0,>=0.5.2->llama-index-llms-palm) (0.22.0)\n",
      "Requirement already satisfied: pyparsing!=3.0.0,!=3.0.1,!=3.0.2,!=3.0.3,<4,>=2.4.2 in c:\\users\\crosve\\desktop\\python testing\\cuda\\lib\\site-packages (from httplib2<1.0.0,>=0.19.0->google-api-python-client->google-generativeai<0.6.0,>=0.5.2->llama-index-llms-palm) (3.2.3)\n",
      "Requirement already satisfied: httpcore==1.* in c:\\users\\crosve\\desktop\\python testing\\cuda\\lib\\site-packages (from httpx->llama-index-core<0.13.0,>=0.12.0->llama-index-llms-palm) (1.0.9)\n",
      "Requirement already satisfied: anyio in c:\\users\\crosve\\desktop\\python testing\\cuda\\lib\\site-packages (from httpx->llama-index-core<0.13.0,>=0.12.0->llama-index-llms-palm) (4.9.0)\n",
      "Requirement already satisfied: h11>=0.16 in c:\\users\\crosve\\desktop\\python testing\\cuda\\lib\\site-packages (from httpcore==1.*->httpx->llama-index-core<0.13.0,>=0.12.0->llama-index-llms-palm) (0.16.0)\n",
      "Requirement already satisfied: sniffio>=1.1 in c:\\users\\crosve\\desktop\\python testing\\cuda\\lib\\site-packages (from anyio->httpx->llama-index-core<0.13.0,>=0.12.0->llama-index-llms-palm) (1.3.1)\n",
      "Requirement already satisfied: exceptiongroup>=1.0.2 in c:\\users\\crosve\\desktop\\python testing\\cuda\\lib\\site-packages (from anyio->httpx->llama-index-core<0.13.0,>=0.12.0->llama-index-llms-palm) (1.3.0)\n",
      "Requirement already satisfied: MarkupSafe>=2.0 in c:\\users\\crosve\\desktop\\python testing\\cuda\\lib\\site-packages (from jinja2->banks<3,>=2.0.0->llama-index-core<0.13.0,>=0.12.0->llama-index-llms-palm) (3.0.2)\n",
      "Installing collected packages: protobuf, grpcio-status, google-ai-generativelanguage, google-generativeai, llama-index-llms-palm\n",
      "  Attempting uninstall: protobuf\n",
      "    Found existing installation: protobuf 5.29.5\n",
      "    Uninstalling protobuf-5.29.5:\n",
      "      Successfully uninstalled protobuf-5.29.5\n",
      "  Attempting uninstall: grpcio-status\n",
      "    Found existing installation: grpcio-status 1.71.2\n",
      "    Uninstalling grpcio-status-1.71.2:\n",
      "      Successfully uninstalled grpcio-status-1.71.2\n",
      "  Attempting uninstall: google-ai-generativelanguage\n",
      "    Found existing installation: google-ai-generativelanguage 0.6.15\n",
      "    Uninstalling google-ai-generativelanguage-0.6.15:\n",
      "      Successfully uninstalled google-ai-generativelanguage-0.6.15\n",
      "  Attempting uninstall: google-generativeai\n",
      "    Found existing installation: google-generativeai 0.8.5\n",
      "    Uninstalling google-generativeai-0.8.5:\n",
      "      Successfully uninstalled google-generativeai-0.8.5\n",
      "Successfully installed google-ai-generativelanguage-0.6.4 google-generativeai-0.5.4 grpcio-status-1.62.3 llama-index-llms-palm-0.3.0 protobuf-4.25.8\n",
      "Note: you may need to restart the kernel to use updated packages.\n"
     ]
    },
    {
     "name": "stderr",
     "output_type": "stream",
     "text": [
      "WARNING: Ignoring invalid distribution -rotobuf (c:\\users\\crosve\\desktop\\python testing\\cuda\\lib\\site-packages)\n",
      "WARNING: Ignoring invalid distribution -rotobuf (c:\\users\\crosve\\desktop\\python testing\\cuda\\lib\\site-packages)\n",
      "WARNING: Ignoring invalid distribution -rotobuf (c:\\users\\crosve\\desktop\\python testing\\cuda\\lib\\site-packages)\n",
      "    WARNING: Ignoring invalid distribution -rotobuf (c:\\users\\crosve\\desktop\\python testing\\cuda\\lib\\site-packages)\n",
      "    WARNING: Ignoring invalid distribution -rotobuf (c:\\users\\crosve\\desktop\\python testing\\cuda\\lib\\site-packages)\n",
      "    WARNING: Ignoring invalid distribution -rotobuf (c:\\users\\crosve\\desktop\\python testing\\cuda\\lib\\site-packages)\n",
      "    WARNING: Ignoring invalid distribution -rotobuf (c:\\users\\crosve\\desktop\\python testing\\cuda\\lib\\site-packages)\n",
      "WARNING: Ignoring invalid distribution -rotobuf (c:\\users\\crosve\\desktop\\python testing\\cuda\\lib\\site-packages)\n",
      "WARNING: Ignoring invalid distribution -rotobuf (c:\\users\\crosve\\desktop\\python testing\\cuda\\lib\\site-packages)\n",
      "WARNING: Ignoring invalid distribution -rotobuf (c:\\users\\crosve\\desktop\\python testing\\cuda\\lib\\site-packages)\n",
      "WARNING: Ignoring invalid distribution -rotobuf (c:\\users\\crosve\\desktop\\python testing\\cuda\\lib\\site-packages)\n",
      "WARNING: Ignoring invalid distribution -rotobuf (c:\\users\\crosve\\desktop\\python testing\\cuda\\lib\\site-packages)\n",
      "WARNING: Ignoring invalid distribution -rotobuf (c:\\users\\crosve\\desktop\\python testing\\cuda\\lib\\site-packages)\n",
      "WARNING: Ignoring invalid distribution -rotobuf (c:\\users\\crosve\\desktop\\python testing\\cuda\\lib\\site-packages)\n",
      "WARNING: Ignoring invalid distribution -rotobuf (c:\\users\\crosve\\desktop\\python testing\\cuda\\lib\\site-packages)\n",
      "WARNING: You are using pip version 21.2.3; however, version 25.1.1 is available.\n",
      "You should consider upgrading via the 'c:\\Users\\crosve\\Desktop\\python testing\\cuda\\Scripts\\python.exe -m pip install --upgrade pip' command.\n"
     ]
    }
   ],
   "source": [
    "%pip install llama-index-llms-palm"
   ]
  },
  {
   "cell_type": "code",
   "execution_count": null,
   "id": "5ecb51c2",
   "metadata": {},
   "outputs": [],
   "source": [
    "import numpy as np\n",
    "from llama_index.embeddings.huggingface import HuggingFaceEmbedding\n",
    "import math\n",
    "\n"
   ]
  },
  {
   "cell_type": "code",
   "execution_count": 11,
   "id": "9b7073c1",
   "metadata": {},
   "outputs": [],
   "source": [
    "def read_text_file(file_path):\n",
    "    with open(file_path, 'r', encoding='utf-8') as file:\n",
    "        text = file.read()\n",
    "    return text\n",
    "\n",
    "def chunk_text(text, chunk_size):\n",
    "    chunks = [text[i:i+chunk_size] for i in range(0, len(text), chunk_size)]\n",
    "    return chunks\n",
    "\n",
    "def get_embedding_model():\n",
    "    embed_model = HuggingFaceEmbedding(model_name=\"BAAI/bge-small-en-v1.5\")\n",
    "    return embed_model\n",
    "\n",
    "def get_embeddings(embed_model, text: str):\n",
    "    embeddings = embed_model.get_text_embedding(text)\n",
    "    return embeddings\n",
    "\n",
    "def dot_product(vec1, vec2):\n",
    "    return sum(a * b for a, b in zip(vec1, vec2))\n",
    "\n",
    "def magnitude(vec):\n",
    "    return math.sqrt(sum(v**2 for v in vec))\n",
    "\n",
    "def cosine_similarity(vec1, vec2):\n",
    "    dot_prod = dot_product(vec1, vec2)\n",
    "    mag_vec1 = magnitude(vec1)\n",
    "    mag_vec2 = magnitude(vec2)\n",
    "\n",
    "    if mag_vec1 == 0 or mag_vec2 == 0:\n",
    "        return 0  # Handle division by zero\n",
    "\n",
    "    return dot_prod / (mag_vec1 * mag_vec2)"
   ]
  },
  {
   "cell_type": "code",
   "execution_count": 12,
   "id": "78712179",
   "metadata": {},
   "outputs": [],
   "source": [
    "text_file = read_text_file(\"crosve.txt\")\n",
    "chunks = chunk_text(text_file, chunk_size=250)"
   ]
  },
  {
   "cell_type": "code",
   "execution_count": 13,
   "id": "a93cd729",
   "metadata": {},
   "outputs": [
    {
     "data": {
      "application/vnd.jupyter.widget-view+json": {
       "model_id": "4648c8ed3e584001b22555bab53e2aa2",
       "version_major": 2,
       "version_minor": 0
      },
      "text/plain": [
       "modules.json:   0%|          | 0.00/349 [00:00<?, ?B/s]"
      ]
     },
     "metadata": {},
     "output_type": "display_data"
    },
    {
     "name": "stderr",
     "output_type": "stream",
     "text": [
      "c:\\Users\\crosve\\Desktop\\python testing\\cuda\\lib\\site-packages\\huggingface_hub\\file_download.py:143: UserWarning: `huggingface_hub` cache-system uses symlinks by default to efficiently store duplicated files but your machine does not support them in C:\\Users\\crosve\\AppData\\Local\\llama_index\\models--BAAI--bge-small-en-v1.5. Caching files will still work but in a degraded version that might require more space on your disk. This warning can be disabled by setting the `HF_HUB_DISABLE_SYMLINKS_WARNING` environment variable. For more details, see https://huggingface.co/docs/huggingface_hub/how-to-cache#limitations.\n",
      "To support symlinks on Windows, you either need to activate Developer Mode or to run Python as an administrator. In order to activate developer mode, see this article: https://docs.microsoft.com/en-us/windows/apps/get-started/enable-your-device-for-development\n",
      "  warnings.warn(message)\n"
     ]
    },
    {
     "data": {
      "application/vnd.jupyter.widget-view+json": {
       "model_id": "d557153ce1e541d195da17803bbb8dfb",
       "version_major": 2,
       "version_minor": 0
      },
      "text/plain": [
       "config_sentence_transformers.json:   0%|          | 0.00/124 [00:00<?, ?B/s]"
      ]
     },
     "metadata": {},
     "output_type": "display_data"
    },
    {
     "data": {
      "application/vnd.jupyter.widget-view+json": {
       "model_id": "cccb8dc215f044829bdae9a30f5c27fc",
       "version_major": 2,
       "version_minor": 0
      },
      "text/plain": [
       "README.md: 0.00B [00:00, ?B/s]"
      ]
     },
     "metadata": {},
     "output_type": "display_data"
    },
    {
     "data": {
      "application/vnd.jupyter.widget-view+json": {
       "model_id": "d1c927e320f34c3aa9132058b98a006c",
       "version_major": 2,
       "version_minor": 0
      },
      "text/plain": [
       "sentence_bert_config.json:   0%|          | 0.00/52.0 [00:00<?, ?B/s]"
      ]
     },
     "metadata": {},
     "output_type": "display_data"
    },
    {
     "data": {
      "application/vnd.jupyter.widget-view+json": {
       "model_id": "f66c428fa8984bef81c0849fd62b4998",
       "version_major": 2,
       "version_minor": 0
      },
      "text/plain": [
       "config.json:   0%|          | 0.00/743 [00:00<?, ?B/s]"
      ]
     },
     "metadata": {},
     "output_type": "display_data"
    },
    {
     "data": {
      "application/vnd.jupyter.widget-view+json": {
       "model_id": "e807bc784c5e444aad34e952c5a82494",
       "version_major": 2,
       "version_minor": 0
      },
      "text/plain": [
       "model.safetensors:   0%|          | 0.00/133M [00:00<?, ?B/s]"
      ]
     },
     "metadata": {},
     "output_type": "display_data"
    },
    {
     "data": {
      "application/vnd.jupyter.widget-view+json": {
       "model_id": "1e6036aedff1467a8830144350337dfd",
       "version_major": 2,
       "version_minor": 0
      },
      "text/plain": [
       "tokenizer_config.json:   0%|          | 0.00/366 [00:00<?, ?B/s]"
      ]
     },
     "metadata": {},
     "output_type": "display_data"
    },
    {
     "data": {
      "application/vnd.jupyter.widget-view+json": {
       "model_id": "7868e02b878c42dbbad4322ff5f25cdf",
       "version_major": 2,
       "version_minor": 0
      },
      "text/plain": [
       "vocab.txt: 0.00B [00:00, ?B/s]"
      ]
     },
     "metadata": {},
     "output_type": "display_data"
    },
    {
     "data": {
      "application/vnd.jupyter.widget-view+json": {
       "model_id": "746f0bd09b2143cdaabcf801ec6ce191",
       "version_major": 2,
       "version_minor": 0
      },
      "text/plain": [
       "tokenizer.json: 0.00B [00:00, ?B/s]"
      ]
     },
     "metadata": {},
     "output_type": "display_data"
    },
    {
     "data": {
      "application/vnd.jupyter.widget-view+json": {
       "model_id": "600cbe274db947afb318a539b02580e5",
       "version_major": 2,
       "version_minor": 0
      },
      "text/plain": [
       "special_tokens_map.json:   0%|          | 0.00/125 [00:00<?, ?B/s]"
      ]
     },
     "metadata": {},
     "output_type": "display_data"
    },
    {
     "data": {
      "application/vnd.jupyter.widget-view+json": {
       "model_id": "fc1bdc37340b4e72b3019ce844e7cb70",
       "version_major": 2,
       "version_minor": 0
      },
      "text/plain": [
       "config.json:   0%|          | 0.00/190 [00:00<?, ?B/s]"
      ]
     },
     "metadata": {},
     "output_type": "display_data"
    }
   ],
   "source": [
    "embd_model = get_embedding_model()\n"
   ]
  },
  {
   "cell_type": "code",
   "execution_count": null,
   "id": "8becb431",
   "metadata": {},
   "outputs": [],
   "source": [
    "vdb = [] \n",
    "for chunk in chunks:\n",
    "    embd = get_embeddings(embd_model, chunk)\n",
    "    vdb.append(embd)"
   ]
  },
  {
   "cell_type": "code",
   "execution_count": 32,
   "id": "e93cfa2f",
   "metadata": {},
   "outputs": [],
   "source": [
    "query = \"What does crosve like to do when he has free time\"\n",
    "q_embd = get_embeddings(embd_model, query)"
   ]
  },
  {
   "cell_type": "code",
   "execution_count": 33,
   "id": "d49a4246",
   "metadata": {},
   "outputs": [
    {
     "name": "stdout",
     "output_type": "stream",
     "text": [
      "4\n"
     ]
    }
   ],
   "source": [
    "ratings = [cosine_similarity(q_embd, x) for x in vdb]\n",
    "print(len(ratings))\n"
   ]
  },
  {
   "cell_type": "code",
   "execution_count": 34,
   "id": "8cb1e2b8",
   "metadata": {},
   "outputs": [],
   "source": [
    "k = min(5, len(ratings))\n",
    "idx = np.argpartition(ratings, -k)[-k:]  # Indices not sorted"
   ]
  },
  {
   "cell_type": "code",
   "execution_count": 37,
   "id": "85000f78",
   "metadata": {},
   "outputs": [
    {
     "name": "stdout",
     "output_type": "stream",
     "text": [
      "Collecting pinecone\n",
      "  Downloading pinecone-7.3.0-py3-none-any.whl (587 kB)\n",
      "Requirement already satisfied: typing-extensions>=3.7.4 in c:\\users\\crosve\\desktop\\python testing\\cuda\\lib\\site-packages (from pinecone) (4.14.0)\n",
      "Requirement already satisfied: certifi>=2019.11.17 in c:\\users\\crosve\\desktop\\python testing\\cuda\\lib\\site-packages (from pinecone) (2025.6.15)\n",
      "Requirement already satisfied: urllib3>=1.26.0 in c:\\users\\crosve\\desktop\\python testing\\cuda\\lib\\site-packages (from pinecone) (2.5.0)\n",
      "Requirement already satisfied: python-dateutil>=2.5.3 in c:\\users\\crosve\\desktop\\python testing\\cuda\\lib\\site-packages (from pinecone) (2.9.0.post0)\n",
      "Collecting pinecone-plugin-assistant<2.0.0,>=1.6.0\n",
      "  Downloading pinecone_plugin_assistant-1.7.0-py3-none-any.whl (239 kB)\n",
      "Collecting pinecone-plugin-interface<0.0.8,>=0.0.7\n",
      "  Downloading pinecone_plugin_interface-0.0.7-py3-none-any.whl (6.2 kB)\n",
      "Requirement already satisfied: requests<3.0.0,>=2.32.3 in c:\\users\\crosve\\desktop\\python testing\\cuda\\lib\\site-packages (from pinecone-plugin-assistant<2.0.0,>=1.6.0->pinecone) (2.32.4)\n",
      "Collecting packaging<25.0,>=24.2\n",
      "  Using cached packaging-24.2-py3-none-any.whl (65 kB)\n",
      "Requirement already satisfied: six>=1.5 in c:\\users\\crosve\\desktop\\python testing\\cuda\\lib\\site-packages (from python-dateutil>=2.5.3->pinecone) (1.17.0)\n",
      "Requirement already satisfied: idna<4,>=2.5 in c:\\users\\crosve\\desktop\\python testing\\cuda\\lib\\site-packages (from requests<3.0.0,>=2.32.3->pinecone-plugin-assistant<2.0.0,>=1.6.0->pinecone) (3.10)\n",
      "Requirement already satisfied: charset_normalizer<4,>=2 in c:\\users\\crosve\\desktop\\python testing\\cuda\\lib\\site-packages (from requests<3.0.0,>=2.32.3->pinecone-plugin-assistant<2.0.0,>=1.6.0->pinecone) (3.4.2)\n",
      "Installing collected packages: packaging, pinecone-plugin-interface, pinecone-plugin-assistant, pinecone\n",
      "  Attempting uninstall: packaging\n",
      "    Found existing installation: packaging 25.0\n",
      "    Uninstalling packaging-25.0:\n",
      "      Successfully uninstalled packaging-25.0\n",
      "Successfully installed packaging-24.2 pinecone-7.3.0 pinecone-plugin-assistant-1.7.0 pinecone-plugin-interface-0.0.7\n",
      "Note: you may need to restart the kernel to use updated packages.\n"
     ]
    },
    {
     "name": "stderr",
     "output_type": "stream",
     "text": [
      "WARNING: Ignoring invalid distribution -rotobuf (c:\\users\\crosve\\desktop\\python testing\\cuda\\lib\\site-packages)\n",
      "WARNING: Ignoring invalid distribution -rotobuf (c:\\users\\crosve\\desktop\\python testing\\cuda\\lib\\site-packages)\n",
      "WARNING: Ignoring invalid distribution -rotobuf (c:\\users\\crosve\\desktop\\python testing\\cuda\\lib\\site-packages)\n",
      "    WARNING: Ignoring invalid distribution -rotobuf (c:\\users\\crosve\\desktop\\python testing\\cuda\\lib\\site-packages)\n",
      "WARNING: Ignoring invalid distribution -rotobuf (c:\\users\\crosve\\desktop\\python testing\\cuda\\lib\\site-packages)\n",
      "WARNING: Ignoring invalid distribution -rotobuf (c:\\users\\crosve\\desktop\\python testing\\cuda\\lib\\site-packages)\n",
      "WARNING: Ignoring invalid distribution -rotobuf (c:\\users\\crosve\\desktop\\python testing\\cuda\\lib\\site-packages)\n",
      "WARNING: Ignoring invalid distribution -rotobuf (c:\\users\\crosve\\desktop\\python testing\\cuda\\lib\\site-packages)\n",
      "WARNING: Ignoring invalid distribution -rotobuf (c:\\users\\crosve\\desktop\\python testing\\cuda\\lib\\site-packages)\n",
      "WARNING: Ignoring invalid distribution -rotobuf (c:\\users\\crosve\\desktop\\python testing\\cuda\\lib\\site-packages)\n",
      "WARNING: Ignoring invalid distribution -rotobuf (c:\\users\\crosve\\desktop\\python testing\\cuda\\lib\\site-packages)\n",
      "WARNING: You are using pip version 21.2.3; however, version 25.1.1 is available.\n",
      "You should consider upgrading via the 'c:\\Users\\crosve\\Desktop\\python testing\\cuda\\Scripts\\python.exe -m pip install --upgrade pip' command.\n"
     ]
    }
   ],
   "source": [
    "pip install pinecone"
   ]
  },
  {
   "cell_type": "code",
   "execution_count": null,
   "id": "41ea6e08",
   "metadata": {},
   "outputs": [],
   "source": [
    "from pinecone import Pinecone, ServerlessSpec\n",
    "\n",
    "pc = Pinecone(api_key=\"\")\n"
   ]
  },
  {
   "cell_type": "code",
   "execution_count": 39,
   "id": "eec00fef",
   "metadata": {},
   "outputs": [],
   "source": [
    "#Create the index \n",
    "index_name = \"crosve-portfolio\"\n",
    "\n",
    "if not pc.has_index(index_name):\n",
    "    pc.create_index_for_model(\n",
    "        name=index_name,\n",
    "        cloud=\"aws\",\n",
    "        region=\"us-east-1\",\n",
    "        embed={\n",
    "            \"model\":\"llama-text-embed-v2\",\n",
    "            \"field_map\":{\"text\": \"chunk_text\"}\n",
    "        }\n",
    "    )"
   ]
  },
  {
   "cell_type": "code",
   "execution_count": 40,
   "id": "0c5910df",
   "metadata": {},
   "outputs": [
    {
     "ename": "TypeError",
     "evalue": "Column `values` is expected to be a list of floats",
     "output_type": "error",
     "traceback": [
      "\u001b[1;31m---------------------------------------------------------------------------\u001b[0m",
      "\u001b[1;31mTypeError\u001b[0m                                 Traceback (most recent call last)",
      "    \u001b[1;31m[... skipping hidden 1 frame]\u001b[0m\n",
      "Cell \u001b[1;32mIn[40], line 5\u001b[0m\n\u001b[0;32m      3\u001b[0m metadata  \u001b[38;5;241m=\u001b[39m {\u001b[38;5;124m'\u001b[39m\u001b[38;5;124mtext\u001b[39m\u001b[38;5;124m'\u001b[39m : text_file}\n\u001b[1;32m----> 5\u001b[0m \u001b[43mindex\u001b[49m\u001b[38;5;241;43m.\u001b[39;49m\u001b[43mupsert\u001b[49m\u001b[43m(\u001b[49m\u001b[43mvectors\u001b[49m\u001b[38;5;241;43m=\u001b[39;49m\u001b[43m[\u001b[49m\n\u001b[0;32m      6\u001b[0m \u001b[43m    \u001b[49m\u001b[43m{\u001b[49m\u001b[38;5;124;43m\"\u001b[39;49m\u001b[38;5;124;43mid\u001b[39;49m\u001b[38;5;124;43m\"\u001b[39;49m\u001b[43m:\u001b[49m\u001b[43m \u001b[49m\u001b[38;5;124;43m'\u001b[39;49m\u001b[38;5;124;43mdoc-001\u001b[39;49m\u001b[38;5;124;43m'\u001b[39;49m\u001b[43m,\u001b[49m\u001b[43m \u001b[49m\u001b[38;5;124;43m\"\u001b[39;49m\u001b[38;5;124;43mvalues\u001b[39;49m\u001b[38;5;124;43m\"\u001b[39;49m\u001b[43m:\u001b[49m\u001b[43m \u001b[49m\u001b[43mvdb\u001b[49m\u001b[43m,\u001b[49m\u001b[43m \u001b[49m\u001b[38;5;124;43m\"\u001b[39;49m\u001b[38;5;124;43mmetadata\u001b[39;49m\u001b[38;5;124;43m\"\u001b[39;49m\u001b[43m:\u001b[49m\u001b[43m \u001b[49m\u001b[43mmetadata\u001b[49m\u001b[43m}\u001b[49m\n\u001b[0;32m      7\u001b[0m \u001b[43m]\u001b[49m\u001b[43m)\u001b[49m\n",
      "File \u001b[1;32mc:\\Users\\crosve\\Desktop\\python testing\\cuda\\lib\\site-packages\\pinecone\\utils\\error_handling.py:30\u001b[0m, in \u001b[0;36mvalidate_and_convert_errors.<locals>.inner_func\u001b[1;34m(*args, **kwargs)\u001b[0m\n\u001b[0;32m     29\u001b[0m \u001b[38;5;28;01melse\u001b[39;00m:\n\u001b[1;32m---> 30\u001b[0m     \u001b[38;5;28;01mraise\u001b[39;00m e \u001b[38;5;28;01mfrom\u001b[39;00m\u001b[38;5;250m \u001b[39m\u001b[38;5;21;01me\u001b[39;00m\n",
      "File \u001b[1;32mc:\\Users\\crosve\\Desktop\\python testing\\cuda\\lib\\site-packages\\pinecone\\utils\\error_handling.py:15\u001b[0m, in \u001b[0;36mvalidate_and_convert_errors.<locals>.inner_func\u001b[1;34m(*args, **kwargs)\u001b[0m\n\u001b[0;32m     14\u001b[0m \u001b[38;5;28;01mtry\u001b[39;00m:\n\u001b[1;32m---> 15\u001b[0m     \u001b[38;5;28;01mreturn\u001b[39;00m func(\u001b[38;5;241m*\u001b[39margs, \u001b[38;5;241m*\u001b[39m\u001b[38;5;241m*\u001b[39mkwargs)\n\u001b[0;32m     16\u001b[0m \u001b[38;5;28;01mexcept\u001b[39;00m \u001b[38;5;167;01mException\u001b[39;00m \u001b[38;5;28;01mas\u001b[39;00m e:\n\u001b[0;32m     17\u001b[0m     \u001b[38;5;66;03m# Lazy import of urllib3 exceptions\u001b[39;00m\n",
      "File \u001b[1;32mc:\\Users\\crosve\\Desktop\\python testing\\cuda\\lib\\site-packages\\pinecone\\db_data\\index.py:212\u001b[0m, in \u001b[0;36mIndex.upsert\u001b[1;34m(self, vectors, namespace, batch_size, show_progress, **kwargs)\u001b[0m\n\u001b[0;32m    211\u001b[0m \u001b[38;5;28;01mif\u001b[39;00m batch_size \u001b[38;5;129;01mis\u001b[39;00m \u001b[38;5;28;01mNone\u001b[39;00m:\n\u001b[1;32m--> 212\u001b[0m     \u001b[38;5;28;01mreturn\u001b[39;00m \u001b[38;5;28mself\u001b[39m\u001b[38;5;241m.\u001b[39m_upsert_batch(vectors, namespace, _check_type, \u001b[38;5;241m*\u001b[39m\u001b[38;5;241m*\u001b[39mkwargs)\n\u001b[0;32m    214\u001b[0m \u001b[38;5;28;01mif\u001b[39;00m \u001b[38;5;129;01mnot\u001b[39;00m \u001b[38;5;28misinstance\u001b[39m(batch_size, \u001b[38;5;28mint\u001b[39m) \u001b[38;5;129;01mor\u001b[39;00m batch_size \u001b[38;5;241m<\u001b[39m\u001b[38;5;241m=\u001b[39m \u001b[38;5;241m0\u001b[39m:\n",
      "File \u001b[1;32mc:\\Users\\crosve\\Desktop\\python testing\\cuda\\lib\\site-packages\\pinecone\\db_data\\index.py:239\u001b[0m, in \u001b[0;36mIndex._upsert_batch\u001b[1;34m(self, vectors, namespace, _check_type, **kwargs)\u001b[0m\n\u001b[0;32m    229\u001b[0m \u001b[38;5;28;01mdef\u001b[39;00m\u001b[38;5;250m \u001b[39m\u001b[38;5;21m_upsert_batch\u001b[39m(\n\u001b[0;32m    230\u001b[0m     \u001b[38;5;28mself\u001b[39m,\n\u001b[0;32m    231\u001b[0m     vectors: Union[\n\u001b[1;32m   (...)\u001b[0m\n\u001b[0;32m    236\u001b[0m     \u001b[38;5;241m*\u001b[39m\u001b[38;5;241m*\u001b[39mkwargs,\n\u001b[0;32m    237\u001b[0m ) \u001b[38;5;241m-\u001b[39m\u001b[38;5;241m>\u001b[39m UpsertResponse:\n\u001b[0;32m    238\u001b[0m     \u001b[38;5;28;01mreturn\u001b[39;00m \u001b[38;5;28mself\u001b[39m\u001b[38;5;241m.\u001b[39m_vector_api\u001b[38;5;241m.\u001b[39mupsert_vectors(\n\u001b[1;32m--> 239\u001b[0m         IndexRequestFactory\u001b[38;5;241m.\u001b[39mupsert_request(vectors, namespace, _check_type, \u001b[38;5;241m*\u001b[39m\u001b[38;5;241m*\u001b[39mkwargs),\n\u001b[0;32m    240\u001b[0m         \u001b[38;5;241m*\u001b[39m\u001b[38;5;241m*\u001b[39m\u001b[38;5;28mself\u001b[39m\u001b[38;5;241m.\u001b[39m_openapi_kwargs(kwargs),\n\u001b[0;32m    241\u001b[0m     )\n",
      "File \u001b[1;32mc:\\Users\\crosve\\Desktop\\python testing\\cuda\\lib\\site-packages\\pinecone\\db_data\\request_factory.py:93\u001b[0m, in \u001b[0;36mIndexRequestFactory.upsert_request\u001b[1;34m(vectors, namespace, _check_type, **kwargs)\u001b[0m\n\u001b[0;32m     90\u001b[0m     \u001b[38;5;28;01mreturn\u001b[39;00m VectorFactory\u001b[38;5;241m.\u001b[39mbuild(v, check_type\u001b[38;5;241m=\u001b[39m_check_type)\n\u001b[0;32m     92\u001b[0m \u001b[38;5;28;01mreturn\u001b[39;00m UpsertRequest(\n\u001b[1;32m---> 93\u001b[0m     vectors\u001b[38;5;241m=\u001b[39m\u001b[38;5;28;43mlist\u001b[39;49m\u001b[43m(\u001b[49m\u001b[38;5;28;43mmap\u001b[39;49m\u001b[43m(\u001b[49m\u001b[43mvec_builder\u001b[49m\u001b[43m,\u001b[49m\u001b[43m \u001b[49m\u001b[43mvectors\u001b[49m\u001b[43m)\u001b[49m\u001b[43m)\u001b[49m,\n\u001b[0;32m     94\u001b[0m     \u001b[38;5;241m*\u001b[39m\u001b[38;5;241m*\u001b[39margs_dict,\n\u001b[0;32m     95\u001b[0m     _check_type\u001b[38;5;241m=\u001b[39m_check_type,\n\u001b[0;32m     96\u001b[0m     \u001b[38;5;241m*\u001b[39m\u001b[38;5;241m*\u001b[39mnon_openapi_kwargs(kwargs),\n\u001b[0;32m     97\u001b[0m )\n",
      "File \u001b[1;32mc:\\Users\\crosve\\Desktop\\python testing\\cuda\\lib\\site-packages\\pinecone\\db_data\\request_factory.py:90\u001b[0m, in \u001b[0;36mIndexRequestFactory.upsert_request.<locals>.vec_builder\u001b[1;34m(v)\u001b[0m\n\u001b[0;32m     89\u001b[0m \u001b[38;5;28;01mdef\u001b[39;00m\u001b[38;5;250m \u001b[39m\u001b[38;5;21mvec_builder\u001b[39m(v):\n\u001b[1;32m---> 90\u001b[0m     \u001b[38;5;28;01mreturn\u001b[39;00m \u001b[43mVectorFactory\u001b[49m\u001b[38;5;241;43m.\u001b[39;49m\u001b[43mbuild\u001b[49m\u001b[43m(\u001b[49m\u001b[43mv\u001b[49m\u001b[43m,\u001b[49m\u001b[43m \u001b[49m\u001b[43mcheck_type\u001b[49m\u001b[38;5;241;43m=\u001b[39;49m\u001b[43m_check_type\u001b[49m\u001b[43m)\u001b[49m\n",
      "File \u001b[1;32mc:\\Users\\crosve\\Desktop\\python testing\\cuda\\lib\\site-packages\\pinecone\\db_data\\vector_factory.py:50\u001b[0m, in \u001b[0;36mVectorFactory.build\u001b[1;34m(item, check_type)\u001b[0m\n\u001b[0;32m     49\u001b[0m \u001b[38;5;28;01melif\u001b[39;00m \u001b[38;5;28misinstance\u001b[39m(item, Mapping):\n\u001b[1;32m---> 50\u001b[0m     \u001b[38;5;28;01mreturn\u001b[39;00m \u001b[43mVectorFactory\u001b[49m\u001b[38;5;241;43m.\u001b[39;49m\u001b[43m_dict_to_vector\u001b[49m\u001b[43m(\u001b[49m\u001b[43mitem\u001b[49m\u001b[43m,\u001b[49m\u001b[43m \u001b[49m\u001b[43mcheck_type\u001b[49m\u001b[43m)\u001b[49m\n\u001b[0;32m     51\u001b[0m \u001b[38;5;28;01melse\u001b[39;00m:\n",
      "File \u001b[1;32mc:\\Users\\crosve\\Desktop\\python testing\\cuda\\lib\\site-packages\\pinecone\\db_data\\vector_factory.py:108\u001b[0m, in \u001b[0;36mVectorFactory._dict_to_vector\u001b[1;34m(item, check_type)\u001b[0m\n\u001b[0;32m    105\u001b[0m \u001b[38;5;28;01mif\u001b[39;00m \u001b[38;5;129;01mnot\u001b[39;00m \u001b[38;5;28misinstance\u001b[39m(item[\u001b[38;5;124m\"\u001b[39m\u001b[38;5;124mvalues\u001b[39m\u001b[38;5;124m\"\u001b[39m], Iterable) \u001b[38;5;129;01mor\u001b[39;00m \u001b[38;5;129;01mnot\u001b[39;00m \u001b[38;5;28misinstance\u001b[39m(\n\u001b[0;32m    106\u001b[0m     item[\u001b[38;5;124m\"\u001b[39m\u001b[38;5;124mvalues\u001b[39m\u001b[38;5;124m\"\u001b[39m]\u001b[38;5;241m.\u001b[39m\u001b[38;5;21m__iter__\u001b[39m()\u001b[38;5;241m.\u001b[39m\u001b[38;5;21m__next__\u001b[39m(), numbers\u001b[38;5;241m.\u001b[39mReal\n\u001b[0;32m    107\u001b[0m ):\n\u001b[1;32m--> 108\u001b[0m     \u001b[38;5;28;01mraise\u001b[39;00m \u001b[38;5;167;01mTypeError\u001b[39;00m(\u001b[38;5;124m\"\u001b[39m\u001b[38;5;124mColumn `values` is expected to be a list of floats\u001b[39m\u001b[38;5;124m\"\u001b[39m)\n\u001b[0;32m    109\u001b[0m \u001b[38;5;28;01mraise\u001b[39;00m e\n",
      "\u001b[1;31mTypeError\u001b[0m: Column `values` is expected to be a list of floats",
      "\nThe above exception was the direct cause of the following exception:\n",
      "\u001b[1;31mTypeError\u001b[0m                                 Traceback (most recent call last)",
      "    \u001b[1;31m[... skipping hidden 1 frame]\u001b[0m\n",
      "Cell \u001b[1;32mIn[40], line 5\u001b[0m\n\u001b[0;32m      3\u001b[0m metadata  \u001b[38;5;241m=\u001b[39m {\u001b[38;5;124m'\u001b[39m\u001b[38;5;124mtext\u001b[39m\u001b[38;5;124m'\u001b[39m : text_file}\n\u001b[1;32m----> 5\u001b[0m \u001b[43mindex\u001b[49m\u001b[38;5;241;43m.\u001b[39;49m\u001b[43mupsert\u001b[49m\u001b[43m(\u001b[49m\u001b[43mvectors\u001b[49m\u001b[38;5;241;43m=\u001b[39;49m\u001b[43m[\u001b[49m\n\u001b[0;32m      6\u001b[0m \u001b[43m    \u001b[49m\u001b[43m{\u001b[49m\u001b[38;5;124;43m\"\u001b[39;49m\u001b[38;5;124;43mid\u001b[39;49m\u001b[38;5;124;43m\"\u001b[39;49m\u001b[43m:\u001b[49m\u001b[43m \u001b[49m\u001b[38;5;124;43m'\u001b[39;49m\u001b[38;5;124;43mdoc-001\u001b[39;49m\u001b[38;5;124;43m'\u001b[39;49m\u001b[43m,\u001b[49m\u001b[43m \u001b[49m\u001b[38;5;124;43m\"\u001b[39;49m\u001b[38;5;124;43mvalues\u001b[39;49m\u001b[38;5;124;43m\"\u001b[39;49m\u001b[43m:\u001b[49m\u001b[43m \u001b[49m\u001b[43mvdb\u001b[49m\u001b[43m,\u001b[49m\u001b[43m \u001b[49m\u001b[38;5;124;43m\"\u001b[39;49m\u001b[38;5;124;43mmetadata\u001b[39;49m\u001b[38;5;124;43m\"\u001b[39;49m\u001b[43m:\u001b[49m\u001b[43m \u001b[49m\u001b[43mmetadata\u001b[49m\u001b[43m}\u001b[49m\n\u001b[0;32m      7\u001b[0m \u001b[43m]\u001b[49m\u001b[43m)\u001b[49m\n",
      "File \u001b[1;32mc:\\Users\\crosve\\Desktop\\python testing\\cuda\\lib\\site-packages\\pinecone\\utils\\error_handling.py:30\u001b[0m, in \u001b[0;36mvalidate_and_convert_errors.<locals>.inner_func\u001b[1;34m(*args, **kwargs)\u001b[0m\n\u001b[0;32m     29\u001b[0m \u001b[38;5;28;01melse\u001b[39;00m:\n\u001b[1;32m---> 30\u001b[0m     \u001b[38;5;28;01mraise\u001b[39;00m e \u001b[38;5;28;01mfrom\u001b[39;00m\u001b[38;5;250m \u001b[39m\u001b[38;5;21;01me\u001b[39;00m\n",
      "File \u001b[1;32mc:\\Users\\crosve\\Desktop\\python testing\\cuda\\lib\\site-packages\\pinecone\\utils\\error_handling.py:15\u001b[0m, in \u001b[0;36mvalidate_and_convert_errors.<locals>.inner_func\u001b[1;34m(*args, **kwargs)\u001b[0m\n\u001b[0;32m     14\u001b[0m \u001b[38;5;28;01mtry\u001b[39;00m:\n\u001b[1;32m---> 15\u001b[0m     \u001b[38;5;28;01mreturn\u001b[39;00m func(\u001b[38;5;241m*\u001b[39margs, \u001b[38;5;241m*\u001b[39m\u001b[38;5;241m*\u001b[39mkwargs)\n\u001b[0;32m     16\u001b[0m \u001b[38;5;28;01mexcept\u001b[39;00m \u001b[38;5;167;01mException\u001b[39;00m \u001b[38;5;28;01mas\u001b[39;00m e:\n\u001b[0;32m     17\u001b[0m     \u001b[38;5;66;03m# Lazy import of urllib3 exceptions\u001b[39;00m\n",
      "File \u001b[1;32mc:\\Users\\crosve\\Desktop\\python testing\\cuda\\lib\\site-packages\\pinecone\\db_data\\index.py:212\u001b[0m, in \u001b[0;36mIndex.upsert\u001b[1;34m(self, vectors, namespace, batch_size, show_progress, **kwargs)\u001b[0m\n\u001b[0;32m    211\u001b[0m \u001b[38;5;28;01mif\u001b[39;00m batch_size \u001b[38;5;129;01mis\u001b[39;00m \u001b[38;5;28;01mNone\u001b[39;00m:\n\u001b[1;32m--> 212\u001b[0m     \u001b[38;5;28;01mreturn\u001b[39;00m \u001b[38;5;28mself\u001b[39m\u001b[38;5;241m.\u001b[39m_upsert_batch(vectors, namespace, _check_type, \u001b[38;5;241m*\u001b[39m\u001b[38;5;241m*\u001b[39mkwargs)\n\u001b[0;32m    214\u001b[0m \u001b[38;5;28;01mif\u001b[39;00m \u001b[38;5;129;01mnot\u001b[39;00m \u001b[38;5;28misinstance\u001b[39m(batch_size, \u001b[38;5;28mint\u001b[39m) \u001b[38;5;129;01mor\u001b[39;00m batch_size \u001b[38;5;241m<\u001b[39m\u001b[38;5;241m=\u001b[39m \u001b[38;5;241m0\u001b[39m:\n",
      "File \u001b[1;32mc:\\Users\\crosve\\Desktop\\python testing\\cuda\\lib\\site-packages\\pinecone\\db_data\\index.py:239\u001b[0m, in \u001b[0;36mIndex._upsert_batch\u001b[1;34m(self, vectors, namespace, _check_type, **kwargs)\u001b[0m\n\u001b[0;32m    229\u001b[0m \u001b[38;5;28;01mdef\u001b[39;00m\u001b[38;5;250m \u001b[39m\u001b[38;5;21m_upsert_batch\u001b[39m(\n\u001b[0;32m    230\u001b[0m     \u001b[38;5;28mself\u001b[39m,\n\u001b[0;32m    231\u001b[0m     vectors: Union[\n\u001b[1;32m   (...)\u001b[0m\n\u001b[0;32m    236\u001b[0m     \u001b[38;5;241m*\u001b[39m\u001b[38;5;241m*\u001b[39mkwargs,\n\u001b[0;32m    237\u001b[0m ) \u001b[38;5;241m-\u001b[39m\u001b[38;5;241m>\u001b[39m UpsertResponse:\n\u001b[0;32m    238\u001b[0m     \u001b[38;5;28;01mreturn\u001b[39;00m \u001b[38;5;28mself\u001b[39m\u001b[38;5;241m.\u001b[39m_vector_api\u001b[38;5;241m.\u001b[39mupsert_vectors(\n\u001b[1;32m--> 239\u001b[0m         IndexRequestFactory\u001b[38;5;241m.\u001b[39mupsert_request(vectors, namespace, _check_type, \u001b[38;5;241m*\u001b[39m\u001b[38;5;241m*\u001b[39mkwargs),\n\u001b[0;32m    240\u001b[0m         \u001b[38;5;241m*\u001b[39m\u001b[38;5;241m*\u001b[39m\u001b[38;5;28mself\u001b[39m\u001b[38;5;241m.\u001b[39m_openapi_kwargs(kwargs),\n\u001b[0;32m    241\u001b[0m     )\n",
      "File \u001b[1;32mc:\\Users\\crosve\\Desktop\\python testing\\cuda\\lib\\site-packages\\pinecone\\db_data\\request_factory.py:93\u001b[0m, in \u001b[0;36mIndexRequestFactory.upsert_request\u001b[1;34m(vectors, namespace, _check_type, **kwargs)\u001b[0m\n\u001b[0;32m     90\u001b[0m     \u001b[38;5;28;01mreturn\u001b[39;00m VectorFactory\u001b[38;5;241m.\u001b[39mbuild(v, check_type\u001b[38;5;241m=\u001b[39m_check_type)\n\u001b[0;32m     92\u001b[0m \u001b[38;5;28;01mreturn\u001b[39;00m UpsertRequest(\n\u001b[1;32m---> 93\u001b[0m     vectors\u001b[38;5;241m=\u001b[39m\u001b[38;5;28;43mlist\u001b[39;49m\u001b[43m(\u001b[49m\u001b[38;5;28;43mmap\u001b[39;49m\u001b[43m(\u001b[49m\u001b[43mvec_builder\u001b[49m\u001b[43m,\u001b[49m\u001b[43m \u001b[49m\u001b[43mvectors\u001b[49m\u001b[43m)\u001b[49m\u001b[43m)\u001b[49m,\n\u001b[0;32m     94\u001b[0m     \u001b[38;5;241m*\u001b[39m\u001b[38;5;241m*\u001b[39margs_dict,\n\u001b[0;32m     95\u001b[0m     _check_type\u001b[38;5;241m=\u001b[39m_check_type,\n\u001b[0;32m     96\u001b[0m     \u001b[38;5;241m*\u001b[39m\u001b[38;5;241m*\u001b[39mnon_openapi_kwargs(kwargs),\n\u001b[0;32m     97\u001b[0m )\n",
      "File \u001b[1;32mc:\\Users\\crosve\\Desktop\\python testing\\cuda\\lib\\site-packages\\pinecone\\db_data\\request_factory.py:90\u001b[0m, in \u001b[0;36mIndexRequestFactory.upsert_request.<locals>.vec_builder\u001b[1;34m(v)\u001b[0m\n\u001b[0;32m     89\u001b[0m \u001b[38;5;28;01mdef\u001b[39;00m\u001b[38;5;250m \u001b[39m\u001b[38;5;21mvec_builder\u001b[39m(v):\n\u001b[1;32m---> 90\u001b[0m     \u001b[38;5;28;01mreturn\u001b[39;00m \u001b[43mVectorFactory\u001b[49m\u001b[38;5;241;43m.\u001b[39;49m\u001b[43mbuild\u001b[49m\u001b[43m(\u001b[49m\u001b[43mv\u001b[49m\u001b[43m,\u001b[49m\u001b[43m \u001b[49m\u001b[43mcheck_type\u001b[49m\u001b[38;5;241;43m=\u001b[39;49m\u001b[43m_check_type\u001b[49m\u001b[43m)\u001b[49m\n",
      "File \u001b[1;32mc:\\Users\\crosve\\Desktop\\python testing\\cuda\\lib\\site-packages\\pinecone\\db_data\\vector_factory.py:50\u001b[0m, in \u001b[0;36mVectorFactory.build\u001b[1;34m(item, check_type)\u001b[0m\n\u001b[0;32m     49\u001b[0m \u001b[38;5;28;01melif\u001b[39;00m \u001b[38;5;28misinstance\u001b[39m(item, Mapping):\n\u001b[1;32m---> 50\u001b[0m     \u001b[38;5;28;01mreturn\u001b[39;00m \u001b[43mVectorFactory\u001b[49m\u001b[38;5;241;43m.\u001b[39;49m\u001b[43m_dict_to_vector\u001b[49m\u001b[43m(\u001b[49m\u001b[43mitem\u001b[49m\u001b[43m,\u001b[49m\u001b[43m \u001b[49m\u001b[43mcheck_type\u001b[49m\u001b[43m)\u001b[49m\n\u001b[0;32m     51\u001b[0m \u001b[38;5;28;01melse\u001b[39;00m:\n",
      "File \u001b[1;32mc:\\Users\\crosve\\Desktop\\python testing\\cuda\\lib\\site-packages\\pinecone\\db_data\\vector_factory.py:108\u001b[0m, in \u001b[0;36mVectorFactory._dict_to_vector\u001b[1;34m(item, check_type)\u001b[0m\n\u001b[0;32m    105\u001b[0m \u001b[38;5;28;01mif\u001b[39;00m \u001b[38;5;129;01mnot\u001b[39;00m \u001b[38;5;28misinstance\u001b[39m(item[\u001b[38;5;124m\"\u001b[39m\u001b[38;5;124mvalues\u001b[39m\u001b[38;5;124m\"\u001b[39m], Iterable) \u001b[38;5;129;01mor\u001b[39;00m \u001b[38;5;129;01mnot\u001b[39;00m \u001b[38;5;28misinstance\u001b[39m(\n\u001b[0;32m    106\u001b[0m     item[\u001b[38;5;124m\"\u001b[39m\u001b[38;5;124mvalues\u001b[39m\u001b[38;5;124m\"\u001b[39m]\u001b[38;5;241m.\u001b[39m\u001b[38;5;21m__iter__\u001b[39m()\u001b[38;5;241m.\u001b[39m\u001b[38;5;21m__next__\u001b[39m(), numbers\u001b[38;5;241m.\u001b[39mReal\n\u001b[0;32m    107\u001b[0m ):\n\u001b[1;32m--> 108\u001b[0m     \u001b[38;5;28;01mraise\u001b[39;00m \u001b[38;5;167;01mTypeError\u001b[39;00m(\u001b[38;5;124m\"\u001b[39m\u001b[38;5;124mColumn `values` is expected to be a list of floats\u001b[39m\u001b[38;5;124m\"\u001b[39m)\n\u001b[0;32m    109\u001b[0m \u001b[38;5;28;01mraise\u001b[39;00m e\n",
      "\u001b[1;31mTypeError\u001b[0m: Column `values` is expected to be a list of floats",
      "\nThe above exception was the direct cause of the following exception:\n",
      "\u001b[1;31mTypeError\u001b[0m                                 Traceback (most recent call last)",
      "Cell \u001b[1;32mIn[40], line 5\u001b[0m\n\u001b[0;32m      1\u001b[0m index \u001b[38;5;241m=\u001b[39m pc\u001b[38;5;241m.\u001b[39mIndex(\u001b[38;5;124m\"\u001b[39m\u001b[38;5;124mcrosve-portfolio\u001b[39m\u001b[38;5;124m\"\u001b[39m)\n\u001b[0;32m      3\u001b[0m metadata  \u001b[38;5;241m=\u001b[39m {\u001b[38;5;124m'\u001b[39m\u001b[38;5;124mtext\u001b[39m\u001b[38;5;124m'\u001b[39m : text_file}\n\u001b[1;32m----> 5\u001b[0m \u001b[43mindex\u001b[49m\u001b[38;5;241;43m.\u001b[39;49m\u001b[43mupsert\u001b[49m\u001b[43m(\u001b[49m\u001b[43mvectors\u001b[49m\u001b[38;5;241;43m=\u001b[39;49m\u001b[43m[\u001b[49m\n\u001b[0;32m      6\u001b[0m \u001b[43m    \u001b[49m\u001b[43m{\u001b[49m\u001b[38;5;124;43m\"\u001b[39;49m\u001b[38;5;124;43mid\u001b[39;49m\u001b[38;5;124;43m\"\u001b[39;49m\u001b[43m:\u001b[49m\u001b[43m \u001b[49m\u001b[38;5;124;43m'\u001b[39;49m\u001b[38;5;124;43mdoc-001\u001b[39;49m\u001b[38;5;124;43m'\u001b[39;49m\u001b[43m,\u001b[49m\u001b[43m \u001b[49m\u001b[38;5;124;43m\"\u001b[39;49m\u001b[38;5;124;43mvalues\u001b[39;49m\u001b[38;5;124;43m\"\u001b[39;49m\u001b[43m:\u001b[49m\u001b[43m \u001b[49m\u001b[43mvdb\u001b[49m\u001b[43m,\u001b[49m\u001b[43m \u001b[49m\u001b[38;5;124;43m\"\u001b[39;49m\u001b[38;5;124;43mmetadata\u001b[39;49m\u001b[38;5;124;43m\"\u001b[39;49m\u001b[43m:\u001b[49m\u001b[43m \u001b[49m\u001b[43mmetadata\u001b[49m\u001b[43m}\u001b[49m\n\u001b[0;32m      7\u001b[0m \u001b[43m]\u001b[49m\u001b[43m)\u001b[49m\n",
      "File \u001b[1;32mc:\\Users\\crosve\\Desktop\\python testing\\cuda\\lib\\site-packages\\pinecone\\utils\\error_handling.py:30\u001b[0m, in \u001b[0;36mvalidate_and_convert_errors.<locals>.inner_func\u001b[1;34m(*args, **kwargs)\u001b[0m\n\u001b[0;32m     26\u001b[0m     \u001b[38;5;28;01mraise\u001b[39;00m ProtocolError(\n\u001b[0;32m     27\u001b[0m         \u001b[38;5;124m\"\u001b[39m\u001b[38;5;124mConnection failed. Please verify that the index host is correct and accessible.\u001b[39m\u001b[38;5;124m\"\u001b[39m\n\u001b[0;32m     28\u001b[0m     ) \u001b[38;5;28;01mfrom\u001b[39;00m\u001b[38;5;250m \u001b[39m\u001b[38;5;21;01me\u001b[39;00m\n\u001b[0;32m     29\u001b[0m \u001b[38;5;28;01melse\u001b[39;00m:\n\u001b[1;32m---> 30\u001b[0m     \u001b[38;5;28;01mraise\u001b[39;00m e \u001b[38;5;28;01mfrom\u001b[39;00m\u001b[38;5;250m \u001b[39m\u001b[38;5;21;01me\u001b[39;00m\n",
      "File \u001b[1;32mc:\\Users\\crosve\\Desktop\\python testing\\cuda\\lib\\site-packages\\pinecone\\utils\\error_handling.py:15\u001b[0m, in \u001b[0;36mvalidate_and_convert_errors.<locals>.inner_func\u001b[1;34m(*args, **kwargs)\u001b[0m\n\u001b[0;32m     12\u001b[0m \u001b[38;5;129m@wraps\u001b[39m(func)\n\u001b[0;32m     13\u001b[0m \u001b[38;5;28;01mdef\u001b[39;00m\u001b[38;5;250m \u001b[39m\u001b[38;5;21minner_func\u001b[39m(\u001b[38;5;241m*\u001b[39margs, \u001b[38;5;241m*\u001b[39m\u001b[38;5;241m*\u001b[39mkwargs):\n\u001b[0;32m     14\u001b[0m     \u001b[38;5;28;01mtry\u001b[39;00m:\n\u001b[1;32m---> 15\u001b[0m         \u001b[38;5;28;01mreturn\u001b[39;00m func(\u001b[38;5;241m*\u001b[39margs, \u001b[38;5;241m*\u001b[39m\u001b[38;5;241m*\u001b[39mkwargs)\n\u001b[0;32m     16\u001b[0m     \u001b[38;5;28;01mexcept\u001b[39;00m \u001b[38;5;167;01mException\u001b[39;00m \u001b[38;5;28;01mas\u001b[39;00m e:\n\u001b[0;32m     17\u001b[0m         \u001b[38;5;66;03m# Lazy import of urllib3 exceptions\u001b[39;00m\n\u001b[0;32m     18\u001b[0m         \u001b[38;5;28;01mfrom\u001b[39;00m\u001b[38;5;250m \u001b[39m\u001b[38;5;21;01murllib3\u001b[39;00m\u001b[38;5;21;01m.\u001b[39;00m\u001b[38;5;21;01mexceptions\u001b[39;00m\u001b[38;5;250m \u001b[39m\u001b[38;5;28;01mimport\u001b[39;00m MaxRetryError, ProtocolError \u001b[38;5;28;01mas\u001b[39;00m Urllib3ProtocolError\n",
      "File \u001b[1;32mc:\\Users\\crosve\\Desktop\\python testing\\cuda\\lib\\site-packages\\pinecone\\db_data\\index.py:212\u001b[0m, in \u001b[0;36mIndex.upsert\u001b[1;34m(self, vectors, namespace, batch_size, show_progress, **kwargs)\u001b[0m\n\u001b[0;32m    205\u001b[0m     \u001b[38;5;28;01mraise\u001b[39;00m \u001b[38;5;167;01mValueError\u001b[39;00m(\n\u001b[0;32m    206\u001b[0m         \u001b[38;5;124m\"\u001b[39m\u001b[38;5;124masync_req is not supported when batch_size is provided.\u001b[39m\u001b[38;5;124m\"\u001b[39m\n\u001b[0;32m    207\u001b[0m         \u001b[38;5;124m\"\u001b[39m\u001b[38;5;124mTo upsert in parallel, please follow: \u001b[39m\u001b[38;5;124m\"\u001b[39m\n\u001b[0;32m    208\u001b[0m         \u001b[38;5;124m\"\u001b[39m\u001b[38;5;124mhttps://docs.pinecone.io/docs/insert-data#sending-upserts-in-parallel\u001b[39m\u001b[38;5;124m\"\u001b[39m\n\u001b[0;32m    209\u001b[0m     )\n\u001b[0;32m    211\u001b[0m \u001b[38;5;28;01mif\u001b[39;00m batch_size \u001b[38;5;129;01mis\u001b[39;00m \u001b[38;5;28;01mNone\u001b[39;00m:\n\u001b[1;32m--> 212\u001b[0m     \u001b[38;5;28;01mreturn\u001b[39;00m \u001b[38;5;28mself\u001b[39m\u001b[38;5;241m.\u001b[39m_upsert_batch(vectors, namespace, _check_type, \u001b[38;5;241m*\u001b[39m\u001b[38;5;241m*\u001b[39mkwargs)\n\u001b[0;32m    214\u001b[0m \u001b[38;5;28;01mif\u001b[39;00m \u001b[38;5;129;01mnot\u001b[39;00m \u001b[38;5;28misinstance\u001b[39m(batch_size, \u001b[38;5;28mint\u001b[39m) \u001b[38;5;129;01mor\u001b[39;00m batch_size \u001b[38;5;241m<\u001b[39m\u001b[38;5;241m=\u001b[39m \u001b[38;5;241m0\u001b[39m:\n\u001b[0;32m    215\u001b[0m     \u001b[38;5;28;01mraise\u001b[39;00m \u001b[38;5;167;01mValueError\u001b[39;00m(\u001b[38;5;124m\"\u001b[39m\u001b[38;5;124mbatch_size must be a positive integer\u001b[39m\u001b[38;5;124m\"\u001b[39m)\n",
      "File \u001b[1;32mc:\\Users\\crosve\\Desktop\\python testing\\cuda\\lib\\site-packages\\pinecone\\db_data\\index.py:239\u001b[0m, in \u001b[0;36mIndex._upsert_batch\u001b[1;34m(self, vectors, namespace, _check_type, **kwargs)\u001b[0m\n\u001b[0;32m    229\u001b[0m \u001b[38;5;28;01mdef\u001b[39;00m\u001b[38;5;250m \u001b[39m\u001b[38;5;21m_upsert_batch\u001b[39m(\n\u001b[0;32m    230\u001b[0m     \u001b[38;5;28mself\u001b[39m,\n\u001b[0;32m    231\u001b[0m     vectors: Union[\n\u001b[1;32m   (...)\u001b[0m\n\u001b[0;32m    236\u001b[0m     \u001b[38;5;241m*\u001b[39m\u001b[38;5;241m*\u001b[39mkwargs,\n\u001b[0;32m    237\u001b[0m ) \u001b[38;5;241m-\u001b[39m\u001b[38;5;241m>\u001b[39m UpsertResponse:\n\u001b[0;32m    238\u001b[0m     \u001b[38;5;28;01mreturn\u001b[39;00m \u001b[38;5;28mself\u001b[39m\u001b[38;5;241m.\u001b[39m_vector_api\u001b[38;5;241m.\u001b[39mupsert_vectors(\n\u001b[1;32m--> 239\u001b[0m         IndexRequestFactory\u001b[38;5;241m.\u001b[39mupsert_request(vectors, namespace, _check_type, \u001b[38;5;241m*\u001b[39m\u001b[38;5;241m*\u001b[39mkwargs),\n\u001b[0;32m    240\u001b[0m         \u001b[38;5;241m*\u001b[39m\u001b[38;5;241m*\u001b[39m\u001b[38;5;28mself\u001b[39m\u001b[38;5;241m.\u001b[39m_openapi_kwargs(kwargs),\n\u001b[0;32m    241\u001b[0m     )\n",
      "File \u001b[1;32mc:\\Users\\crosve\\Desktop\\python testing\\cuda\\lib\\site-packages\\pinecone\\db_data\\request_factory.py:93\u001b[0m, in \u001b[0;36mIndexRequestFactory.upsert_request\u001b[1;34m(vectors, namespace, _check_type, **kwargs)\u001b[0m\n\u001b[0;32m     89\u001b[0m \u001b[38;5;28;01mdef\u001b[39;00m\u001b[38;5;250m \u001b[39m\u001b[38;5;21mvec_builder\u001b[39m(v):\n\u001b[0;32m     90\u001b[0m     \u001b[38;5;28;01mreturn\u001b[39;00m VectorFactory\u001b[38;5;241m.\u001b[39mbuild(v, check_type\u001b[38;5;241m=\u001b[39m_check_type)\n\u001b[0;32m     92\u001b[0m \u001b[38;5;28;01mreturn\u001b[39;00m UpsertRequest(\n\u001b[1;32m---> 93\u001b[0m     vectors\u001b[38;5;241m=\u001b[39m\u001b[38;5;28;43mlist\u001b[39;49m\u001b[43m(\u001b[49m\u001b[38;5;28;43mmap\u001b[39;49m\u001b[43m(\u001b[49m\u001b[43mvec_builder\u001b[49m\u001b[43m,\u001b[49m\u001b[43m \u001b[49m\u001b[43mvectors\u001b[49m\u001b[43m)\u001b[49m\u001b[43m)\u001b[49m,\n\u001b[0;32m     94\u001b[0m     \u001b[38;5;241m*\u001b[39m\u001b[38;5;241m*\u001b[39margs_dict,\n\u001b[0;32m     95\u001b[0m     _check_type\u001b[38;5;241m=\u001b[39m_check_type,\n\u001b[0;32m     96\u001b[0m     \u001b[38;5;241m*\u001b[39m\u001b[38;5;241m*\u001b[39mnon_openapi_kwargs(kwargs),\n\u001b[0;32m     97\u001b[0m )\n",
      "File \u001b[1;32mc:\\Users\\crosve\\Desktop\\python testing\\cuda\\lib\\site-packages\\pinecone\\db_data\\request_factory.py:90\u001b[0m, in \u001b[0;36mIndexRequestFactory.upsert_request.<locals>.vec_builder\u001b[1;34m(v)\u001b[0m\n\u001b[0;32m     89\u001b[0m \u001b[38;5;28;01mdef\u001b[39;00m\u001b[38;5;250m \u001b[39m\u001b[38;5;21mvec_builder\u001b[39m(v):\n\u001b[1;32m---> 90\u001b[0m     \u001b[38;5;28;01mreturn\u001b[39;00m \u001b[43mVectorFactory\u001b[49m\u001b[38;5;241;43m.\u001b[39;49m\u001b[43mbuild\u001b[49m\u001b[43m(\u001b[49m\u001b[43mv\u001b[49m\u001b[43m,\u001b[49m\u001b[43m \u001b[49m\u001b[43mcheck_type\u001b[49m\u001b[38;5;241;43m=\u001b[39;49m\u001b[43m_check_type\u001b[49m\u001b[43m)\u001b[49m\n",
      "File \u001b[1;32mc:\\Users\\crosve\\Desktop\\python testing\\cuda\\lib\\site-packages\\pinecone\\db_data\\vector_factory.py:50\u001b[0m, in \u001b[0;36mVectorFactory.build\u001b[1;34m(item, check_type)\u001b[0m\n\u001b[0;32m     48\u001b[0m     \u001b[38;5;28;01mreturn\u001b[39;00m VectorFactory\u001b[38;5;241m.\u001b[39m_tuple_to_vector(item, check_type)\n\u001b[0;32m     49\u001b[0m \u001b[38;5;28;01melif\u001b[39;00m \u001b[38;5;28misinstance\u001b[39m(item, Mapping):\n\u001b[1;32m---> 50\u001b[0m     \u001b[38;5;28;01mreturn\u001b[39;00m \u001b[43mVectorFactory\u001b[49m\u001b[38;5;241;43m.\u001b[39;49m\u001b[43m_dict_to_vector\u001b[49m\u001b[43m(\u001b[49m\u001b[43mitem\u001b[49m\u001b[43m,\u001b[49m\u001b[43m \u001b[49m\u001b[43mcheck_type\u001b[49m\u001b[43m)\u001b[49m\n\u001b[0;32m     51\u001b[0m \u001b[38;5;28;01melse\u001b[39;00m:\n\u001b[0;32m     52\u001b[0m     \u001b[38;5;28;01mraise\u001b[39;00m \u001b[38;5;167;01mValueError\u001b[39;00m(\u001b[38;5;124mf\u001b[39m\u001b[38;5;124m\"\u001b[39m\u001b[38;5;124mInvalid vector value passed: cannot interpret type \u001b[39m\u001b[38;5;132;01m{\u001b[39;00m\u001b[38;5;28mtype\u001b[39m(item)\u001b[38;5;132;01m}\u001b[39;00m\u001b[38;5;124m\"\u001b[39m)\n",
      "File \u001b[1;32mc:\\Users\\crosve\\Desktop\\python testing\\cuda\\lib\\site-packages\\pinecone\\db_data\\vector_factory.py:108\u001b[0m, in \u001b[0;36mVectorFactory._dict_to_vector\u001b[1;34m(item, check_type)\u001b[0m\n\u001b[0;32m    104\u001b[0m \u001b[38;5;28;01mexcept\u001b[39;00m \u001b[38;5;167;01mTypeError\u001b[39;00m \u001b[38;5;28;01mas\u001b[39;00m e:\n\u001b[0;32m    105\u001b[0m     \u001b[38;5;28;01mif\u001b[39;00m \u001b[38;5;129;01mnot\u001b[39;00m \u001b[38;5;28misinstance\u001b[39m(item[\u001b[38;5;124m\"\u001b[39m\u001b[38;5;124mvalues\u001b[39m\u001b[38;5;124m\"\u001b[39m], Iterable) \u001b[38;5;129;01mor\u001b[39;00m \u001b[38;5;129;01mnot\u001b[39;00m \u001b[38;5;28misinstance\u001b[39m(\n\u001b[0;32m    106\u001b[0m         item[\u001b[38;5;124m\"\u001b[39m\u001b[38;5;124mvalues\u001b[39m\u001b[38;5;124m\"\u001b[39m]\u001b[38;5;241m.\u001b[39m\u001b[38;5;21m__iter__\u001b[39m()\u001b[38;5;241m.\u001b[39m\u001b[38;5;21m__next__\u001b[39m(), numbers\u001b[38;5;241m.\u001b[39mReal\n\u001b[0;32m    107\u001b[0m     ):\n\u001b[1;32m--> 108\u001b[0m         \u001b[38;5;28;01mraise\u001b[39;00m \u001b[38;5;167;01mTypeError\u001b[39;00m(\u001b[38;5;124m\"\u001b[39m\u001b[38;5;124mColumn `values` is expected to be a list of floats\u001b[39m\u001b[38;5;124m\"\u001b[39m)\n\u001b[0;32m    109\u001b[0m     \u001b[38;5;28;01mraise\u001b[39;00m e\n",
      "\u001b[1;31mTypeError\u001b[0m: Column `values` is expected to be a list of floats"
     ]
    }
   ],
   "source": [
    "index = pc.Index(\"crosve-portfolio\")\n",
    "\n",
    "metadata  = {'text' : text_file}\n",
    "\n",
    "index.upsert(vectors=[\n",
    "    {\"id\": 'doc-001', \"values\": vdb, \"metadata\": metadata}\n",
    "])"
   ]
  },
  {
   "cell_type": "code",
   "execution_count": 35,
   "id": "230bf540",
   "metadata": {},
   "outputs": [],
   "source": [
    "prompt = f\"You are a smart agent. A question would be asked to you and relevant information would be provided.\\\n",
    "    Your task is to answer the question and use the information provided. Question - {query}. Relevant Information - {[chunks[index] for index in idx]}. You may also use \\\n",
    "    any addional information you may find on the web to help you answer the question as well\""
   ]
  },
  {
   "cell_type": "code",
   "execution_count": 28,
   "id": "5e8c0db6",
   "metadata": {},
   "outputs": [
    {
     "name": "stdout",
     "output_type": "stream",
     "text": [
      "Collecting llama-index-llms-google-genai\n",
      "  Downloading llama_index_llms_google_genai-0.2.2-py3-none-any.whl (11 kB)\n",
      "Requirement already satisfied: llama-index in c:\\users\\crosve\\desktop\\python testing\\cuda\\lib\\site-packages (0.12.44)\n",
      "Requirement already satisfied: pillow>=10.2.0 in c:\\users\\crosve\\desktop\\python testing\\cuda\\lib\\site-packages (from llama-index-llms-google-genai) (11.0.0)\n",
      "Collecting google-genai>=1.4.0\n",
      "  Downloading google_genai-1.23.0-py3-none-any.whl (223 kB)\n",
      "Requirement already satisfied: llama-index-core<0.13,>=0.12.36 in c:\\users\\crosve\\desktop\\python testing\\cuda\\lib\\site-packages (from llama-index-llms-google-genai) (0.12.44)\n",
      "Requirement already satisfied: llama-index-agent-openai<0.5,>=0.4.0 in c:\\users\\crosve\\desktop\\python testing\\cuda\\lib\\site-packages (from llama-index) (0.4.11)\n",
      "Requirement already satisfied: llama-index-embeddings-openai<0.4,>=0.3.0 in c:\\users\\crosve\\desktop\\python testing\\cuda\\lib\\site-packages (from llama-index) (0.3.1)\n",
      "Requirement already satisfied: llama-index-readers-file<0.5,>=0.4.0 in c:\\users\\crosve\\desktop\\python testing\\cuda\\lib\\site-packages (from llama-index) (0.4.9)\n",
      "Requirement already satisfied: llama-index-readers-llama-parse>=0.4.0 in c:\\users\\crosve\\desktop\\python testing\\cuda\\lib\\site-packages (from llama-index) (0.4.0)\n",
      "Requirement already satisfied: llama-index-question-gen-openai<0.4,>=0.3.0 in c:\\users\\crosve\\desktop\\python testing\\cuda\\lib\\site-packages (from llama-index) (0.3.1)\n",
      "Requirement already satisfied: llama-index-indices-managed-llama-cloud>=0.4.0 in c:\\users\\crosve\\desktop\\python testing\\cuda\\lib\\site-packages (from llama-index) (0.7.7)\n",
      "Requirement already satisfied: llama-index-multi-modal-llms-openai<0.6,>=0.5.0 in c:\\users\\crosve\\desktop\\python testing\\cuda\\lib\\site-packages (from llama-index) (0.5.1)\n",
      "Requirement already satisfied: llama-index-program-openai<0.4,>=0.3.0 in c:\\users\\crosve\\desktop\\python testing\\cuda\\lib\\site-packages (from llama-index) (0.3.2)\n",
      "Requirement already satisfied: llama-index-cli<0.5,>=0.4.2 in c:\\users\\crosve\\desktop\\python testing\\cuda\\lib\\site-packages (from llama-index) (0.4.3)\n",
      "Requirement already satisfied: llama-index-llms-openai<0.5,>=0.4.0 in c:\\users\\crosve\\desktop\\python testing\\cuda\\lib\\site-packages (from llama-index) (0.4.7)\n",
      "Requirement already satisfied: nltk>3.8.1 in c:\\users\\crosve\\desktop\\python testing\\cuda\\lib\\site-packages (from llama-index) (3.9.1)\n",
      "Requirement already satisfied: google-auth<3.0.0,>=2.14.1 in c:\\users\\crosve\\desktop\\python testing\\cuda\\lib\\site-packages (from google-genai>=1.4.0->llama-index-llms-google-genai) (2.40.3)\n",
      "Requirement already satisfied: requests<3.0.0,>=2.28.1 in c:\\users\\crosve\\desktop\\python testing\\cuda\\lib\\site-packages (from google-genai>=1.4.0->llama-index-llms-google-genai) (2.32.4)\n",
      "Requirement already satisfied: pydantic<3.0.0,>=2.0.0 in c:\\users\\crosve\\desktop\\python testing\\cuda\\lib\\site-packages (from google-genai>=1.4.0->llama-index-llms-google-genai) (2.11.7)\n",
      "Collecting websockets<15.1.0,>=13.0.0\n",
      "  Using cached websockets-15.0.1-cp310-cp310-win_amd64.whl (176 kB)\n",
      "Collecting tenacity<9.0.0,>=8.2.3\n",
      "  Downloading tenacity-8.5.0-py3-none-any.whl (28 kB)\n",
      "Requirement already satisfied: httpx<1.0.0,>=0.28.1 in c:\\users\\crosve\\desktop\\python testing\\cuda\\lib\\site-packages (from google-genai>=1.4.0->llama-index-llms-google-genai) (0.28.1)\n",
      "Requirement already satisfied: anyio<5.0.0,>=4.8.0 in c:\\users\\crosve\\desktop\\python testing\\cuda\\lib\\site-packages (from google-genai>=1.4.0->llama-index-llms-google-genai) (4.9.0)\n",
      "Requirement already satisfied: typing-extensions<5.0.0,>=4.11.0 in c:\\users\\crosve\\desktop\\python testing\\cuda\\lib\\site-packages (from google-genai>=1.4.0->llama-index-llms-google-genai) (4.14.0)\n",
      "Requirement already satisfied: idna>=2.8 in c:\\users\\crosve\\desktop\\python testing\\cuda\\lib\\site-packages (from anyio<5.0.0,>=4.8.0->google-genai>=1.4.0->llama-index-llms-google-genai) (3.10)\n",
      "Requirement already satisfied: exceptiongroup>=1.0.2 in c:\\users\\crosve\\desktop\\python testing\\cuda\\lib\\site-packages (from anyio<5.0.0,>=4.8.0->google-genai>=1.4.0->llama-index-llms-google-genai) (1.3.0)\n",
      "Requirement already satisfied: sniffio>=1.1 in c:\\users\\crosve\\desktop\\python testing\\cuda\\lib\\site-packages (from anyio<5.0.0,>=4.8.0->google-genai>=1.4.0->llama-index-llms-google-genai) (1.3.1)\n",
      "Requirement already satisfied: cachetools<6.0,>=2.0.0 in c:\\users\\crosve\\desktop\\python testing\\cuda\\lib\\site-packages (from google-auth<3.0.0,>=2.14.1->google-genai>=1.4.0->llama-index-llms-google-genai) (5.5.2)\n",
      "Requirement already satisfied: rsa<5,>=3.1.4 in c:\\users\\crosve\\desktop\\python testing\\cuda\\lib\\site-packages (from google-auth<3.0.0,>=2.14.1->google-genai>=1.4.0->llama-index-llms-google-genai) (4.9.1)\n",
      "Requirement already satisfied: pyasn1-modules>=0.2.1 in c:\\users\\crosve\\desktop\\python testing\\cuda\\lib\\site-packages (from google-auth<3.0.0,>=2.14.1->google-genai>=1.4.0->llama-index-llms-google-genai) (0.4.2)\n",
      "Requirement already satisfied: httpcore==1.* in c:\\users\\crosve\\desktop\\python testing\\cuda\\lib\\site-packages (from httpx<1.0.0,>=0.28.1->google-genai>=1.4.0->llama-index-llms-google-genai) (1.0.9)\n",
      "Requirement already satisfied: certifi in c:\\users\\crosve\\desktop\\python testing\\cuda\\lib\\site-packages (from httpx<1.0.0,>=0.28.1->google-genai>=1.4.0->llama-index-llms-google-genai) (2025.6.15)\n",
      "Requirement already satisfied: h11>=0.16 in c:\\users\\crosve\\desktop\\python testing\\cuda\\lib\\site-packages (from httpcore==1.*->httpx<1.0.0,>=0.28.1->google-genai>=1.4.0->llama-index-llms-google-genai) (0.16.0)\n",
      "Requirement already satisfied: openai>=1.14.0 in c:\\users\\crosve\\desktop\\python testing\\cuda\\lib\\site-packages (from llama-index-agent-openai<0.5,>=0.4.0->llama-index) (1.93.0)\n",
      "Requirement already satisfied: nest-asyncio<2,>=1.5.8 in c:\\users\\crosve\\desktop\\python testing\\cuda\\lib\\site-packages (from llama-index-core<0.13,>=0.12.36->llama-index-llms-google-genai) (1.6.0)\n",
      "Requirement already satisfied: pyyaml>=6.0.1 in c:\\users\\crosve\\desktop\\python testing\\cuda\\lib\\site-packages (from llama-index-core<0.13,>=0.12.36->llama-index-llms-google-genai) (6.0.2)\n",
      "Requirement already satisfied: wrapt in c:\\users\\crosve\\desktop\\python testing\\cuda\\lib\\site-packages (from llama-index-core<0.13,>=0.12.36->llama-index-llms-google-genai) (1.17.2)\n",
      "Requirement already satisfied: aiohttp<4,>=3.8.6 in c:\\users\\crosve\\desktop\\python testing\\cuda\\lib\\site-packages (from llama-index-core<0.13,>=0.12.36->llama-index-llms-google-genai) (3.12.13)\n",
      "Requirement already satisfied: tiktoken>=0.7.0 in c:\\users\\crosve\\desktop\\python testing\\cuda\\lib\\site-packages (from llama-index-core<0.13,>=0.12.36->llama-index-llms-google-genai) (0.9.0)\n",
      "Requirement already satisfied: sqlalchemy[asyncio]>=1.4.49 in c:\\users\\crosve\\desktop\\python testing\\cuda\\lib\\site-packages (from llama-index-core<0.13,>=0.12.36->llama-index-llms-google-genai) (2.0.41)\n",
      "Requirement already satisfied: networkx>=3.0 in c:\\users\\crosve\\desktop\\python testing\\cuda\\lib\\site-packages (from llama-index-core<0.13,>=0.12.36->llama-index-llms-google-genai) (3.3)\n",
      "Requirement already satisfied: filetype<2,>=1.2.0 in c:\\users\\crosve\\desktop\\python testing\\cuda\\lib\\site-packages (from llama-index-core<0.13,>=0.12.36->llama-index-llms-google-genai) (1.2.0)\n",
      "Requirement already satisfied: typing-inspect>=0.8.0 in c:\\users\\crosve\\desktop\\python testing\\cuda\\lib\\site-packages (from llama-index-core<0.13,>=0.12.36->llama-index-llms-google-genai) (0.9.0)\n",
      "Requirement already satisfied: fsspec>=2023.5.0 in c:\\users\\crosve\\desktop\\python testing\\cuda\\lib\\site-packages (from llama-index-core<0.13,>=0.12.36->llama-index-llms-google-genai) (2024.6.1)\n",
      "Requirement already satisfied: aiosqlite in c:\\users\\crosve\\desktop\\python testing\\cuda\\lib\\site-packages (from llama-index-core<0.13,>=0.12.36->llama-index-llms-google-genai) (0.21.0)\n",
      "Requirement already satisfied: llama-index-workflows<2,>=1.0.1 in c:\\users\\crosve\\desktop\\python testing\\cuda\\lib\\site-packages (from llama-index-core<0.13,>=0.12.36->llama-index-llms-google-genai) (1.0.1)\n",
      "Requirement already satisfied: numpy in c:\\users\\crosve\\desktop\\python testing\\cuda\\lib\\site-packages (from llama-index-core<0.13,>=0.12.36->llama-index-llms-google-genai) (2.1.2)\n",
      "Requirement already satisfied: deprecated>=1.2.9.3 in c:\\users\\crosve\\desktop\\python testing\\cuda\\lib\\site-packages (from llama-index-core<0.13,>=0.12.36->llama-index-llms-google-genai) (1.2.18)\n",
      "Requirement already satisfied: tqdm<5,>=4.66.1 in c:\\users\\crosve\\desktop\\python testing\\cuda\\lib\\site-packages (from llama-index-core<0.13,>=0.12.36->llama-index-llms-google-genai) (4.67.1)\n",
      "Requirement already satisfied: banks<3,>=2.0.0 in c:\\users\\crosve\\desktop\\python testing\\cuda\\lib\\site-packages (from llama-index-core<0.13,>=0.12.36->llama-index-llms-google-genai) (2.1.3)\n",
      "Requirement already satisfied: setuptools>=80.9.0 in c:\\users\\crosve\\desktop\\python testing\\cuda\\lib\\site-packages (from llama-index-core<0.13,>=0.12.36->llama-index-llms-google-genai) (80.9.0)\n",
      "Requirement already satisfied: dataclasses-json in c:\\users\\crosve\\desktop\\python testing\\cuda\\lib\\site-packages (from llama-index-core<0.13,>=0.12.36->llama-index-llms-google-genai) (0.6.7)\n",
      "Requirement already satisfied: dirtyjson<2,>=1.0.8 in c:\\users\\crosve\\desktop\\python testing\\cuda\\lib\\site-packages (from llama-index-core<0.13,>=0.12.36->llama-index-llms-google-genai) (1.0.8)\n",
      "Requirement already satisfied: attrs>=17.3.0 in c:\\users\\crosve\\desktop\\python testing\\cuda\\lib\\site-packages (from aiohttp<4,>=3.8.6->llama-index-core<0.13,>=0.12.36->llama-index-llms-google-genai) (25.3.0)\n",
      "Requirement already satisfied: aiosignal>=1.1.2 in c:\\users\\crosve\\desktop\\python testing\\cuda\\lib\\site-packages (from aiohttp<4,>=3.8.6->llama-index-core<0.13,>=0.12.36->llama-index-llms-google-genai) (1.3.2)\n",
      "Requirement already satisfied: aiohappyeyeballs>=2.5.0 in c:\\users\\crosve\\desktop\\python testing\\cuda\\lib\\site-packages (from aiohttp<4,>=3.8.6->llama-index-core<0.13,>=0.12.36->llama-index-llms-google-genai) (2.6.1)\n",
      "Requirement already satisfied: propcache>=0.2.0 in c:\\users\\crosve\\desktop\\python testing\\cuda\\lib\\site-packages (from aiohttp<4,>=3.8.6->llama-index-core<0.13,>=0.12.36->llama-index-llms-google-genai) (0.3.2)\n",
      "Requirement already satisfied: yarl<2.0,>=1.17.0 in c:\\users\\crosve\\desktop\\python testing\\cuda\\lib\\site-packages (from aiohttp<4,>=3.8.6->llama-index-core<0.13,>=0.12.36->llama-index-llms-google-genai) (1.20.1)\n",
      "Requirement already satisfied: async-timeout<6.0,>=4.0 in c:\\users\\crosve\\desktop\\python testing\\cuda\\lib\\site-packages (from aiohttp<4,>=3.8.6->llama-index-core<0.13,>=0.12.36->llama-index-llms-google-genai) (5.0.1)\n",
      "Requirement already satisfied: multidict<7.0,>=4.5 in c:\\users\\crosve\\desktop\\python testing\\cuda\\lib\\site-packages (from aiohttp<4,>=3.8.6->llama-index-core<0.13,>=0.12.36->llama-index-llms-google-genai) (6.6.2)\n",
      "Requirement already satisfied: frozenlist>=1.1.1 in c:\\users\\crosve\\desktop\\python testing\\cuda\\lib\\site-packages (from aiohttp<4,>=3.8.6->llama-index-core<0.13,>=0.12.36->llama-index-llms-google-genai) (1.7.0)\n",
      "Requirement already satisfied: jinja2 in c:\\users\\crosve\\desktop\\python testing\\cuda\\lib\\site-packages (from banks<3,>=2.0.0->llama-index-core<0.13,>=0.12.36->llama-index-llms-google-genai) (3.1.6)\n",
      "Requirement already satisfied: platformdirs in c:\\users\\crosve\\desktop\\python testing\\cuda\\lib\\site-packages (from banks<3,>=2.0.0->llama-index-core<0.13,>=0.12.36->llama-index-llms-google-genai) (4.3.8)\n",
      "Requirement already satisfied: griffe in c:\\users\\crosve\\desktop\\python testing\\cuda\\lib\\site-packages (from banks<3,>=2.0.0->llama-index-core<0.13,>=0.12.36->llama-index-llms-google-genai) (1.7.3)\n",
      "Requirement already satisfied: llama-cloud==0.1.26 in c:\\users\\crosve\\desktop\\python testing\\cuda\\lib\\site-packages (from llama-index-indices-managed-llama-cloud>=0.4.0->llama-index) (0.1.26)\n",
      "Requirement already satisfied: pandas<2.3.0 in c:\\users\\crosve\\desktop\\python testing\\cuda\\lib\\site-packages (from llama-index-readers-file<0.5,>=0.4.0->llama-index) (2.2.3)\n",
      "Requirement already satisfied: striprtf<0.0.27,>=0.0.26 in c:\\users\\crosve\\desktop\\python testing\\cuda\\lib\\site-packages (from llama-index-readers-file<0.5,>=0.4.0->llama-index) (0.0.26)\n",
      "Requirement already satisfied: pypdf<6,>=5.1.0 in c:\\users\\crosve\\desktop\\python testing\\cuda\\lib\\site-packages (from llama-index-readers-file<0.5,>=0.4.0->llama-index) (5.6.1)\n",
      "Requirement already satisfied: beautifulsoup4<5,>=4.12.3 in c:\\users\\crosve\\desktop\\python testing\\cuda\\lib\\site-packages (from llama-index-readers-file<0.5,>=0.4.0->llama-index) (4.13.4)\n",
      "Requirement already satisfied: soupsieve>1.2 in c:\\users\\crosve\\desktop\\python testing\\cuda\\lib\\site-packages (from beautifulsoup4<5,>=4.12.3->llama-index-readers-file<0.5,>=0.4.0->llama-index) (2.7)\n",
      "Requirement already satisfied: llama-parse>=0.5.0 in c:\\users\\crosve\\desktop\\python testing\\cuda\\lib\\site-packages (from llama-index-readers-llama-parse>=0.4.0->llama-index) (0.6.34)\n",
      "Requirement already satisfied: llama-index-instrumentation>=0.1.0 in c:\\users\\crosve\\desktop\\python testing\\cuda\\lib\\site-packages (from llama-index-workflows<2,>=1.0.1->llama-index-core<0.13,>=0.12.36->llama-index-llms-google-genai) (0.2.0)\n",
      "Requirement already satisfied: llama-cloud-services>=0.6.32 in c:\\users\\crosve\\desktop\\python testing\\cuda\\lib\\site-packages (from llama-parse>=0.5.0->llama-index-readers-llama-parse>=0.4.0->llama-index) (0.6.34)\n",
      "Requirement already satisfied: click<9.0.0,>=8.1.7 in c:\\users\\crosve\\desktop\\python testing\\cuda\\lib\\site-packages (from llama-cloud-services>=0.6.32->llama-parse>=0.5.0->llama-index-readers-llama-parse>=0.4.0->llama-index) (8.2.1)\n",
      "Requirement already satisfied: python-dotenv<2.0.0,>=1.0.1 in c:\\users\\crosve\\desktop\\python testing\\cuda\\lib\\site-packages (from llama-cloud-services>=0.6.32->llama-parse>=0.5.0->llama-index-readers-llama-parse>=0.4.0->llama-index) (1.1.1)\n",
      "Requirement already satisfied: colorama in c:\\users\\crosve\\desktop\\python testing\\cuda\\lib\\site-packages (from click<9.0.0,>=8.1.7->llama-cloud-services>=0.6.32->llama-parse>=0.5.0->llama-index-readers-llama-parse>=0.4.0->llama-index) (0.4.6)\n",
      "Requirement already satisfied: joblib in c:\\users\\crosve\\desktop\\python testing\\cuda\\lib\\site-packages (from nltk>3.8.1->llama-index) (1.5.1)\n",
      "Requirement already satisfied: regex>=2021.8.3 in c:\\users\\crosve\\desktop\\python testing\\cuda\\lib\\site-packages (from nltk>3.8.1->llama-index) (2024.11.6)\n",
      "Requirement already satisfied: jiter<1,>=0.4.0 in c:\\users\\crosve\\desktop\\python testing\\cuda\\lib\\site-packages (from openai>=1.14.0->llama-index-agent-openai<0.5,>=0.4.0->llama-index) (0.10.0)\n",
      "Requirement already satisfied: distro<2,>=1.7.0 in c:\\users\\crosve\\desktop\\python testing\\cuda\\lib\\site-packages (from openai>=1.14.0->llama-index-agent-openai<0.5,>=0.4.0->llama-index) (1.9.0)\n",
      "Requirement already satisfied: tzdata>=2022.7 in c:\\users\\crosve\\desktop\\python testing\\cuda\\lib\\site-packages (from pandas<2.3.0->llama-index-readers-file<0.5,>=0.4.0->llama-index) (2025.2)\n",
      "Requirement already satisfied: pytz>=2020.1 in c:\\users\\crosve\\desktop\\python testing\\cuda\\lib\\site-packages (from pandas<2.3.0->llama-index-readers-file<0.5,>=0.4.0->llama-index) (2025.2)\n",
      "Requirement already satisfied: python-dateutil>=2.8.2 in c:\\users\\crosve\\desktop\\python testing\\cuda\\lib\\site-packages (from pandas<2.3.0->llama-index-readers-file<0.5,>=0.4.0->llama-index) (2.9.0.post0)\n",
      "Requirement already satisfied: pyasn1<0.7.0,>=0.6.1 in c:\\users\\crosve\\desktop\\python testing\\cuda\\lib\\site-packages (from pyasn1-modules>=0.2.1->google-auth<3.0.0,>=2.14.1->google-genai>=1.4.0->llama-index-llms-google-genai) (0.6.1)\n",
      "Requirement already satisfied: typing-inspection>=0.4.0 in c:\\users\\crosve\\desktop\\python testing\\cuda\\lib\\site-packages (from pydantic<3.0.0,>=2.0.0->google-genai>=1.4.0->llama-index-llms-google-genai) (0.4.1)\n",
      "Requirement already satisfied: annotated-types>=0.6.0 in c:\\users\\crosve\\desktop\\python testing\\cuda\\lib\\site-packages (from pydantic<3.0.0,>=2.0.0->google-genai>=1.4.0->llama-index-llms-google-genai) (0.7.0)\n",
      "Requirement already satisfied: pydantic-core==2.33.2 in c:\\users\\crosve\\desktop\\python testing\\cuda\\lib\\site-packages (from pydantic<3.0.0,>=2.0.0->google-genai>=1.4.0->llama-index-llms-google-genai) (2.33.2)\n",
      "Requirement already satisfied: six>=1.5 in c:\\users\\crosve\\desktop\\python testing\\cuda\\lib\\site-packages (from python-dateutil>=2.8.2->pandas<2.3.0->llama-index-readers-file<0.5,>=0.4.0->llama-index) (1.17.0)\n",
      "Requirement already satisfied: charset_normalizer<4,>=2 in c:\\users\\crosve\\desktop\\python testing\\cuda\\lib\\site-packages (from requests<3.0.0,>=2.28.1->google-genai>=1.4.0->llama-index-llms-google-genai) (3.4.2)\n",
      "Requirement already satisfied: urllib3<3,>=1.21.1 in c:\\users\\crosve\\desktop\\python testing\\cuda\\lib\\site-packages (from requests<3.0.0,>=2.28.1->google-genai>=1.4.0->llama-index-llms-google-genai) (2.5.0)\n",
      "Requirement already satisfied: greenlet>=1 in c:\\users\\crosve\\desktop\\python testing\\cuda\\lib\\site-packages (from sqlalchemy[asyncio]>=1.4.49->llama-index-core<0.13,>=0.12.36->llama-index-llms-google-genai) (3.2.3)\n",
      "Requirement already satisfied: mypy-extensions>=0.3.0 in c:\\users\\crosve\\desktop\\python testing\\cuda\\lib\\site-packages (from typing-inspect>=0.8.0->llama-index-core<0.13,>=0.12.36->llama-index-llms-google-genai) (1.1.0)\n",
      "Requirement already satisfied: marshmallow<4.0.0,>=3.18.0 in c:\\users\\crosve\\desktop\\python testing\\cuda\\lib\\site-packages (from dataclasses-json->llama-index-core<0.13,>=0.12.36->llama-index-llms-google-genai) (3.26.1)\n",
      "Requirement already satisfied: packaging>=17.0 in c:\\users\\crosve\\desktop\\python testing\\cuda\\lib\\site-packages (from marshmallow<4.0.0,>=3.18.0->dataclasses-json->llama-index-core<0.13,>=0.12.36->llama-index-llms-google-genai) (25.0)\n",
      "Requirement already satisfied: MarkupSafe>=2.0 in c:\\users\\crosve\\desktop\\python testing\\cuda\\lib\\site-packages (from jinja2->banks<3,>=2.0.0->llama-index-core<0.13,>=0.12.36->llama-index-llms-google-genai) (3.0.2)\n",
      "Installing collected packages: tenacity, websockets, google-genai, llama-index-llms-google-genai\n",
      "  Attempting uninstall: tenacity\n",
      "    Found existing installation: tenacity 9.1.2\n",
      "    Uninstalling tenacity-9.1.2:\n",
      "      Successfully uninstalled tenacity-9.1.2\n",
      "Successfully installed google-genai-1.23.0 llama-index-llms-google-genai-0.2.2 tenacity-8.5.0 websockets-15.0.1\n",
      "Note: you may need to restart the kernel to use updated packages.\n"
     ]
    },
    {
     "name": "stderr",
     "output_type": "stream",
     "text": [
      "WARNING: Ignoring invalid distribution -rotobuf (c:\\users\\crosve\\desktop\\python testing\\cuda\\lib\\site-packages)\n",
      "WARNING: Ignoring invalid distribution -rotobuf (c:\\users\\crosve\\desktop\\python testing\\cuda\\lib\\site-packages)\n",
      "WARNING: Ignoring invalid distribution -rotobuf (c:\\users\\crosve\\desktop\\python testing\\cuda\\lib\\site-packages)\n",
      "    WARNING: Ignoring invalid distribution -rotobuf (c:\\users\\crosve\\desktop\\python testing\\cuda\\lib\\site-packages)\n",
      "WARNING: Ignoring invalid distribution -rotobuf (c:\\users\\crosve\\desktop\\python testing\\cuda\\lib\\site-packages)\n",
      "WARNING: Ignoring invalid distribution -rotobuf (c:\\users\\crosve\\desktop\\python testing\\cuda\\lib\\site-packages)\n",
      "WARNING: Ignoring invalid distribution -rotobuf (c:\\users\\crosve\\desktop\\python testing\\cuda\\lib\\site-packages)\n",
      "WARNING: Ignoring invalid distribution -rotobuf (c:\\users\\crosve\\desktop\\python testing\\cuda\\lib\\site-packages)\n",
      "WARNING: Ignoring invalid distribution -rotobuf (c:\\users\\crosve\\desktop\\python testing\\cuda\\lib\\site-packages)\n",
      "WARNING: Ignoring invalid distribution -rotobuf (c:\\users\\crosve\\desktop\\python testing\\cuda\\lib\\site-packages)\n",
      "WARNING: Ignoring invalid distribution -rotobuf (c:\\users\\crosve\\desktop\\python testing\\cuda\\lib\\site-packages)\n",
      "WARNING: You are using pip version 21.2.3; however, version 25.1.1 is available.\n",
      "You should consider upgrading via the 'c:\\Users\\crosve\\Desktop\\python testing\\cuda\\Scripts\\python.exe -m pip install --upgrade pip' command.\n"
     ]
    }
   ],
   "source": [
    "%pip install llama-index-llms-google-genai llama-index"
   ]
  },
  {
   "cell_type": "code",
   "execution_count": null,
   "id": "f502aa51",
   "metadata": {},
   "outputs": [
    {
     "name": "stdout",
     "output_type": "stream",
     "text": [
      "Based on the information provided, crosve enjoys the following activities in his free time:\n",
      "\n",
      "*   Going to the gym\n",
      "*   Running\n",
      "*   Exploring coffee shops around NYC\n",
      "*   Working on his passion project called csphere\n",
      "*   Self-improvement (making himself 1 percent better day by day)\n"
     ]
    }
   ],
   "source": [
    "from llama_index.llms.google_genai import GoogleGenAI\n",
    "\n",
    "\n",
    "llm = GoogleGenAI(\n",
    "    model=\"gemini-2.0-flash\",\n",
    "    api_key=\"\",  # uses GOOGLE_API_KEY env var by default\n",
    ")\n",
    "\n",
    "response = llm.complete(prompt)\n",
    "print(response.text)"
   ]
  }
 ],
 "metadata": {
  "kernelspec": {
   "display_name": "cuda",
   "language": "python",
   "name": "python3"
  },
  "language_info": {
   "codemirror_mode": {
    "name": "ipython",
    "version": 3
   },
   "file_extension": ".py",
   "mimetype": "text/x-python",
   "name": "python",
   "nbconvert_exporter": "python",
   "pygments_lexer": "ipython3",
   "version": "3.10.0"
  }
 },
 "nbformat": 4,
 "nbformat_minor": 5
}
